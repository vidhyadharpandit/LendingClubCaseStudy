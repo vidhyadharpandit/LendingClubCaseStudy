{
 "cells": [
  {
   "cell_type": "code",
   "execution_count": 1,
   "id": "472651c2-b42f-44f6-bda2-7aff036e2bb3",
   "metadata": {},
   "outputs": [],
   "source": [
    "# import necessary python libraries"
   ]
  },
  {
   "cell_type": "code",
   "execution_count": 2,
   "id": "269581c8-953a-4acc-b3ee-ff5a9e0ddae6",
   "metadata": {},
   "outputs": [],
   "source": [
    "import pandas as pd\n",
    "import matplotlib.pyplot as plt\n",
    "import numpy as np\n",
    "import seaborn as sns\n",
    "\n",
    "import warnings\n",
    "warnings.filterwarnings('ignore')"
   ]
  },
  {
   "cell_type": "code",
   "execution_count": 3,
   "id": "4fe46a86-c3e7-432f-82da-e523f8f367fe",
   "metadata": {},
   "outputs": [],
   "source": [
    "# show all rows in pandas commands\n",
    "# pd.set_option(\"display.max_rows\", None)"
   ]
  },
  {
   "cell_type": "code",
   "execution_count": 4,
   "id": "291d0f03-448a-4a46-a12a-5861be6a65ee",
   "metadata": {},
   "outputs": [],
   "source": [
    "# load dataset"
   ]
  },
  {
   "cell_type": "code",
   "execution_count": 6,
   "id": "f4b35462-a8d4-4f12-9ecd-daf6fd8ad6fe",
   "metadata": {},
   "outputs": [],
   "source": [
    "df = pd.read_csv('loan.csv')"
   ]
  },
  {
   "cell_type": "code",
   "execution_count": 7,
   "id": "9bdd0366-a54d-4be9-b629-1000957116ff",
   "metadata": {},
   "outputs": [],
   "source": [
    "# data understanding"
   ]
  },
  {
   "cell_type": "code",
   "execution_count": 8,
   "id": "6e4d550f-4d07-4a6a-bb60-5a4a55c35c38",
   "metadata": {},
   "outputs": [
    {
     "data": {
      "text/plain": [
       "(39717, 111)"
      ]
     },
     "execution_count": 8,
     "metadata": {},
     "output_type": "execute_result"
    }
   ],
   "source": [
    "df.shape"
   ]
  },
  {
   "cell_type": "code",
   "execution_count": 9,
   "id": "9b411b57-2747-4734-ab2c-1e4fa55af89a",
   "metadata": {},
   "outputs": [
    {
     "name": "stdout",
     "output_type": "stream",
     "text": [
      "<class 'pandas.core.frame.DataFrame'>\n",
      "RangeIndex: 39717 entries, 0 to 39716\n",
      "Columns: 111 entries, id to total_il_high_credit_limit\n",
      "dtypes: float64(74), int64(13), object(24)\n",
      "memory usage: 33.6+ MB\n"
     ]
    }
   ],
   "source": [
    "df.info()"
   ]
  },
  {
   "cell_type": "code",
   "execution_count": 10,
   "id": "ca28b559-5d92-49a8-bbc9-ec353dbb0265",
   "metadata": {},
   "outputs": [
    {
     "data": {
      "text/html": [
       "<div>\n",
       "<style scoped>\n",
       "    .dataframe tbody tr th:only-of-type {\n",
       "        vertical-align: middle;\n",
       "    }\n",
       "\n",
       "    .dataframe tbody tr th {\n",
       "        vertical-align: top;\n",
       "    }\n",
       "\n",
       "    .dataframe thead th {\n",
       "        text-align: right;\n",
       "    }\n",
       "</style>\n",
       "<table border=\"1\" class=\"dataframe\">\n",
       "  <thead>\n",
       "    <tr style=\"text-align: right;\">\n",
       "      <th></th>\n",
       "      <th>id</th>\n",
       "      <th>member_id</th>\n",
       "      <th>loan_amnt</th>\n",
       "      <th>funded_amnt</th>\n",
       "      <th>funded_amnt_inv</th>\n",
       "      <th>term</th>\n",
       "      <th>int_rate</th>\n",
       "      <th>installment</th>\n",
       "      <th>grade</th>\n",
       "      <th>sub_grade</th>\n",
       "      <th>...</th>\n",
       "      <th>num_tl_90g_dpd_24m</th>\n",
       "      <th>num_tl_op_past_12m</th>\n",
       "      <th>pct_tl_nvr_dlq</th>\n",
       "      <th>percent_bc_gt_75</th>\n",
       "      <th>pub_rec_bankruptcies</th>\n",
       "      <th>tax_liens</th>\n",
       "      <th>tot_hi_cred_lim</th>\n",
       "      <th>total_bal_ex_mort</th>\n",
       "      <th>total_bc_limit</th>\n",
       "      <th>total_il_high_credit_limit</th>\n",
       "    </tr>\n",
       "  </thead>\n",
       "  <tbody>\n",
       "    <tr>\n",
       "      <th>0</th>\n",
       "      <td>1077501</td>\n",
       "      <td>1296599</td>\n",
       "      <td>5000</td>\n",
       "      <td>5000</td>\n",
       "      <td>4975.0</td>\n",
       "      <td>36 months</td>\n",
       "      <td>10.65%</td>\n",
       "      <td>162.87</td>\n",
       "      <td>B</td>\n",
       "      <td>B2</td>\n",
       "      <td>...</td>\n",
       "      <td>NaN</td>\n",
       "      <td>NaN</td>\n",
       "      <td>NaN</td>\n",
       "      <td>NaN</td>\n",
       "      <td>0.0</td>\n",
       "      <td>0.0</td>\n",
       "      <td>NaN</td>\n",
       "      <td>NaN</td>\n",
       "      <td>NaN</td>\n",
       "      <td>NaN</td>\n",
       "    </tr>\n",
       "    <tr>\n",
       "      <th>1</th>\n",
       "      <td>1077430</td>\n",
       "      <td>1314167</td>\n",
       "      <td>2500</td>\n",
       "      <td>2500</td>\n",
       "      <td>2500.0</td>\n",
       "      <td>60 months</td>\n",
       "      <td>15.27%</td>\n",
       "      <td>59.83</td>\n",
       "      <td>C</td>\n",
       "      <td>C4</td>\n",
       "      <td>...</td>\n",
       "      <td>NaN</td>\n",
       "      <td>NaN</td>\n",
       "      <td>NaN</td>\n",
       "      <td>NaN</td>\n",
       "      <td>0.0</td>\n",
       "      <td>0.0</td>\n",
       "      <td>NaN</td>\n",
       "      <td>NaN</td>\n",
       "      <td>NaN</td>\n",
       "      <td>NaN</td>\n",
       "    </tr>\n",
       "    <tr>\n",
       "      <th>2</th>\n",
       "      <td>1077175</td>\n",
       "      <td>1313524</td>\n",
       "      <td>2400</td>\n",
       "      <td>2400</td>\n",
       "      <td>2400.0</td>\n",
       "      <td>36 months</td>\n",
       "      <td>15.96%</td>\n",
       "      <td>84.33</td>\n",
       "      <td>C</td>\n",
       "      <td>C5</td>\n",
       "      <td>...</td>\n",
       "      <td>NaN</td>\n",
       "      <td>NaN</td>\n",
       "      <td>NaN</td>\n",
       "      <td>NaN</td>\n",
       "      <td>0.0</td>\n",
       "      <td>0.0</td>\n",
       "      <td>NaN</td>\n",
       "      <td>NaN</td>\n",
       "      <td>NaN</td>\n",
       "      <td>NaN</td>\n",
       "    </tr>\n",
       "    <tr>\n",
       "      <th>3</th>\n",
       "      <td>1076863</td>\n",
       "      <td>1277178</td>\n",
       "      <td>10000</td>\n",
       "      <td>10000</td>\n",
       "      <td>10000.0</td>\n",
       "      <td>36 months</td>\n",
       "      <td>13.49%</td>\n",
       "      <td>339.31</td>\n",
       "      <td>C</td>\n",
       "      <td>C1</td>\n",
       "      <td>...</td>\n",
       "      <td>NaN</td>\n",
       "      <td>NaN</td>\n",
       "      <td>NaN</td>\n",
       "      <td>NaN</td>\n",
       "      <td>0.0</td>\n",
       "      <td>0.0</td>\n",
       "      <td>NaN</td>\n",
       "      <td>NaN</td>\n",
       "      <td>NaN</td>\n",
       "      <td>NaN</td>\n",
       "    </tr>\n",
       "    <tr>\n",
       "      <th>4</th>\n",
       "      <td>1075358</td>\n",
       "      <td>1311748</td>\n",
       "      <td>3000</td>\n",
       "      <td>3000</td>\n",
       "      <td>3000.0</td>\n",
       "      <td>60 months</td>\n",
       "      <td>12.69%</td>\n",
       "      <td>67.79</td>\n",
       "      <td>B</td>\n",
       "      <td>B5</td>\n",
       "      <td>...</td>\n",
       "      <td>NaN</td>\n",
       "      <td>NaN</td>\n",
       "      <td>NaN</td>\n",
       "      <td>NaN</td>\n",
       "      <td>0.0</td>\n",
       "      <td>0.0</td>\n",
       "      <td>NaN</td>\n",
       "      <td>NaN</td>\n",
       "      <td>NaN</td>\n",
       "      <td>NaN</td>\n",
       "    </tr>\n",
       "  </tbody>\n",
       "</table>\n",
       "<p>5 rows × 111 columns</p>\n",
       "</div>"
      ],
      "text/plain": [
       "        id  member_id  loan_amnt  funded_amnt  funded_amnt_inv        term  \\\n",
       "0  1077501    1296599       5000         5000           4975.0   36 months   \n",
       "1  1077430    1314167       2500         2500           2500.0   60 months   \n",
       "2  1077175    1313524       2400         2400           2400.0   36 months   \n",
       "3  1076863    1277178      10000        10000          10000.0   36 months   \n",
       "4  1075358    1311748       3000         3000           3000.0   60 months   \n",
       "\n",
       "  int_rate  installment grade sub_grade  ... num_tl_90g_dpd_24m  \\\n",
       "0   10.65%       162.87     B        B2  ...                NaN   \n",
       "1   15.27%        59.83     C        C4  ...                NaN   \n",
       "2   15.96%        84.33     C        C5  ...                NaN   \n",
       "3   13.49%       339.31     C        C1  ...                NaN   \n",
       "4   12.69%        67.79     B        B5  ...                NaN   \n",
       "\n",
       "  num_tl_op_past_12m pct_tl_nvr_dlq  percent_bc_gt_75 pub_rec_bankruptcies  \\\n",
       "0                NaN            NaN               NaN                  0.0   \n",
       "1                NaN            NaN               NaN                  0.0   \n",
       "2                NaN            NaN               NaN                  0.0   \n",
       "3                NaN            NaN               NaN                  0.0   \n",
       "4                NaN            NaN               NaN                  0.0   \n",
       "\n",
       "  tax_liens tot_hi_cred_lim total_bal_ex_mort total_bc_limit  \\\n",
       "0       0.0             NaN               NaN            NaN   \n",
       "1       0.0             NaN               NaN            NaN   \n",
       "2       0.0             NaN               NaN            NaN   \n",
       "3       0.0             NaN               NaN            NaN   \n",
       "4       0.0             NaN               NaN            NaN   \n",
       "\n",
       "  total_il_high_credit_limit  \n",
       "0                        NaN  \n",
       "1                        NaN  \n",
       "2                        NaN  \n",
       "3                        NaN  \n",
       "4                        NaN  \n",
       "\n",
       "[5 rows x 111 columns]"
      ]
     },
     "execution_count": 10,
     "metadata": {},
     "output_type": "execute_result"
    }
   ],
   "source": [
    "df.head()"
   ]
  },
  {
   "cell_type": "code",
   "execution_count": 11,
   "id": "3f53e1b1-1a11-410b-98f9-813a5ffb7bf4",
   "metadata": {},
   "outputs": [],
   "source": [
    "# problem statement: Analyse to understand the driving factors (or driver variables) behind loan default, i.e. the variables which are strong indicators of default."
   ]
  },
  {
   "cell_type": "code",
   "execution_count": null,
   "id": "07376833-48d0-4fe9-8b8c-c52bbbffc9be",
   "metadata": {},
   "outputs": [],
   "source": []
  },
  {
   "cell_type": "code",
   "execution_count": 12,
   "id": "37b4ebd5-eeed-49ae-911f-cb4a3692cc21",
   "metadata": {},
   "outputs": [],
   "source": [
    "# Data Undertanding"
   ]
  },
  {
   "cell_type": "code",
   "execution_count": 13,
   "id": "6a3f8f39-c28b-4212-9d0e-5607c8ca1857",
   "metadata": {},
   "outputs": [
    {
     "name": "stdout",
     "output_type": "stream",
     "text": [
      "<class 'pandas.core.frame.DataFrame'>\n",
      "RangeIndex: 39717 entries, 0 to 39716\n",
      "Columns: 111 entries, id to total_il_high_credit_limit\n",
      "dtypes: float64(74), int64(13), object(24)\n",
      "memory usage: 33.6+ MB\n"
     ]
    }
   ],
   "source": [
    "df.info()"
   ]
  },
  {
   "cell_type": "code",
   "execution_count": 14,
   "id": "92a94924-323d-4692-8d48-556184672eb5",
   "metadata": {},
   "outputs": [
    {
     "data": {
      "text/plain": [
       "id                            0.000000\n",
       "member_id                     0.000000\n",
       "loan_amnt                     0.000000\n",
       "funded_amnt                   0.000000\n",
       "funded_amnt_inv               0.000000\n",
       "                                ...   \n",
       "tax_liens                     0.000982\n",
       "tot_hi_cred_lim               1.000000\n",
       "total_bal_ex_mort             1.000000\n",
       "total_bc_limit                1.000000\n",
       "total_il_high_credit_limit    1.000000\n",
       "Length: 111, dtype: float64"
      ]
     },
     "execution_count": 14,
     "metadata": {},
     "output_type": "execute_result"
    }
   ],
   "source": [
    "df.isnull().mean()"
   ]
  },
  {
   "cell_type": "code",
   "execution_count": 15,
   "id": "088d17be-4026-43ee-bccb-356125910496",
   "metadata": {},
   "outputs": [
    {
     "data": {
      "text/plain": [
       "id                                0\n",
       "member_id                         0\n",
       "loan_amnt                         0\n",
       "funded_amnt                       0\n",
       "funded_amnt_inv                   0\n",
       "                              ...  \n",
       "tax_liens                        39\n",
       "tot_hi_cred_lim               39717\n",
       "total_bal_ex_mort             39717\n",
       "total_bc_limit                39717\n",
       "total_il_high_credit_limit    39717\n",
       "Length: 111, dtype: int64"
      ]
     },
     "execution_count": 15,
     "metadata": {},
     "output_type": "execute_result"
    }
   ],
   "source": [
    "df.isnull().sum()"
   ]
  },
  {
   "cell_type": "code",
   "execution_count": 16,
   "id": "85349b25-3a21-4239-9cb8-970aa1743bc4",
   "metadata": {},
   "outputs": [],
   "source": [
    "# data cleaning"
   ]
  },
  {
   "cell_type": "code",
   "execution_count": 17,
   "id": "24f18666-f2e5-45e9-85e1-f3637ed75540",
   "metadata": {},
   "outputs": [],
   "source": [
    "# missing values column \n",
    "#Strategy\n",
    "# (a) Columns having high percentage of missing values (>40% or 50%), directly discard that column from the analysis\n",
    "# (b) Columns having missing values under acceptable range we prefer to impute them(replace with some values)\n",
    "# (c) For numarical columns we prefer to use mean or median (Median is preferred)\n",
    "# (d) Median is not affected with the outliers\n",
    "# (e) for categorical column we refer to use mode\n",
    "# (f) if we have very less missing values in any column in that case you can drop rows as well\n",
    "# (g) for a target variable - if there are missing values, drop the row"
   ]
  },
  {
   "cell_type": "code",
   "execution_count": 18,
   "id": "3ba0053f-4c2d-4119-a709-cff52eb379f8",
   "metadata": {},
   "outputs": [],
   "source": [
    "# removing columns which has all values as null"
   ]
  },
  {
   "cell_type": "code",
   "execution_count": 19,
   "id": "69776fbc-8deb-4208-8436-83abc23e9056",
   "metadata": {},
   "outputs": [],
   "source": [
    "df_clean = df.drop(['tot_hi_cred_lim','total_bal_ex_mort','total_bc_limit','total_il_high_credit_limit', 'num_tl_op_past_12m', 'pct_tl_nvr_dlq', 'pct_tl_nvr_dlq', 'percent_bc_gt_75', 'num_tl_120dpd_2m', 'num_tl_30dpd', 'num_tl_90g_dpd_24m', 'num_rev_accts', 'num_rev_tl_bal_gt_0', 'num_sats', 'num_bc_tl', 'num_il_tl', 'num_op_rev_tl', 'num_actv_bc_tl', 'num_actv_rev_tl', 'num_bc_sats', 'mths_since_recent_inq', 'mths_since_recent_revol_delinq', 'num_accts_ever_120_pd', 'mort_acc', 'mths_since_recent_bc', 'mths_since_recent_bc_dlq', 'mo_sin_old_rev_tl_op', 'mo_sin_rcnt_rev_tl_op', 'mo_sin_rcnt_tl', 'mo_sin_old_il_acct', 'bc_util', 'bc_open_to_buy', 'avg_cur_bal', 'acc_open_past_24mths', 'inq_last_12m', 'total_cu_tl', 'inq_fi', 'total_rev_hi_lim', 'all_util', 'max_bal_bc', 'open_rv_24m', 'open_rv_12m', 'il_util', 'total_bal_il', 'mths_since_rcnt_il', 'open_il_24m', 'open_il_12m', 'open_il_6m', 'open_acc_6m', 'tot_cur_bal', 'tot_coll_amt','mths_since_last_major_derog','annual_inc_joint','dti_joint','verification_status_joint'], axis=1)"
   ]
  },
  {
   "cell_type": "code",
   "execution_count": 20,
   "id": "c5b11d79-bf0b-447b-a3a7-45fc1ae8a3ae",
   "metadata": {},
   "outputs": [
    {
     "data": {
      "text/plain": [
       "(39717, 57)"
      ]
     },
     "execution_count": 20,
     "metadata": {},
     "output_type": "execute_result"
    }
   ],
   "source": [
    "df_clean.shape"
   ]
  },
  {
   "cell_type": "code",
   "execution_count": 21,
   "id": "a0074903-5cee-4082-a5b4-f4ae4649631d",
   "metadata": {},
   "outputs": [
    {
     "data": {
      "text/plain": [
       "id                                0\n",
       "member_id                         0\n",
       "loan_amnt                         0\n",
       "funded_amnt                       0\n",
       "funded_amnt_inv                   0\n",
       "term                              0\n",
       "int_rate                          0\n",
       "installment                       0\n",
       "grade                             0\n",
       "sub_grade                         0\n",
       "emp_title                      2459\n",
       "emp_length                     1075\n",
       "home_ownership                    0\n",
       "annual_inc                        0\n",
       "verification_status               0\n",
       "issue_d                           0\n",
       "loan_status                       0\n",
       "pymnt_plan                        0\n",
       "url                               0\n",
       "desc                          12942\n",
       "purpose                           0\n",
       "title                            11\n",
       "zip_code                          0\n",
       "addr_state                        0\n",
       "dti                               0\n",
       "delinq_2yrs                       0\n",
       "earliest_cr_line                  0\n",
       "inq_last_6mths                    0\n",
       "mths_since_last_delinq        25682\n",
       "mths_since_last_record        36931\n",
       "open_acc                          0\n",
       "pub_rec                           0\n",
       "revol_bal                         0\n",
       "revol_util                       50\n",
       "total_acc                         0\n",
       "initial_list_status               0\n",
       "out_prncp                         0\n",
       "out_prncp_inv                     0\n",
       "total_pymnt                       0\n",
       "total_pymnt_inv                   0\n",
       "total_rec_prncp                   0\n",
       "total_rec_int                     0\n",
       "total_rec_late_fee                0\n",
       "recoveries                        0\n",
       "collection_recovery_fee           0\n",
       "last_pymnt_d                     71\n",
       "last_pymnt_amnt                   0\n",
       "next_pymnt_d                  38577\n",
       "last_credit_pull_d                2\n",
       "collections_12_mths_ex_med       56\n",
       "policy_code                       0\n",
       "application_type                  0\n",
       "acc_now_delinq                    0\n",
       "chargeoff_within_12_mths         56\n",
       "delinq_amnt                       0\n",
       "pub_rec_bankruptcies            697\n",
       "tax_liens                        39\n",
       "dtype: int64"
      ]
     },
     "execution_count": 21,
     "metadata": {},
     "output_type": "execute_result"
    }
   ],
   "source": [
    "df_clean.isnull().sum()"
   ]
  },
  {
   "cell_type": "code",
   "execution_count": 22,
   "id": "2df7d964-325d-4900-aad8-6fd89d701e3c",
   "metadata": {},
   "outputs": [
    {
     "data": {
      "text/plain": [
       "id                            0.000000\n",
       "member_id                     0.000000\n",
       "loan_amnt                     0.000000\n",
       "funded_amnt                   0.000000\n",
       "funded_amnt_inv               0.000000\n",
       "term                          0.000000\n",
       "int_rate                      0.000000\n",
       "installment                   0.000000\n",
       "grade                         0.000000\n",
       "sub_grade                     0.000000\n",
       "emp_title                     0.061913\n",
       "emp_length                    0.027066\n",
       "home_ownership                0.000000\n",
       "annual_inc                    0.000000\n",
       "verification_status           0.000000\n",
       "issue_d                       0.000000\n",
       "loan_status                   0.000000\n",
       "pymnt_plan                    0.000000\n",
       "url                           0.000000\n",
       "desc                          0.325855\n",
       "purpose                       0.000000\n",
       "title                         0.000277\n",
       "zip_code                      0.000000\n",
       "addr_state                    0.000000\n",
       "dti                           0.000000\n",
       "delinq_2yrs                   0.000000\n",
       "earliest_cr_line              0.000000\n",
       "inq_last_6mths                0.000000\n",
       "mths_since_last_delinq        0.646625\n",
       "mths_since_last_record        0.929854\n",
       "open_acc                      0.000000\n",
       "pub_rec                       0.000000\n",
       "revol_bal                     0.000000\n",
       "revol_util                    0.001259\n",
       "total_acc                     0.000000\n",
       "initial_list_status           0.000000\n",
       "out_prncp                     0.000000\n",
       "out_prncp_inv                 0.000000\n",
       "total_pymnt                   0.000000\n",
       "total_pymnt_inv               0.000000\n",
       "total_rec_prncp               0.000000\n",
       "total_rec_int                 0.000000\n",
       "total_rec_late_fee            0.000000\n",
       "recoveries                    0.000000\n",
       "collection_recovery_fee       0.000000\n",
       "last_pymnt_d                  0.001788\n",
       "last_pymnt_amnt               0.000000\n",
       "next_pymnt_d                  0.971297\n",
       "last_credit_pull_d            0.000050\n",
       "collections_12_mths_ex_med    0.001410\n",
       "policy_code                   0.000000\n",
       "application_type              0.000000\n",
       "acc_now_delinq                0.000000\n",
       "chargeoff_within_12_mths      0.001410\n",
       "delinq_amnt                   0.000000\n",
       "pub_rec_bankruptcies          0.017549\n",
       "tax_liens                     0.000982\n",
       "dtype: float64"
      ]
     },
     "execution_count": 22,
     "metadata": {},
     "output_type": "execute_result"
    }
   ],
   "source": [
    "df_clean.isnull().mean()"
   ]
  },
  {
   "cell_type": "code",
   "execution_count": 23,
   "id": "599a4703-b911-40b7-af50-efd0bed99ea4",
   "metadata": {},
   "outputs": [
    {
     "data": {
      "text/html": [
       "<div>\n",
       "<style scoped>\n",
       "    .dataframe tbody tr th:only-of-type {\n",
       "        vertical-align: middle;\n",
       "    }\n",
       "\n",
       "    .dataframe tbody tr th {\n",
       "        vertical-align: top;\n",
       "    }\n",
       "\n",
       "    .dataframe thead th {\n",
       "        text-align: right;\n",
       "    }\n",
       "</style>\n",
       "<table border=\"1\" class=\"dataframe\">\n",
       "  <thead>\n",
       "    <tr style=\"text-align: right;\">\n",
       "      <th></th>\n",
       "      <th>id</th>\n",
       "      <th>member_id</th>\n",
       "      <th>loan_amnt</th>\n",
       "      <th>funded_amnt</th>\n",
       "      <th>funded_amnt_inv</th>\n",
       "      <th>term</th>\n",
       "      <th>int_rate</th>\n",
       "      <th>installment</th>\n",
       "      <th>grade</th>\n",
       "      <th>sub_grade</th>\n",
       "      <th>...</th>\n",
       "      <th>next_pymnt_d</th>\n",
       "      <th>last_credit_pull_d</th>\n",
       "      <th>collections_12_mths_ex_med</th>\n",
       "      <th>policy_code</th>\n",
       "      <th>application_type</th>\n",
       "      <th>acc_now_delinq</th>\n",
       "      <th>chargeoff_within_12_mths</th>\n",
       "      <th>delinq_amnt</th>\n",
       "      <th>pub_rec_bankruptcies</th>\n",
       "      <th>tax_liens</th>\n",
       "    </tr>\n",
       "  </thead>\n",
       "  <tbody>\n",
       "    <tr>\n",
       "      <th>0</th>\n",
       "      <td>1077501</td>\n",
       "      <td>1296599</td>\n",
       "      <td>5000</td>\n",
       "      <td>5000</td>\n",
       "      <td>4975.0</td>\n",
       "      <td>36 months</td>\n",
       "      <td>10.65%</td>\n",
       "      <td>162.87</td>\n",
       "      <td>B</td>\n",
       "      <td>B2</td>\n",
       "      <td>...</td>\n",
       "      <td>NaN</td>\n",
       "      <td>May-16</td>\n",
       "      <td>0.0</td>\n",
       "      <td>1</td>\n",
       "      <td>INDIVIDUAL</td>\n",
       "      <td>0</td>\n",
       "      <td>0.0</td>\n",
       "      <td>0</td>\n",
       "      <td>0.0</td>\n",
       "      <td>0.0</td>\n",
       "    </tr>\n",
       "    <tr>\n",
       "      <th>1</th>\n",
       "      <td>1077430</td>\n",
       "      <td>1314167</td>\n",
       "      <td>2500</td>\n",
       "      <td>2500</td>\n",
       "      <td>2500.0</td>\n",
       "      <td>60 months</td>\n",
       "      <td>15.27%</td>\n",
       "      <td>59.83</td>\n",
       "      <td>C</td>\n",
       "      <td>C4</td>\n",
       "      <td>...</td>\n",
       "      <td>NaN</td>\n",
       "      <td>Sep-13</td>\n",
       "      <td>0.0</td>\n",
       "      <td>1</td>\n",
       "      <td>INDIVIDUAL</td>\n",
       "      <td>0</td>\n",
       "      <td>0.0</td>\n",
       "      <td>0</td>\n",
       "      <td>0.0</td>\n",
       "      <td>0.0</td>\n",
       "    </tr>\n",
       "    <tr>\n",
       "      <th>2</th>\n",
       "      <td>1077175</td>\n",
       "      <td>1313524</td>\n",
       "      <td>2400</td>\n",
       "      <td>2400</td>\n",
       "      <td>2400.0</td>\n",
       "      <td>36 months</td>\n",
       "      <td>15.96%</td>\n",
       "      <td>84.33</td>\n",
       "      <td>C</td>\n",
       "      <td>C5</td>\n",
       "      <td>...</td>\n",
       "      <td>NaN</td>\n",
       "      <td>May-16</td>\n",
       "      <td>0.0</td>\n",
       "      <td>1</td>\n",
       "      <td>INDIVIDUAL</td>\n",
       "      <td>0</td>\n",
       "      <td>0.0</td>\n",
       "      <td>0</td>\n",
       "      <td>0.0</td>\n",
       "      <td>0.0</td>\n",
       "    </tr>\n",
       "    <tr>\n",
       "      <th>3</th>\n",
       "      <td>1076863</td>\n",
       "      <td>1277178</td>\n",
       "      <td>10000</td>\n",
       "      <td>10000</td>\n",
       "      <td>10000.0</td>\n",
       "      <td>36 months</td>\n",
       "      <td>13.49%</td>\n",
       "      <td>339.31</td>\n",
       "      <td>C</td>\n",
       "      <td>C1</td>\n",
       "      <td>...</td>\n",
       "      <td>NaN</td>\n",
       "      <td>Apr-16</td>\n",
       "      <td>0.0</td>\n",
       "      <td>1</td>\n",
       "      <td>INDIVIDUAL</td>\n",
       "      <td>0</td>\n",
       "      <td>0.0</td>\n",
       "      <td>0</td>\n",
       "      <td>0.0</td>\n",
       "      <td>0.0</td>\n",
       "    </tr>\n",
       "    <tr>\n",
       "      <th>4</th>\n",
       "      <td>1075358</td>\n",
       "      <td>1311748</td>\n",
       "      <td>3000</td>\n",
       "      <td>3000</td>\n",
       "      <td>3000.0</td>\n",
       "      <td>60 months</td>\n",
       "      <td>12.69%</td>\n",
       "      <td>67.79</td>\n",
       "      <td>B</td>\n",
       "      <td>B5</td>\n",
       "      <td>...</td>\n",
       "      <td>Jun-16</td>\n",
       "      <td>May-16</td>\n",
       "      <td>0.0</td>\n",
       "      <td>1</td>\n",
       "      <td>INDIVIDUAL</td>\n",
       "      <td>0</td>\n",
       "      <td>0.0</td>\n",
       "      <td>0</td>\n",
       "      <td>0.0</td>\n",
       "      <td>0.0</td>\n",
       "    </tr>\n",
       "  </tbody>\n",
       "</table>\n",
       "<p>5 rows × 57 columns</p>\n",
       "</div>"
      ],
      "text/plain": [
       "        id  member_id  loan_amnt  funded_amnt  funded_amnt_inv        term  \\\n",
       "0  1077501    1296599       5000         5000           4975.0   36 months   \n",
       "1  1077430    1314167       2500         2500           2500.0   60 months   \n",
       "2  1077175    1313524       2400         2400           2400.0   36 months   \n",
       "3  1076863    1277178      10000        10000          10000.0   36 months   \n",
       "4  1075358    1311748       3000         3000           3000.0   60 months   \n",
       "\n",
       "  int_rate  installment grade sub_grade  ... next_pymnt_d last_credit_pull_d  \\\n",
       "0   10.65%       162.87     B        B2  ...          NaN             May-16   \n",
       "1   15.27%        59.83     C        C4  ...          NaN             Sep-13   \n",
       "2   15.96%        84.33     C        C5  ...          NaN             May-16   \n",
       "3   13.49%       339.31     C        C1  ...          NaN             Apr-16   \n",
       "4   12.69%        67.79     B        B5  ...       Jun-16             May-16   \n",
       "\n",
       "  collections_12_mths_ex_med  policy_code application_type acc_now_delinq  \\\n",
       "0                        0.0            1       INDIVIDUAL              0   \n",
       "1                        0.0            1       INDIVIDUAL              0   \n",
       "2                        0.0            1       INDIVIDUAL              0   \n",
       "3                        0.0            1       INDIVIDUAL              0   \n",
       "4                        0.0            1       INDIVIDUAL              0   \n",
       "\n",
       "  chargeoff_within_12_mths delinq_amnt pub_rec_bankruptcies tax_liens  \n",
       "0                      0.0           0                  0.0       0.0  \n",
       "1                      0.0           0                  0.0       0.0  \n",
       "2                      0.0           0                  0.0       0.0  \n",
       "3                      0.0           0                  0.0       0.0  \n",
       "4                      0.0           0                  0.0       0.0  \n",
       "\n",
       "[5 rows x 57 columns]"
      ]
     },
     "execution_count": 23,
     "metadata": {},
     "output_type": "execute_result"
    }
   ],
   "source": [
    "df_clean.head()"
   ]
  },
  {
   "cell_type": "code",
   "execution_count": null,
   "id": "322f61aa-197b-498a-ab10-cc72b0b8ce9d",
   "metadata": {},
   "outputs": [],
   "source": []
  },
  {
   "cell_type": "code",
   "execution_count": 24,
   "id": "944181be-05ca-4e54-9eb0-9cd5758d4317",
   "metadata": {},
   "outputs": [],
   "source": [
    "# Categorical columns\n",
    "cats_cols=[\"term\",\"int_rate\",\"grade\",\"sub_grade\",\"\",\"emp_length\",\"home_ownership\", \"verification_status\",\"loan_status\",\"purpose\",\"title\",\"zip_code\",\"addr_state\",\"delinq_2yrs\",\"inq_last_6mths\", \"mths_since_last_delinq\", \"pub_rec\",\"pub_rec_bankruptcies\"]\n",
    "# Numerical columns\n",
    "num_cols=[\"loan_amnt\",\"funded_amnt\", \"funded_amnt_inv\", \"annual_inc\",\"dti\",\"out_prncp\",\"out_prncp_inv\",\"total_pymnt\",\"total_pymnt_inv\",\"total_rec_prncp\",\"total_rec_int\",\"recoveries\"]\n",
    "# Not relevant to the analysis\n",
    "extra_cols=[\"id\",\"member_id\",\"installment\",\"emp_title\", \"issue_d\",\"pymnt_plan\", \"desc\",\"earliest_cr_line\",\"mths_since_last_record\",\"total_rec_late_fee\",\"collection_recovery_fee\",\"last_pymnt_d\",\"collections_12_mths_ex_med\"]\n",
    "\n",
    "# dont know\n",
    "#\"open_acc\",\"revol_bal\",\"revol_util\",\"total_acc\",\"last_credit_pull_d\",\"\""
   ]
  },
  {
   "cell_type": "code",
   "execution_count": 25,
   "id": "9580bf41-58ef-4608-8b48-5084509eef5a",
   "metadata": {},
   "outputs": [
    {
     "data": {
      "text/plain": [
       "0.06191303472064859"
      ]
     },
     "execution_count": 25,
     "metadata": {},
     "output_type": "execute_result"
    }
   ],
   "source": [
    "df_clean[\"emp_title\"].isnull().mean()"
   ]
  },
  {
   "cell_type": "code",
   "execution_count": 26,
   "id": "9d1a040b-ab6f-4756-9616-36165add2314",
   "metadata": {},
   "outputs": [],
   "source": [
    "# Remove Rows\n",
    "# Remove rows where emp_title is null ??? or instead of removing rows we add some values to that field, anyways this  column is not important for analysis == to be finalized\n",
    "# command\n",
    "# df_clean = df_clean[~(df_clean['emp_title'].isnull())]\n",
    "\n",
    "# same for emp_length\n",
    "# df_clean = df_clean[~(df_clean['emp_length'].isnull())]"
   ]
  },
  {
   "cell_type": "code",
   "execution_count": 27,
   "id": "77231563-e306-43e6-998b-21a755a3133f",
   "metadata": {},
   "outputs": [],
   "source": [
    "# Remove Columns\n",
    "# pymnt_plan = all the values in this column is 'n' - so column is not needed hence removed\n",
    "# initial_list_status = all the values in this column is 'f' - so column is not needed hence removed\n",
    "# collections_12_mths_ex_med - single value, hence removed\n",
    "# policy_code - single value, hence removed\n",
    "# application_type - single value, hence removed\n",
    "# verification_status_joint - single value, hence removed\n",
    "# chargeoff_within_12_mths - single value, hence removed\n",
    "# delinq_amnt - single value, hence removed\n",
    "# tax_liens - single value, hence removed"
   ]
  },
  {
   "cell_type": "code",
   "execution_count": 28,
   "id": "f3356ad5-5c8c-425e-9796-7c00e1003c40",
   "metadata": {},
   "outputs": [],
   "source": [
    "# Update values in rows\n",
    "# mths_since_last_delinq - do we add median value for this column?\n",
    "#Can be removed more than 90% of the data is missing\n"
   ]
  },
  {
   "cell_type": "code",
   "execution_count": 29,
   "id": "3907f398-c218-4514-9d25-89b8c207ab53",
   "metadata": {},
   "outputs": [],
   "source": [
    "df_clean = df_clean.drop(['pymnt_plan','initial_list_status','collections_12_mths_ex_med','policy_code','application_type','acc_now_delinq','delinq_amnt','tax_liens'], axis=1)"
   ]
  },
  {
   "cell_type": "code",
   "execution_count": null,
   "id": "628673b4-7a2d-4648-94ce-56ca9e1462c1",
   "metadata": {},
   "outputs": [],
   "source": []
  },
  {
   "cell_type": "code",
   "execution_count": 30,
   "id": "8205fb0d-7586-406d-a4ee-4d797b312011",
   "metadata": {},
   "outputs": [],
   "source": [
    "# below code to identify which columns are needed and which ones can be dropped"
   ]
  },
  {
   "cell_type": "code",
   "execution_count": 31,
   "id": "6a889256-3a5a-4972-9e09-102fafd2c37a",
   "metadata": {},
   "outputs": [
    {
     "data": {
      "text/plain": [
       "dtype('O')"
      ]
     },
     "execution_count": 31,
     "metadata": {},
     "output_type": "execute_result"
    }
   ],
   "source": [
    "df_clean[\"grade\"].dtype"
   ]
  },
  {
   "cell_type": "code",
   "execution_count": 32,
   "id": "da81e604-5527-4900-b9a9-5e3aa7c701f0",
   "metadata": {},
   "outputs": [
    {
     "data": {
      "text/plain": [
       "0"
      ]
     },
     "execution_count": 32,
     "metadata": {},
     "output_type": "execute_result"
    }
   ],
   "source": [
    "df_clean[\"grade\"].isnull().sum()"
   ]
  },
  {
   "cell_type": "code",
   "execution_count": 33,
   "id": "9434e731-0d55-411c-846f-59b6fd2aafae",
   "metadata": {},
   "outputs": [
    {
     "data": {
      "text/plain": [
       "0.0"
      ]
     },
     "execution_count": 33,
     "metadata": {},
     "output_type": "execute_result"
    }
   ],
   "source": [
    "df_clean[\"grade\"].isnull().mean()"
   ]
  },
  {
   "cell_type": "code",
   "execution_count": 34,
   "id": "1c427cdc-b27b-410d-aa2d-16041a323c8f",
   "metadata": {},
   "outputs": [
    {
     "data": {
      "text/plain": [
       "grade\n",
       "B    12020\n",
       "A    10085\n",
       "C     8098\n",
       "D     5307\n",
       "E     2842\n",
       "F     1049\n",
       "G      316\n",
       "Name: count, dtype: int64"
      ]
     },
     "execution_count": 34,
     "metadata": {},
     "output_type": "execute_result"
    }
   ],
   "source": [
    "df_clean[\"grade\"].value_counts()"
   ]
  },
  {
   "cell_type": "code",
   "execution_count": 35,
   "id": "efb6ec36-a7dc-4b25-aa90-0e3e8f9f920b",
   "metadata": {},
   "outputs": [],
   "source": [
    "#Check the datatypes of all the columns "
   ]
  },
  {
   "cell_type": "code",
   "execution_count": 36,
   "id": "33a41572-ae69-405a-9986-183a059799ca",
   "metadata": {
    "scrolled": true
   },
   "outputs": [
    {
     "data": {
      "text/plain": [
       "id                            int64\n",
       "member_id                     int64\n",
       "loan_amnt                     int64\n",
       "funded_amnt                   int64\n",
       "funded_amnt_inv             float64\n",
       "term                         object\n",
       "int_rate                     object\n",
       "installment                 float64\n",
       "grade                        object\n",
       "sub_grade                    object\n",
       "emp_title                    object\n",
       "emp_length                   object\n",
       "home_ownership               object\n",
       "annual_inc                  float64\n",
       "verification_status          object\n",
       "issue_d                      object\n",
       "loan_status                  object\n",
       "url                          object\n",
       "desc                         object\n",
       "purpose                      object\n",
       "title                        object\n",
       "zip_code                     object\n",
       "addr_state                   object\n",
       "dti                         float64\n",
       "delinq_2yrs                   int64\n",
       "earliest_cr_line             object\n",
       "inq_last_6mths                int64\n",
       "mths_since_last_delinq      float64\n",
       "mths_since_last_record      float64\n",
       "open_acc                      int64\n",
       "pub_rec                       int64\n",
       "revol_bal                     int64\n",
       "revol_util                   object\n",
       "total_acc                     int64\n",
       "out_prncp                   float64\n",
       "out_prncp_inv               float64\n",
       "total_pymnt                 float64\n",
       "total_pymnt_inv             float64\n",
       "total_rec_prncp             float64\n",
       "total_rec_int               float64\n",
       "total_rec_late_fee          float64\n",
       "recoveries                  float64\n",
       "collection_recovery_fee     float64\n",
       "last_pymnt_d                 object\n",
       "last_pymnt_amnt             float64\n",
       "next_pymnt_d                 object\n",
       "last_credit_pull_d           object\n",
       "chargeoff_within_12_mths    float64\n",
       "pub_rec_bankruptcies        float64\n",
       "dtype: object"
      ]
     },
     "execution_count": 36,
     "metadata": {},
     "output_type": "execute_result"
    }
   ],
   "source": [
    "df_clean.dtypes"
   ]
  },
  {
   "cell_type": "code",
   "execution_count": 37,
   "id": "5aeacea4-29ac-44d6-abdc-2dbc2d8f512f",
   "metadata": {},
   "outputs": [
    {
     "data": {
      "text/plain": [
       "(39717, 49)"
      ]
     },
     "execution_count": 37,
     "metadata": {},
     "output_type": "execute_result"
    }
   ],
   "source": [
    "df_clean.shape"
   ]
  },
  {
   "cell_type": "code",
   "execution_count": 38,
   "id": "66d77b00-4cb8-43c4-969d-a4e28222842c",
   "metadata": {},
   "outputs": [
    {
     "data": {
      "text/plain": [
       "Index(['id', 'member_id', 'loan_amnt', 'funded_amnt', 'funded_amnt_inv',\n",
       "       'term', 'int_rate', 'installment', 'grade', 'sub_grade', 'emp_title',\n",
       "       'emp_length', 'home_ownership', 'annual_inc', 'verification_status',\n",
       "       'issue_d', 'loan_status', 'url', 'desc', 'purpose', 'title', 'zip_code',\n",
       "       'addr_state', 'dti', 'delinq_2yrs', 'earliest_cr_line',\n",
       "       'inq_last_6mths', 'mths_since_last_delinq', 'mths_since_last_record',\n",
       "       'open_acc', 'pub_rec', 'revol_bal', 'revol_util', 'total_acc',\n",
       "       'out_prncp', 'out_prncp_inv', 'total_pymnt', 'total_pymnt_inv',\n",
       "       'total_rec_prncp', 'total_rec_int', 'total_rec_late_fee', 'recoveries',\n",
       "       'collection_recovery_fee', 'last_pymnt_d', 'last_pymnt_amnt',\n",
       "       'next_pymnt_d', 'last_credit_pull_d', 'chargeoff_within_12_mths',\n",
       "       'pub_rec_bankruptcies'],\n",
       "      dtype='object')"
      ]
     },
     "execution_count": 38,
     "metadata": {},
     "output_type": "execute_result"
    }
   ],
   "source": [
    "df_clean.columns"
   ]
  },
  {
   "cell_type": "code",
   "execution_count": 39,
   "id": "d678349d-161a-41ab-9075-aa4e0af61633",
   "metadata": {},
   "outputs": [
    {
     "data": {
      "text/plain": [
       "id                          0.000000\n",
       "member_id                   0.000000\n",
       "loan_amnt                   0.000000\n",
       "funded_amnt                 0.000000\n",
       "funded_amnt_inv             0.000000\n",
       "term                        0.000000\n",
       "int_rate                    0.000000\n",
       "installment                 0.000000\n",
       "grade                       0.000000\n",
       "sub_grade                   0.000000\n",
       "emp_title                   0.061913\n",
       "emp_length                  0.027066\n",
       "home_ownership              0.000000\n",
       "annual_inc                  0.000000\n",
       "verification_status         0.000000\n",
       "issue_d                     0.000000\n",
       "loan_status                 0.000000\n",
       "url                         0.000000\n",
       "desc                        0.325855\n",
       "purpose                     0.000000\n",
       "title                       0.000277\n",
       "zip_code                    0.000000\n",
       "addr_state                  0.000000\n",
       "dti                         0.000000\n",
       "delinq_2yrs                 0.000000\n",
       "earliest_cr_line            0.000000\n",
       "inq_last_6mths              0.000000\n",
       "mths_since_last_delinq      0.646625\n",
       "mths_since_last_record      0.929854\n",
       "open_acc                    0.000000\n",
       "pub_rec                     0.000000\n",
       "revol_bal                   0.000000\n",
       "revol_util                  0.001259\n",
       "total_acc                   0.000000\n",
       "out_prncp                   0.000000\n",
       "out_prncp_inv               0.000000\n",
       "total_pymnt                 0.000000\n",
       "total_pymnt_inv             0.000000\n",
       "total_rec_prncp             0.000000\n",
       "total_rec_int               0.000000\n",
       "total_rec_late_fee          0.000000\n",
       "recoveries                  0.000000\n",
       "collection_recovery_fee     0.000000\n",
       "last_pymnt_d                0.001788\n",
       "last_pymnt_amnt             0.000000\n",
       "next_pymnt_d                0.971297\n",
       "last_credit_pull_d          0.000050\n",
       "chargeoff_within_12_mths    0.001410\n",
       "pub_rec_bankruptcies        0.017549\n",
       "dtype: float64"
      ]
     },
     "execution_count": 39,
     "metadata": {},
     "output_type": "execute_result"
    }
   ],
   "source": [
    "df_clean.isnull().mean()"
   ]
  },
  {
   "cell_type": "code",
   "execution_count": 40,
   "id": "890ff5cc-c619-44c6-84f2-2ec04b042172",
   "metadata": {},
   "outputs": [],
   "source": [
    "#Dropping month_since_last_record and next_paymnt_d as more than 90% of data is missing\n",
    "\n",
    "df_clean = df_clean.drop([\"mths_since_last_record\",\"next_pymnt_d\"],axis=1)\n"
   ]
  },
  {
   "cell_type": "code",
   "execution_count": 41,
   "id": "52d05523-0619-4e3c-a541-90ac11f1c75f",
   "metadata": {},
   "outputs": [
    {
     "data": {
      "text/plain": [
       "(39717, 47)"
      ]
     },
     "execution_count": 41,
     "metadata": {},
     "output_type": "execute_result"
    }
   ],
   "source": [
    "df_clean.shape"
   ]
  },
  {
   "cell_type": "code",
   "execution_count": 42,
   "id": "a8712ccb-9e6c-4f9e-8a71-e4a061790923",
   "metadata": {},
   "outputs": [
    {
     "data": {
      "text/plain": [
       "id                          0.000000\n",
       "member_id                   0.000000\n",
       "loan_amnt                   0.000000\n",
       "funded_amnt                 0.000000\n",
       "funded_amnt_inv             0.000000\n",
       "term                        0.000000\n",
       "int_rate                    0.000000\n",
       "installment                 0.000000\n",
       "grade                       0.000000\n",
       "sub_grade                   0.000000\n",
       "emp_title                   0.061913\n",
       "emp_length                  0.027066\n",
       "home_ownership              0.000000\n",
       "annual_inc                  0.000000\n",
       "verification_status         0.000000\n",
       "issue_d                     0.000000\n",
       "loan_status                 0.000000\n",
       "url                         0.000000\n",
       "desc                        0.325855\n",
       "purpose                     0.000000\n",
       "title                       0.000277\n",
       "zip_code                    0.000000\n",
       "addr_state                  0.000000\n",
       "dti                         0.000000\n",
       "delinq_2yrs                 0.000000\n",
       "earliest_cr_line            0.000000\n",
       "inq_last_6mths              0.000000\n",
       "mths_since_last_delinq      0.646625\n",
       "open_acc                    0.000000\n",
       "pub_rec                     0.000000\n",
       "revol_bal                   0.000000\n",
       "revol_util                  0.001259\n",
       "total_acc                   0.000000\n",
       "out_prncp                   0.000000\n",
       "out_prncp_inv               0.000000\n",
       "total_pymnt                 0.000000\n",
       "total_pymnt_inv             0.000000\n",
       "total_rec_prncp             0.000000\n",
       "total_rec_int               0.000000\n",
       "total_rec_late_fee          0.000000\n",
       "recoveries                  0.000000\n",
       "collection_recovery_fee     0.000000\n",
       "last_pymnt_d                0.001788\n",
       "last_pymnt_amnt             0.000000\n",
       "last_credit_pull_d          0.000050\n",
       "chargeoff_within_12_mths    0.001410\n",
       "pub_rec_bankruptcies        0.017549\n",
       "dtype: float64"
      ]
     },
     "execution_count": 42,
     "metadata": {},
     "output_type": "execute_result"
    }
   ],
   "source": [
    "\n",
    "\n",
    "df_clean.isnull().mean()"
   ]
  },
  {
   "cell_type": "code",
   "execution_count": 43,
   "id": "749c106e-3bc3-4626-8a23-c77f4bbec488",
   "metadata": {},
   "outputs": [
    {
     "data": {
      "text/plain": [
       "mths_since_last_delinq\n",
       "0.0      443\n",
       "15.0     252\n",
       "30.0     247\n",
       "23.0     247\n",
       "24.0     241\n",
       "        ... \n",
       "89.0       1\n",
       "107.0      1\n",
       "85.0       1\n",
       "97.0       1\n",
       "95.0       1\n",
       "Name: count, Length: 95, dtype: int64"
      ]
     },
     "execution_count": 43,
     "metadata": {},
     "output_type": "execute_result"
    }
   ],
   "source": [
    "#mths_since_last_delinq\n",
    "df[\"mths_since_last_delinq\"].value_counts()"
   ]
  },
  {
   "cell_type": "code",
   "execution_count": 44,
   "id": "9753e848-9e9a-4c7e-895e-3d93e0fcd15f",
   "metadata": {},
   "outputs": [
    {
     "data": {
      "text/plain": [
       "25682"
      ]
     },
     "execution_count": 44,
     "metadata": {},
     "output_type": "execute_result"
    }
   ],
   "source": [
    "df[\"mths_since_last_delinq\"].isnull().sum()"
   ]
  },
  {
   "cell_type": "code",
   "execution_count": 45,
   "id": "f528216d-bef4-4f3e-802c-08ac752d2dae",
   "metadata": {},
   "outputs": [
    {
     "data": {
      "text/plain": [
       "count    14035.000000\n",
       "mean        35.900962\n",
       "std         22.020060\n",
       "min          0.000000\n",
       "25%         18.000000\n",
       "50%         34.000000\n",
       "75%         52.000000\n",
       "max        120.000000\n",
       "Name: mths_since_last_delinq, dtype: float64"
      ]
     },
     "execution_count": 45,
     "metadata": {},
     "output_type": "execute_result"
    }
   ],
   "source": [
    "df[\"mths_since_last_delinq\"].describe()"
   ]
  },
  {
   "cell_type": "code",
   "execution_count": 46,
   "id": "350c438b-25d4-4eb5-ae13-7471fad12550",
   "metadata": {},
   "outputs": [
    {
     "data": {
      "text/plain": [
       "34.0"
      ]
     },
     "execution_count": 46,
     "metadata": {},
     "output_type": "execute_result"
    }
   ],
   "source": [
    "df[\"mths_since_last_delinq\"].median()"
   ]
  },
  {
   "cell_type": "code",
   "execution_count": 47,
   "id": "96381be5-d6ca-46c9-aa99-8eaffd5c3938",
   "metadata": {},
   "outputs": [],
   "source": [
    "#There are two ways to deal with it \n",
    "#a)Delete the column because more than 60% of values are missing \n",
    "#b)Fill the missing values with median \n",
    "#TBD\n"
   ]
  },
  {
   "cell_type": "code",
   "execution_count": 48,
   "id": "6190dd68-a181-44d4-b2c5-83591427ef50",
   "metadata": {},
   "outputs": [
    {
     "data": {
      "text/plain": [
       "(39717, 47)"
      ]
     },
     "execution_count": 48,
     "metadata": {},
     "output_type": "execute_result"
    }
   ],
   "source": [
    "df_clean.shape"
   ]
  },
  {
   "cell_type": "code",
   "execution_count": 49,
   "id": "2b27c547-829d-4a19-8440-44815d7064d5",
   "metadata": {},
   "outputs": [
    {
     "data": {
      "text/plain": [
       "Index(['id', 'member_id', 'loan_amnt', 'funded_amnt', 'funded_amnt_inv',\n",
       "       'term', 'int_rate', 'installment', 'grade', 'sub_grade', 'emp_title',\n",
       "       'emp_length', 'home_ownership', 'annual_inc', 'verification_status',\n",
       "       'issue_d', 'loan_status', 'url', 'desc', 'purpose', 'title', 'zip_code',\n",
       "       'addr_state', 'dti', 'delinq_2yrs', 'earliest_cr_line',\n",
       "       'inq_last_6mths', 'mths_since_last_delinq', 'open_acc', 'pub_rec',\n",
       "       'revol_bal', 'revol_util', 'total_acc', 'out_prncp', 'out_prncp_inv',\n",
       "       'total_pymnt', 'total_pymnt_inv', 'total_rec_prncp', 'total_rec_int',\n",
       "       'total_rec_late_fee', 'recoveries', 'collection_recovery_fee',\n",
       "       'last_pymnt_d', 'last_pymnt_amnt', 'last_credit_pull_d',\n",
       "       'chargeoff_within_12_mths', 'pub_rec_bankruptcies'],\n",
       "      dtype='object')"
      ]
     },
     "execution_count": 49,
     "metadata": {},
     "output_type": "execute_result"
    }
   ],
   "source": [
    "df_clean.columns"
   ]
  },
  {
   "cell_type": "code",
   "execution_count": 50,
   "id": "1878f900-f9f3-4263-bca4-a4259bef3ed6",
   "metadata": {},
   "outputs": [],
   "source": [
    "#Filling other null values"
   ]
  },
  {
   "cell_type": "code",
   "execution_count": 51,
   "id": "001e26f5-650b-4d4c-a83e-e453284223eb",
   "metadata": {},
   "outputs": [
    {
     "data": {
      "text/plain": [
       "id                              0\n",
       "member_id                       0\n",
       "loan_amnt                       0\n",
       "funded_amnt                     0\n",
       "funded_amnt_inv                 0\n",
       "term                            0\n",
       "int_rate                        0\n",
       "installment                     0\n",
       "grade                           0\n",
       "sub_grade                       0\n",
       "emp_title                    2459\n",
       "emp_length                   1075\n",
       "home_ownership                  0\n",
       "annual_inc                      0\n",
       "verification_status             0\n",
       "issue_d                         0\n",
       "loan_status                     0\n",
       "url                             0\n",
       "desc                        12942\n",
       "purpose                         0\n",
       "title                          11\n",
       "zip_code                        0\n",
       "addr_state                      0\n",
       "dti                             0\n",
       "delinq_2yrs                     0\n",
       "earliest_cr_line                0\n",
       "inq_last_6mths                  0\n",
       "mths_since_last_delinq      25682\n",
       "open_acc                        0\n",
       "pub_rec                         0\n",
       "revol_bal                       0\n",
       "revol_util                     50\n",
       "total_acc                       0\n",
       "out_prncp                       0\n",
       "out_prncp_inv                   0\n",
       "total_pymnt                     0\n",
       "total_pymnt_inv                 0\n",
       "total_rec_prncp                 0\n",
       "total_rec_int                   0\n",
       "total_rec_late_fee              0\n",
       "recoveries                      0\n",
       "collection_recovery_fee         0\n",
       "last_pymnt_d                   71\n",
       "last_pymnt_amnt                 0\n",
       "last_credit_pull_d              2\n",
       "chargeoff_within_12_mths       56\n",
       "pub_rec_bankruptcies          697\n",
       "dtype: int64"
      ]
     },
     "execution_count": 51,
     "metadata": {},
     "output_type": "execute_result"
    }
   ],
   "source": [
    "df_clean.isnull().sum()"
   ]
  },
  {
   "cell_type": "code",
   "execution_count": 52,
   "id": "2487c032-3393-4805-8ee5-f556ab4d87cf",
   "metadata": {},
   "outputs": [
    {
     "data": {
      "text/plain": [
       "emp_title\n",
       "US Army                              134\n",
       "Bank of America                      109\n",
       "IBM                                   66\n",
       "AT&T                                  59\n",
       "Kaiser Permanente                     56\n",
       "                                    ... \n",
       "Community College of Philadelphia      1\n",
       "AMEC                                   1\n",
       "lee county sheriff                     1\n",
       "Bacon County Board of Education        1\n",
       "Evergreen Center                       1\n",
       "Name: count, Length: 28820, dtype: int64"
      ]
     },
     "execution_count": 52,
     "metadata": {},
     "output_type": "execute_result"
    }
   ],
   "source": [
    "#emp_title\n",
    "#Not sure what to do\n",
    "df_clean[\"emp_title\"].value_counts()"
   ]
  },
  {
   "cell_type": "code",
   "execution_count": 53,
   "id": "31f191a0-0f90-432b-ae3d-72c88647b91b",
   "metadata": {},
   "outputs": [
    {
     "data": {
      "text/plain": [
       "emp_length\n",
       "10+ years    8879\n",
       "< 1 year     4583\n",
       "2 years      4388\n",
       "3 years      4095\n",
       "4 years      3436\n",
       "5 years      3282\n",
       "1 year       3240\n",
       "6 years      2229\n",
       "7 years      1773\n",
       "8 years      1479\n",
       "9 years      1258\n",
       "Name: count, dtype: int64"
      ]
     },
     "execution_count": 53,
     "metadata": {},
     "output_type": "execute_result"
    }
   ],
   "source": [
    "#emp_length.\n",
    "df_clean[\"emp_length\"].value_counts()"
   ]
  },
  {
   "cell_type": "code",
   "execution_count": 54,
   "id": "437fb101-2eee-471c-a690-0c74cc1ad9ef",
   "metadata": {},
   "outputs": [],
   "source": [
    "df_clean[\"emp_length\"].fillna(df_clean[\"emp_length\"].mode()[0],inplace=True)"
   ]
  },
  {
   "cell_type": "code",
   "execution_count": 55,
   "id": "988aa987-2e7f-4c99-b4e1-21e68f46b78a",
   "metadata": {},
   "outputs": [
    {
     "data": {
      "text/plain": [
       "id                              0\n",
       "member_id                       0\n",
       "loan_amnt                       0\n",
       "funded_amnt                     0\n",
       "funded_amnt_inv                 0\n",
       "term                            0\n",
       "int_rate                        0\n",
       "installment                     0\n",
       "grade                           0\n",
       "sub_grade                       0\n",
       "emp_title                    2459\n",
       "emp_length                      0\n",
       "home_ownership                  0\n",
       "annual_inc                      0\n",
       "verification_status             0\n",
       "issue_d                         0\n",
       "loan_status                     0\n",
       "url                             0\n",
       "desc                        12942\n",
       "purpose                         0\n",
       "title                          11\n",
       "zip_code                        0\n",
       "addr_state                      0\n",
       "dti                             0\n",
       "delinq_2yrs                     0\n",
       "earliest_cr_line                0\n",
       "inq_last_6mths                  0\n",
       "mths_since_last_delinq      25682\n",
       "open_acc                        0\n",
       "pub_rec                         0\n",
       "revol_bal                       0\n",
       "revol_util                     50\n",
       "total_acc                       0\n",
       "out_prncp                       0\n",
       "out_prncp_inv                   0\n",
       "total_pymnt                     0\n",
       "total_pymnt_inv                 0\n",
       "total_rec_prncp                 0\n",
       "total_rec_int                   0\n",
       "total_rec_late_fee              0\n",
       "recoveries                      0\n",
       "collection_recovery_fee         0\n",
       "last_pymnt_d                   71\n",
       "last_pymnt_amnt                 0\n",
       "last_credit_pull_d              2\n",
       "chargeoff_within_12_mths       56\n",
       "pub_rec_bankruptcies          697\n",
       "dtype: int64"
      ]
     },
     "execution_count": 55,
     "metadata": {},
     "output_type": "execute_result"
    }
   ],
   "source": [
    "df_clean.isnull().sum()"
   ]
  },
  {
   "cell_type": "code",
   "execution_count": 56,
   "id": "731aad3b-0aaa-42b5-9517-8de63f68b394",
   "metadata": {},
   "outputs": [],
   "source": [
    "#desc column is not needed as this is covered in loan purpose\n",
    "df_clean = df_clean.drop([\"desc\"],axis=1)"
   ]
  },
  {
   "cell_type": "code",
   "execution_count": 57,
   "id": "94014f2c-6bbc-43cc-b1ce-987178a702aa",
   "metadata": {},
   "outputs": [],
   "source": [
    "#title\n",
    "#df_clean[\"title\"].value_counts\n",
    "df_clean[\"title\"].fillna(df_clean[\"title\"].mode()[0],inplace=True)"
   ]
  },
  {
   "cell_type": "code",
   "execution_count": 58,
   "id": "effbd8cc-bded-492c-a031-4b618596669a",
   "metadata": {},
   "outputs": [
    {
     "data": {
      "text/plain": [
       "mths_since_last_delinq\n",
       "0.0      443\n",
       "15.0     252\n",
       "30.0     247\n",
       "23.0     247\n",
       "24.0     241\n",
       "        ... \n",
       "89.0       1\n",
       "107.0      1\n",
       "85.0       1\n",
       "97.0       1\n",
       "95.0       1\n",
       "Name: count, Length: 95, dtype: int64"
      ]
     },
     "execution_count": 58,
     "metadata": {},
     "output_type": "execute_result"
    }
   ],
   "source": [
    "#mths_since_last_delinq\n",
    "#Not sure what to do\n",
    "\n",
    "df_clean[\"mths_since_last_delinq\"].value_counts()"
   ]
  },
  {
   "cell_type": "code",
   "execution_count": 59,
   "id": "6f7e272e-a1b3-494d-bd4f-15f8df4c1ad0",
   "metadata": {},
   "outputs": [
    {
     "data": {
      "text/plain": [
       "revol_util\n",
       "0%        977\n",
       "0.20%      63\n",
       "63%        62\n",
       "40.70%     58\n",
       "66.70%     58\n",
       "         ... \n",
       "25.74%      1\n",
       "47.36%      1\n",
       "24.65%      1\n",
       "10.61%      1\n",
       "7.28%       1\n",
       "Name: count, Length: 1089, dtype: int64"
      ]
     },
     "execution_count": 59,
     "metadata": {},
     "output_type": "execute_result"
    }
   ],
   "source": [
    "#revol_util\n",
    "df_clean[\"revol_util\"].value_counts()"
   ]
  },
  {
   "cell_type": "code",
   "execution_count": 60,
   "id": "ed32a113-6bd2-4e77-b3fa-c97d9488898c",
   "metadata": {},
   "outputs": [],
   "source": [
    "#use mode \n",
    "df_clean[\"revol_util\"].fillna(df_clean[\"revol_util\"].mode()[0],inplace=True)"
   ]
  },
  {
   "cell_type": "code",
   "execution_count": 61,
   "id": "177b77bf-d7a6-40bf-9b51-2fd27405c0ec",
   "metadata": {},
   "outputs": [
    {
     "data": {
      "text/plain": [
       "last_pymnt_d\n",
       "May-16    1256\n",
       "Mar-13    1026\n",
       "Dec-14     945\n",
       "May-13     907\n",
       "Feb-13     869\n",
       "          ... \n",
       "Jun-08      10\n",
       "Nov-08      10\n",
       "Mar-08       5\n",
       "Jan-08       4\n",
       "Feb-08       1\n",
       "Name: count, Length: 101, dtype: int64"
      ]
     },
     "execution_count": 61,
     "metadata": {},
     "output_type": "execute_result"
    }
   ],
   "source": [
    "#last_pymnt_d\n",
    "df_clean[\"last_pymnt_d\"].value_counts()"
   ]
  },
  {
   "cell_type": "code",
   "execution_count": 62,
   "id": "a0b48b64-2203-4f68-aa4c-c861739331dd",
   "metadata": {},
   "outputs": [],
   "source": [
    "#use mode\n",
    "df_clean[\"last_pymnt_d\"].fillna(df_clean[\"last_pymnt_d\"].mode()[0],inplace=True)\n"
   ]
  },
  {
   "cell_type": "code",
   "execution_count": 63,
   "id": "b215710f-1260-4c05-8f13-2113b539909b",
   "metadata": {},
   "outputs": [],
   "source": [
    "#last_credit_pull_d --- Use mode\n",
    "df_clean[\"last_credit_pull_d\"].fillna(df_clean[\"last_credit_pull_d\"].mode()[0],inplace=True)"
   ]
  },
  {
   "cell_type": "code",
   "execution_count": 64,
   "id": "cd23a127-19a2-4e97-895f-fd7ab442f76b",
   "metadata": {},
   "outputs": [
    {
     "data": {
      "text/plain": [
       "chargeoff_within_12_mths\n",
       "0.0    39661\n",
       "Name: count, dtype: int64"
      ]
     },
     "execution_count": 64,
     "metadata": {},
     "output_type": "execute_result"
    }
   ],
   "source": [
    "#charge_off_within_12mths\"\n",
    "df_clean[\"chargeoff_within_12_mths\"].value_counts()"
   ]
  },
  {
   "cell_type": "code",
   "execution_count": 65,
   "id": "0f9f65a8-9220-4f82-9e9a-ec60d2b46e56",
   "metadata": {},
   "outputs": [],
   "source": [
    "#all values are zero,we can either drop this column or impute the remaining values with 0\n",
    "#drop the column\n",
    "df_clean = df_clean.drop([\"chargeoff_within_12_mths\"],axis=1)"
   ]
  },
  {
   "cell_type": "code",
   "execution_count": 66,
   "id": "026227c7-f488-4a12-8de2-f59ac6964c55",
   "metadata": {},
   "outputs": [
    {
     "data": {
      "text/plain": [
       "pub_rec_bankruptcies\n",
       "0.0    37339\n",
       "1.0     1674\n",
       "2.0        7\n",
       "Name: count, dtype: int64"
      ]
     },
     "execution_count": 66,
     "metadata": {},
     "output_type": "execute_result"
    }
   ],
   "source": [
    "#pub_rec_bankruptcies\n",
    "df_clean[\"pub_rec_bankruptcies\"].value_counts()"
   ]
  },
  {
   "cell_type": "code",
   "execution_count": 67,
   "id": "f036e517-5e3f-4ca8-b915-3c7c0ee2dcb0",
   "metadata": {},
   "outputs": [],
   "source": [
    "df_clean[\"pub_rec_bankruptcies\"].fillna(df_clean[\"pub_rec_bankruptcies\"].mode()[0],inplace=True)"
   ]
  },
  {
   "cell_type": "code",
   "execution_count": null,
   "id": "c89277e0-0ba6-4e95-b1b9-95a7c3989a84",
   "metadata": {},
   "outputs": [],
   "source": []
  },
  {
   "cell_type": "code",
   "execution_count": 68,
   "id": "eb10c5a6-649c-412a-8b35-c49cb65cb62e",
   "metadata": {},
   "outputs": [
    {
     "data": {
      "text/plain": [
       "(39717, 45)"
      ]
     },
     "execution_count": 68,
     "metadata": {},
     "output_type": "execute_result"
    }
   ],
   "source": [
    "df_clean.shape"
   ]
  },
  {
   "cell_type": "code",
   "execution_count": 69,
   "id": "79e640f7-3c24-4130-a57e-98508a7fada3",
   "metadata": {},
   "outputs": [],
   "source": [
    "#Evaluating the data beyond 90th Percentile and below 10th Percentile\n",
    "#int_rate,annual_income"
   ]
  },
  {
   "cell_type": "code",
   "execution_count": 70,
   "id": "4c4a17f4-c228-44f8-9d11-c6a31abfa847",
   "metadata": {},
   "outputs": [
    {
     "data": {
      "text/plain": [
       "Index(['id', 'member_id', 'loan_amnt', 'funded_amnt', 'funded_amnt_inv',\n",
       "       'term', 'int_rate', 'installment', 'grade', 'sub_grade', 'emp_title',\n",
       "       'emp_length', 'home_ownership', 'annual_inc', 'verification_status',\n",
       "       'issue_d', 'loan_status', 'url', 'purpose', 'title', 'zip_code',\n",
       "       'addr_state', 'dti', 'delinq_2yrs', 'earliest_cr_line',\n",
       "       'inq_last_6mths', 'mths_since_last_delinq', 'open_acc', 'pub_rec',\n",
       "       'revol_bal', 'revol_util', 'total_acc', 'out_prncp', 'out_prncp_inv',\n",
       "       'total_pymnt', 'total_pymnt_inv', 'total_rec_prncp', 'total_rec_int',\n",
       "       'total_rec_late_fee', 'recoveries', 'collection_recovery_fee',\n",
       "       'last_pymnt_d', 'last_pymnt_amnt', 'last_credit_pull_d',\n",
       "       'pub_rec_bankruptcies'],\n",
       "      dtype='object')"
      ]
     },
     "execution_count": 70,
     "metadata": {},
     "output_type": "execute_result"
    }
   ],
   "source": [
    "df_clean.columns"
   ]
  },
  {
   "cell_type": "code",
   "execution_count": 71,
   "id": "1cf80a5d-d62f-4b89-9a46-28a8d32c0312",
   "metadata": {},
   "outputs": [
    {
     "data": {
      "text/html": [
       "<div>\n",
       "<style scoped>\n",
       "    .dataframe tbody tr th:only-of-type {\n",
       "        vertical-align: middle;\n",
       "    }\n",
       "\n",
       "    .dataframe tbody tr th {\n",
       "        vertical-align: top;\n",
       "    }\n",
       "\n",
       "    .dataframe thead th {\n",
       "        text-align: right;\n",
       "    }\n",
       "</style>\n",
       "<table border=\"1\" class=\"dataframe\">\n",
       "  <thead>\n",
       "    <tr style=\"text-align: right;\">\n",
       "      <th></th>\n",
       "      <th>id</th>\n",
       "      <th>member_id</th>\n",
       "      <th>loan_amnt</th>\n",
       "      <th>funded_amnt</th>\n",
       "      <th>funded_amnt_inv</th>\n",
       "      <th>installment</th>\n",
       "      <th>annual_inc</th>\n",
       "      <th>dti</th>\n",
       "      <th>delinq_2yrs</th>\n",
       "      <th>inq_last_6mths</th>\n",
       "      <th>...</th>\n",
       "      <th>out_prncp_inv</th>\n",
       "      <th>total_pymnt</th>\n",
       "      <th>total_pymnt_inv</th>\n",
       "      <th>total_rec_prncp</th>\n",
       "      <th>total_rec_int</th>\n",
       "      <th>total_rec_late_fee</th>\n",
       "      <th>recoveries</th>\n",
       "      <th>collection_recovery_fee</th>\n",
       "      <th>last_pymnt_amnt</th>\n",
       "      <th>pub_rec_bankruptcies</th>\n",
       "    </tr>\n",
       "  </thead>\n",
       "  <tbody>\n",
       "    <tr>\n",
       "      <th>id</th>\n",
       "      <td>1.000000</td>\n",
       "      <td>0.993650</td>\n",
       "      <td>0.141919</td>\n",
       "      <td>0.152286</td>\n",
       "      <td>0.249547</td>\n",
       "      <td>0.086587</td>\n",
       "      <td>0.008731</td>\n",
       "      <td>0.095983</td>\n",
       "      <td>-0.008644</td>\n",
       "      <td>-0.042378</td>\n",
       "      <td>...</td>\n",
       "      <td>0.180591</td>\n",
       "      <td>0.140045</td>\n",
       "      <td>0.220838</td>\n",
       "      <td>0.112213</td>\n",
       "      <td>0.172856</td>\n",
       "      <td>-0.055082</td>\n",
       "      <td>0.033426</td>\n",
       "      <td>-0.013359</td>\n",
       "      <td>0.122365</td>\n",
       "      <td>-0.000569</td>\n",
       "    </tr>\n",
       "    <tr>\n",
       "      <th>member_id</th>\n",
       "      <td>0.993650</td>\n",
       "      <td>1.000000</td>\n",
       "      <td>0.140710</td>\n",
       "      <td>0.150322</td>\n",
       "      <td>0.257887</td>\n",
       "      <td>0.081025</td>\n",
       "      <td>0.009380</td>\n",
       "      <td>0.096963</td>\n",
       "      <td>-0.008119</td>\n",
       "      <td>-0.047086</td>\n",
       "      <td>...</td>\n",
       "      <td>0.170706</td>\n",
       "      <td>0.139975</td>\n",
       "      <td>0.229307</td>\n",
       "      <td>0.112168</td>\n",
       "      <td>0.173234</td>\n",
       "      <td>-0.057750</td>\n",
       "      <td>0.031565</td>\n",
       "      <td>-0.015155</td>\n",
       "      <td>0.123627</td>\n",
       "      <td>0.000809</td>\n",
       "    </tr>\n",
       "    <tr>\n",
       "      <th>loan_amnt</th>\n",
       "      <td>0.141919</td>\n",
       "      <td>0.140710</td>\n",
       "      <td>1.000000</td>\n",
       "      <td>0.981578</td>\n",
       "      <td>0.940034</td>\n",
       "      <td>0.930288</td>\n",
       "      <td>0.271149</td>\n",
       "      <td>0.066439</td>\n",
       "      <td>-0.031864</td>\n",
       "      <td>0.009229</td>\n",
       "      <td>...</td>\n",
       "      <td>0.192623</td>\n",
       "      <td>0.886613</td>\n",
       "      <td>0.854243</td>\n",
       "      <td>0.852021</td>\n",
       "      <td>0.729726</td>\n",
       "      <td>0.044706</td>\n",
       "      <td>0.135446</td>\n",
       "      <td>0.072853</td>\n",
       "      <td>0.448742</td>\n",
       "      <td>-0.036284</td>\n",
       "    </tr>\n",
       "    <tr>\n",
       "      <th>funded_amnt</th>\n",
       "      <td>0.152286</td>\n",
       "      <td>0.150322</td>\n",
       "      <td>0.981578</td>\n",
       "      <td>1.000000</td>\n",
       "      <td>0.958422</td>\n",
       "      <td>0.956159</td>\n",
       "      <td>0.266965</td>\n",
       "      <td>0.066283</td>\n",
       "      <td>-0.032355</td>\n",
       "      <td>0.009259</td>\n",
       "      <td>...</td>\n",
       "      <td>0.194675</td>\n",
       "      <td>0.903160</td>\n",
       "      <td>0.870799</td>\n",
       "      <td>0.870255</td>\n",
       "      <td>0.737469</td>\n",
       "      <td>0.046705</td>\n",
       "      <td>0.136284</td>\n",
       "      <td>0.074676</td>\n",
       "      <td>0.453133</td>\n",
       "      <td>-0.037636</td>\n",
       "    </tr>\n",
       "    <tr>\n",
       "      <th>funded_amnt_inv</th>\n",
       "      <td>0.249547</td>\n",
       "      <td>0.257887</td>\n",
       "      <td>0.940034</td>\n",
       "      <td>0.958422</td>\n",
       "      <td>1.000000</td>\n",
       "      <td>0.905039</td>\n",
       "      <td>0.254375</td>\n",
       "      <td>0.074689</td>\n",
       "      <td>-0.038501</td>\n",
       "      <td>-0.005712</td>\n",
       "      <td>...</td>\n",
       "      <td>0.203693</td>\n",
       "      <td>0.881228</td>\n",
       "      <td>0.913257</td>\n",
       "      <td>0.845848</td>\n",
       "      <td>0.730914</td>\n",
       "      <td>0.027172</td>\n",
       "      <td>0.123759</td>\n",
       "      <td>0.060358</td>\n",
       "      <td>0.442604</td>\n",
       "      <td>-0.037982</td>\n",
       "    </tr>\n",
       "    <tr>\n",
       "      <th>installment</th>\n",
       "      <td>0.086587</td>\n",
       "      <td>0.081025</td>\n",
       "      <td>0.930288</td>\n",
       "      <td>0.956159</td>\n",
       "      <td>0.905039</td>\n",
       "      <td>1.000000</td>\n",
       "      <td>0.270874</td>\n",
       "      <td>0.054186</td>\n",
       "      <td>-0.019657</td>\n",
       "      <td>0.009722</td>\n",
       "      <td>...</td>\n",
       "      <td>0.124932</td>\n",
       "      <td>0.856928</td>\n",
       "      <td>0.817416</td>\n",
       "      <td>0.850773</td>\n",
       "      <td>0.634725</td>\n",
       "      <td>0.056709</td>\n",
       "      <td>0.118152</td>\n",
       "      <td>0.075467</td>\n",
       "      <td>0.401688</td>\n",
       "      <td>-0.033746</td>\n",
       "    </tr>\n",
       "    <tr>\n",
       "      <th>annual_inc</th>\n",
       "      <td>0.008731</td>\n",
       "      <td>0.009380</td>\n",
       "      <td>0.271149</td>\n",
       "      <td>0.266965</td>\n",
       "      <td>0.254375</td>\n",
       "      <td>0.270874</td>\n",
       "      <td>1.000000</td>\n",
       "      <td>-0.122732</td>\n",
       "      <td>0.023083</td>\n",
       "      <td>0.033908</td>\n",
       "      <td>...</td>\n",
       "      <td>0.033472</td>\n",
       "      <td>0.257980</td>\n",
       "      <td>0.247119</td>\n",
       "      <td>0.259571</td>\n",
       "      <td>0.185476</td>\n",
       "      <td>0.006243</td>\n",
       "      <td>0.021589</td>\n",
       "      <td>0.015604</td>\n",
       "      <td>0.140401</td>\n",
       "      <td>-0.016514</td>\n",
       "    </tr>\n",
       "    <tr>\n",
       "      <th>dti</th>\n",
       "      <td>0.095983</td>\n",
       "      <td>0.096963</td>\n",
       "      <td>0.066439</td>\n",
       "      <td>0.066283</td>\n",
       "      <td>0.074689</td>\n",
       "      <td>0.054186</td>\n",
       "      <td>-0.122732</td>\n",
       "      <td>1.000000</td>\n",
       "      <td>-0.034452</td>\n",
       "      <td>0.001405</td>\n",
       "      <td>...</td>\n",
       "      <td>0.036012</td>\n",
       "      <td>0.064766</td>\n",
       "      <td>0.071647</td>\n",
       "      <td>0.041316</td>\n",
       "      <td>0.106071</td>\n",
       "      <td>-0.011781</td>\n",
       "      <td>0.024878</td>\n",
       "      <td>0.011033</td>\n",
       "      <td>0.005212</td>\n",
       "      <td>0.007021</td>\n",
       "    </tr>\n",
       "    <tr>\n",
       "      <th>delinq_2yrs</th>\n",
       "      <td>-0.008644</td>\n",
       "      <td>-0.008119</td>\n",
       "      <td>-0.031864</td>\n",
       "      <td>-0.032355</td>\n",
       "      <td>-0.038501</td>\n",
       "      <td>-0.019657</td>\n",
       "      <td>0.023083</td>\n",
       "      <td>-0.034452</td>\n",
       "      <td>1.000000</td>\n",
       "      <td>0.008091</td>\n",
       "      <td>...</td>\n",
       "      <td>-0.003203</td>\n",
       "      <td>-0.022695</td>\n",
       "      <td>-0.028976</td>\n",
       "      <td>-0.038795</td>\n",
       "      <td>0.023077</td>\n",
       "      <td>0.030609</td>\n",
       "      <td>0.012315</td>\n",
       "      <td>0.013912</td>\n",
       "      <td>-0.012149</td>\n",
       "      <td>0.002954</td>\n",
       "    </tr>\n",
       "    <tr>\n",
       "      <th>inq_last_6mths</th>\n",
       "      <td>-0.042378</td>\n",
       "      <td>-0.047086</td>\n",
       "      <td>0.009229</td>\n",
       "      <td>0.009259</td>\n",
       "      <td>-0.005712</td>\n",
       "      <td>0.009722</td>\n",
       "      <td>0.033908</td>\n",
       "      <td>0.001405</td>\n",
       "      <td>0.008091</td>\n",
       "      <td>1.000000</td>\n",
       "      <td>...</td>\n",
       "      <td>-0.011780</td>\n",
       "      <td>-0.010559</td>\n",
       "      <td>-0.020277</td>\n",
       "      <td>-0.023433</td>\n",
       "      <td>0.021774</td>\n",
       "      <td>0.031215</td>\n",
       "      <td>0.018972</td>\n",
       "      <td>0.012420</td>\n",
       "      <td>0.028514</td>\n",
       "      <td>0.015652</td>\n",
       "    </tr>\n",
       "    <tr>\n",
       "      <th>mths_since_last_delinq</th>\n",
       "      <td>0.117193</td>\n",
       "      <td>0.122963</td>\n",
       "      <td>0.014871</td>\n",
       "      <td>0.016359</td>\n",
       "      <td>0.071924</td>\n",
       "      <td>0.000047</td>\n",
       "      <td>-0.008822</td>\n",
       "      <td>0.068815</td>\n",
       "      <td>-0.569438</td>\n",
       "      <td>-0.003851</td>\n",
       "      <td>...</td>\n",
       "      <td>0.005501</td>\n",
       "      <td>0.012174</td>\n",
       "      <td>0.057515</td>\n",
       "      <td>0.015708</td>\n",
       "      <td>0.002801</td>\n",
       "      <td>-0.028460</td>\n",
       "      <td>-0.008622</td>\n",
       "      <td>-0.018697</td>\n",
       "      <td>0.007023</td>\n",
       "      <td>0.036300</td>\n",
       "    </tr>\n",
       "    <tr>\n",
       "      <th>open_acc</th>\n",
       "      <td>0.020388</td>\n",
       "      <td>0.017928</td>\n",
       "      <td>0.177168</td>\n",
       "      <td>0.175530</td>\n",
       "      <td>0.163027</td>\n",
       "      <td>0.172812</td>\n",
       "      <td>0.158200</td>\n",
       "      <td>0.288045</td>\n",
       "      <td>0.011656</td>\n",
       "      <td>0.091713</td>\n",
       "      <td>...</td>\n",
       "      <td>0.028514</td>\n",
       "      <td>0.162663</td>\n",
       "      <td>0.152937</td>\n",
       "      <td>0.160631</td>\n",
       "      <td>0.124499</td>\n",
       "      <td>-0.018627</td>\n",
       "      <td>0.016396</td>\n",
       "      <td>0.006219</td>\n",
       "      <td>0.078865</td>\n",
       "      <td>0.005763</td>\n",
       "    </tr>\n",
       "    <tr>\n",
       "      <th>pub_rec</th>\n",
       "      <td>-0.019440</td>\n",
       "      <td>-0.018721</td>\n",
       "      <td>-0.051236</td>\n",
       "      <td>-0.052169</td>\n",
       "      <td>-0.053214</td>\n",
       "      <td>-0.046532</td>\n",
       "      <td>-0.018689</td>\n",
       "      <td>-0.004621</td>\n",
       "      <td>0.007463</td>\n",
       "      <td>0.024802</td>\n",
       "      <td>...</td>\n",
       "      <td>-0.012910</td>\n",
       "      <td>-0.053668</td>\n",
       "      <td>-0.054101</td>\n",
       "      <td>-0.065384</td>\n",
       "      <td>-0.007470</td>\n",
       "      <td>-0.002071</td>\n",
       "      <td>-0.005521</td>\n",
       "      <td>-0.005536</td>\n",
       "      <td>-0.032214</td>\n",
       "      <td>0.843032</td>\n",
       "    </tr>\n",
       "    <tr>\n",
       "      <th>revol_bal</th>\n",
       "      <td>0.008763</td>\n",
       "      <td>0.005113</td>\n",
       "      <td>0.317597</td>\n",
       "      <td>0.310392</td>\n",
       "      <td>0.290797</td>\n",
       "      <td>0.312679</td>\n",
       "      <td>0.279961</td>\n",
       "      <td>0.228743</td>\n",
       "      <td>-0.055125</td>\n",
       "      <td>-0.022381</td>\n",
       "      <td>...</td>\n",
       "      <td>0.060183</td>\n",
       "      <td>0.293204</td>\n",
       "      <td>0.277543</td>\n",
       "      <td>0.281419</td>\n",
       "      <td>0.243000</td>\n",
       "      <td>0.003823</td>\n",
       "      <td>0.042091</td>\n",
       "      <td>0.022400</td>\n",
       "      <td>0.120371</td>\n",
       "      <td>-0.048876</td>\n",
       "    </tr>\n",
       "    <tr>\n",
       "      <th>total_acc</th>\n",
       "      <td>0.042149</td>\n",
       "      <td>0.044374</td>\n",
       "      <td>0.256442</td>\n",
       "      <td>0.250589</td>\n",
       "      <td>0.242854</td>\n",
       "      <td>0.230824</td>\n",
       "      <td>0.235771</td>\n",
       "      <td>0.229881</td>\n",
       "      <td>0.067892</td>\n",
       "      <td>0.111499</td>\n",
       "      <td>...</td>\n",
       "      <td>0.031009</td>\n",
       "      <td>0.225077</td>\n",
       "      <td>0.219244</td>\n",
       "      <td>0.231242</td>\n",
       "      <td>0.147792</td>\n",
       "      <td>-0.024715</td>\n",
       "      <td>0.023281</td>\n",
       "      <td>0.010551</td>\n",
       "      <td>0.162841</td>\n",
       "      <td>-0.010757</td>\n",
       "    </tr>\n",
       "    <tr>\n",
       "      <th>out_prncp</th>\n",
       "      <td>0.180619</td>\n",
       "      <td>0.170743</td>\n",
       "      <td>0.192937</td>\n",
       "      <td>0.194941</td>\n",
       "      <td>0.203688</td>\n",
       "      <td>0.125082</td>\n",
       "      <td>0.033573</td>\n",
       "      <td>0.036095</td>\n",
       "      <td>-0.003008</td>\n",
       "      <td>-0.012106</td>\n",
       "      <td>...</td>\n",
       "      <td>0.999827</td>\n",
       "      <td>0.239367</td>\n",
       "      <td>0.246537</td>\n",
       "      <td>0.166519</td>\n",
       "      <td>0.383746</td>\n",
       "      <td>-0.004644</td>\n",
       "      <td>-0.018878</td>\n",
       "      <td>-0.011394</td>\n",
       "      <td>-0.066393</td>\n",
       "      <td>-0.009506</td>\n",
       "    </tr>\n",
       "    <tr>\n",
       "      <th>out_prncp_inv</th>\n",
       "      <td>0.180591</td>\n",
       "      <td>0.170706</td>\n",
       "      <td>0.192623</td>\n",
       "      <td>0.194675</td>\n",
       "      <td>0.203693</td>\n",
       "      <td>0.124932</td>\n",
       "      <td>0.033472</td>\n",
       "      <td>0.036012</td>\n",
       "      <td>-0.003203</td>\n",
       "      <td>-0.011780</td>\n",
       "      <td>...</td>\n",
       "      <td>1.000000</td>\n",
       "      <td>0.239049</td>\n",
       "      <td>0.246524</td>\n",
       "      <td>0.166235</td>\n",
       "      <td>0.383410</td>\n",
       "      <td>-0.004752</td>\n",
       "      <td>-0.018858</td>\n",
       "      <td>-0.011382</td>\n",
       "      <td>-0.066324</td>\n",
       "      <td>-0.009797</td>\n",
       "    </tr>\n",
       "    <tr>\n",
       "      <th>total_pymnt</th>\n",
       "      <td>0.140045</td>\n",
       "      <td>0.139975</td>\n",
       "      <td>0.886613</td>\n",
       "      <td>0.903160</td>\n",
       "      <td>0.881228</td>\n",
       "      <td>0.856928</td>\n",
       "      <td>0.257980</td>\n",
       "      <td>0.064766</td>\n",
       "      <td>-0.022695</td>\n",
       "      <td>-0.010559</td>\n",
       "      <td>...</td>\n",
       "      <td>0.239049</td>\n",
       "      <td>1.000000</td>\n",
       "      <td>0.970815</td>\n",
       "      <td>0.971472</td>\n",
       "      <td>0.828758</td>\n",
       "      <td>0.012981</td>\n",
       "      <td>0.023950</td>\n",
       "      <td>0.024555</td>\n",
       "      <td>0.474624</td>\n",
       "      <td>-0.042579</td>\n",
       "    </tr>\n",
       "    <tr>\n",
       "      <th>total_pymnt_inv</th>\n",
       "      <td>0.220838</td>\n",
       "      <td>0.229307</td>\n",
       "      <td>0.854243</td>\n",
       "      <td>0.870799</td>\n",
       "      <td>0.913257</td>\n",
       "      <td>0.817416</td>\n",
       "      <td>0.247119</td>\n",
       "      <td>0.071647</td>\n",
       "      <td>-0.028976</td>\n",
       "      <td>-0.020277</td>\n",
       "      <td>...</td>\n",
       "      <td>0.246524</td>\n",
       "      <td>0.970815</td>\n",
       "      <td>1.000000</td>\n",
       "      <td>0.939581</td>\n",
       "      <td>0.815615</td>\n",
       "      <td>-0.000796</td>\n",
       "      <td>0.017862</td>\n",
       "      <td>0.015016</td>\n",
       "      <td>0.462255</td>\n",
       "      <td>-0.042747</td>\n",
       "    </tr>\n",
       "    <tr>\n",
       "      <th>total_rec_prncp</th>\n",
       "      <td>0.112213</td>\n",
       "      <td>0.112168</td>\n",
       "      <td>0.852021</td>\n",
       "      <td>0.870255</td>\n",
       "      <td>0.845848</td>\n",
       "      <td>0.850773</td>\n",
       "      <td>0.259571</td>\n",
       "      <td>0.041316</td>\n",
       "      <td>-0.038795</td>\n",
       "      <td>-0.023433</td>\n",
       "      <td>...</td>\n",
       "      <td>0.166235</td>\n",
       "      <td>0.971472</td>\n",
       "      <td>0.939581</td>\n",
       "      <td>1.000000</td>\n",
       "      <td>0.684027</td>\n",
       "      <td>-0.019667</td>\n",
       "      <td>-0.094821</td>\n",
       "      <td>-0.058634</td>\n",
       "      <td>0.543408</td>\n",
       "      <td>-0.053120</td>\n",
       "    </tr>\n",
       "    <tr>\n",
       "      <th>total_rec_int</th>\n",
       "      <td>0.172856</td>\n",
       "      <td>0.173234</td>\n",
       "      <td>0.729726</td>\n",
       "      <td>0.737469</td>\n",
       "      <td>0.730914</td>\n",
       "      <td>0.634725</td>\n",
       "      <td>0.185476</td>\n",
       "      <td>0.106071</td>\n",
       "      <td>0.023077</td>\n",
       "      <td>0.021774</td>\n",
       "      <td>...</td>\n",
       "      <td>0.383410</td>\n",
       "      <td>0.828758</td>\n",
       "      <td>0.815615</td>\n",
       "      <td>0.684027</td>\n",
       "      <td>1.000000</td>\n",
       "      <td>0.069099</td>\n",
       "      <td>0.075552</td>\n",
       "      <td>0.033289</td>\n",
       "      <td>0.191990</td>\n",
       "      <td>-0.002464</td>\n",
       "    </tr>\n",
       "    <tr>\n",
       "      <th>total_rec_late_fee</th>\n",
       "      <td>-0.055082</td>\n",
       "      <td>-0.057750</td>\n",
       "      <td>0.044706</td>\n",
       "      <td>0.046705</td>\n",
       "      <td>0.027172</td>\n",
       "      <td>0.056709</td>\n",
       "      <td>0.006243</td>\n",
       "      <td>-0.011781</td>\n",
       "      <td>0.030609</td>\n",
       "      <td>0.031215</td>\n",
       "      <td>...</td>\n",
       "      <td>-0.004752</td>\n",
       "      <td>0.012981</td>\n",
       "      <td>-0.000796</td>\n",
       "      <td>-0.019667</td>\n",
       "      <td>0.069099</td>\n",
       "      <td>1.000000</td>\n",
       "      <td>0.099925</td>\n",
       "      <td>0.093178</td>\n",
       "      <td>-0.060600</td>\n",
       "      <td>-0.006408</td>\n",
       "    </tr>\n",
       "    <tr>\n",
       "      <th>recoveries</th>\n",
       "      <td>0.033426</td>\n",
       "      <td>0.031565</td>\n",
       "      <td>0.135446</td>\n",
       "      <td>0.136284</td>\n",
       "      <td>0.123759</td>\n",
       "      <td>0.118152</td>\n",
       "      <td>0.021589</td>\n",
       "      <td>0.024878</td>\n",
       "      <td>0.012315</td>\n",
       "      <td>0.018972</td>\n",
       "      <td>...</td>\n",
       "      <td>-0.018858</td>\n",
       "      <td>0.023950</td>\n",
       "      <td>0.017862</td>\n",
       "      <td>-0.094821</td>\n",
       "      <td>0.075552</td>\n",
       "      <td>0.099925</td>\n",
       "      <td>1.000000</td>\n",
       "      <td>0.796816</td>\n",
       "      <td>-0.069955</td>\n",
       "      <td>-0.004658</td>\n",
       "    </tr>\n",
       "    <tr>\n",
       "      <th>collection_recovery_fee</th>\n",
       "      <td>-0.013359</td>\n",
       "      <td>-0.015155</td>\n",
       "      <td>0.072853</td>\n",
       "      <td>0.074676</td>\n",
       "      <td>0.060358</td>\n",
       "      <td>0.075467</td>\n",
       "      <td>0.015604</td>\n",
       "      <td>0.011033</td>\n",
       "      <td>0.013912</td>\n",
       "      <td>0.012420</td>\n",
       "      <td>...</td>\n",
       "      <td>-0.011382</td>\n",
       "      <td>0.024555</td>\n",
       "      <td>0.015016</td>\n",
       "      <td>-0.058634</td>\n",
       "      <td>0.033289</td>\n",
       "      <td>0.093178</td>\n",
       "      <td>0.796816</td>\n",
       "      <td>1.000000</td>\n",
       "      <td>-0.041874</td>\n",
       "      <td>-0.005385</td>\n",
       "    </tr>\n",
       "    <tr>\n",
       "      <th>last_pymnt_amnt</th>\n",
       "      <td>0.122365</td>\n",
       "      <td>0.123627</td>\n",
       "      <td>0.448742</td>\n",
       "      <td>0.453133</td>\n",
       "      <td>0.442604</td>\n",
       "      <td>0.401688</td>\n",
       "      <td>0.140401</td>\n",
       "      <td>0.005212</td>\n",
       "      <td>-0.012149</td>\n",
       "      <td>0.028514</td>\n",
       "      <td>...</td>\n",
       "      <td>-0.066324</td>\n",
       "      <td>0.474624</td>\n",
       "      <td>0.462255</td>\n",
       "      <td>0.543408</td>\n",
       "      <td>0.191990</td>\n",
       "      <td>-0.060600</td>\n",
       "      <td>-0.069955</td>\n",
       "      <td>-0.041874</td>\n",
       "      <td>1.000000</td>\n",
       "      <td>-0.021523</td>\n",
       "    </tr>\n",
       "    <tr>\n",
       "      <th>pub_rec_bankruptcies</th>\n",
       "      <td>-0.000569</td>\n",
       "      <td>0.000809</td>\n",
       "      <td>-0.036284</td>\n",
       "      <td>-0.037636</td>\n",
       "      <td>-0.037982</td>\n",
       "      <td>-0.033746</td>\n",
       "      <td>-0.016514</td>\n",
       "      <td>0.007021</td>\n",
       "      <td>0.002954</td>\n",
       "      <td>0.015652</td>\n",
       "      <td>...</td>\n",
       "      <td>-0.009797</td>\n",
       "      <td>-0.042579</td>\n",
       "      <td>-0.042747</td>\n",
       "      <td>-0.053120</td>\n",
       "      <td>-0.002464</td>\n",
       "      <td>-0.006408</td>\n",
       "      <td>-0.004658</td>\n",
       "      <td>-0.005385</td>\n",
       "      <td>-0.021523</td>\n",
       "      <td>1.000000</td>\n",
       "    </tr>\n",
       "  </tbody>\n",
       "</table>\n",
       "<p>26 rows × 26 columns</p>\n",
       "</div>"
      ],
      "text/plain": [
       "                               id  member_id  loan_amnt  funded_amnt  \\\n",
       "id                       1.000000   0.993650   0.141919     0.152286   \n",
       "member_id                0.993650   1.000000   0.140710     0.150322   \n",
       "loan_amnt                0.141919   0.140710   1.000000     0.981578   \n",
       "funded_amnt              0.152286   0.150322   0.981578     1.000000   \n",
       "funded_amnt_inv          0.249547   0.257887   0.940034     0.958422   \n",
       "installment              0.086587   0.081025   0.930288     0.956159   \n",
       "annual_inc               0.008731   0.009380   0.271149     0.266965   \n",
       "dti                      0.095983   0.096963   0.066439     0.066283   \n",
       "delinq_2yrs             -0.008644  -0.008119  -0.031864    -0.032355   \n",
       "inq_last_6mths          -0.042378  -0.047086   0.009229     0.009259   \n",
       "mths_since_last_delinq   0.117193   0.122963   0.014871     0.016359   \n",
       "open_acc                 0.020388   0.017928   0.177168     0.175530   \n",
       "pub_rec                 -0.019440  -0.018721  -0.051236    -0.052169   \n",
       "revol_bal                0.008763   0.005113   0.317597     0.310392   \n",
       "total_acc                0.042149   0.044374   0.256442     0.250589   \n",
       "out_prncp                0.180619   0.170743   0.192937     0.194941   \n",
       "out_prncp_inv            0.180591   0.170706   0.192623     0.194675   \n",
       "total_pymnt              0.140045   0.139975   0.886613     0.903160   \n",
       "total_pymnt_inv          0.220838   0.229307   0.854243     0.870799   \n",
       "total_rec_prncp          0.112213   0.112168   0.852021     0.870255   \n",
       "total_rec_int            0.172856   0.173234   0.729726     0.737469   \n",
       "total_rec_late_fee      -0.055082  -0.057750   0.044706     0.046705   \n",
       "recoveries               0.033426   0.031565   0.135446     0.136284   \n",
       "collection_recovery_fee -0.013359  -0.015155   0.072853     0.074676   \n",
       "last_pymnt_amnt          0.122365   0.123627   0.448742     0.453133   \n",
       "pub_rec_bankruptcies    -0.000569   0.000809  -0.036284    -0.037636   \n",
       "\n",
       "                         funded_amnt_inv  installment  annual_inc       dti  \\\n",
       "id                              0.249547     0.086587    0.008731  0.095983   \n",
       "member_id                       0.257887     0.081025    0.009380  0.096963   \n",
       "loan_amnt                       0.940034     0.930288    0.271149  0.066439   \n",
       "funded_amnt                     0.958422     0.956159    0.266965  0.066283   \n",
       "funded_amnt_inv                 1.000000     0.905039    0.254375  0.074689   \n",
       "installment                     0.905039     1.000000    0.270874  0.054186   \n",
       "annual_inc                      0.254375     0.270874    1.000000 -0.122732   \n",
       "dti                             0.074689     0.054186   -0.122732  1.000000   \n",
       "delinq_2yrs                    -0.038501    -0.019657    0.023083 -0.034452   \n",
       "inq_last_6mths                 -0.005712     0.009722    0.033908  0.001405   \n",
       "mths_since_last_delinq          0.071924     0.000047   -0.008822  0.068815   \n",
       "open_acc                        0.163027     0.172812    0.158200  0.288045   \n",
       "pub_rec                        -0.053214    -0.046532   -0.018689 -0.004621   \n",
       "revol_bal                       0.290797     0.312679    0.279961  0.228743   \n",
       "total_acc                       0.242854     0.230824    0.235771  0.229881   \n",
       "out_prncp                       0.203688     0.125082    0.033573  0.036095   \n",
       "out_prncp_inv                   0.203693     0.124932    0.033472  0.036012   \n",
       "total_pymnt                     0.881228     0.856928    0.257980  0.064766   \n",
       "total_pymnt_inv                 0.913257     0.817416    0.247119  0.071647   \n",
       "total_rec_prncp                 0.845848     0.850773    0.259571  0.041316   \n",
       "total_rec_int                   0.730914     0.634725    0.185476  0.106071   \n",
       "total_rec_late_fee              0.027172     0.056709    0.006243 -0.011781   \n",
       "recoveries                      0.123759     0.118152    0.021589  0.024878   \n",
       "collection_recovery_fee         0.060358     0.075467    0.015604  0.011033   \n",
       "last_pymnt_amnt                 0.442604     0.401688    0.140401  0.005212   \n",
       "pub_rec_bankruptcies           -0.037982    -0.033746   -0.016514  0.007021   \n",
       "\n",
       "                         delinq_2yrs  inq_last_6mths  ...  out_prncp_inv  \\\n",
       "id                         -0.008644       -0.042378  ...       0.180591   \n",
       "member_id                  -0.008119       -0.047086  ...       0.170706   \n",
       "loan_amnt                  -0.031864        0.009229  ...       0.192623   \n",
       "funded_amnt                -0.032355        0.009259  ...       0.194675   \n",
       "funded_amnt_inv            -0.038501       -0.005712  ...       0.203693   \n",
       "installment                -0.019657        0.009722  ...       0.124932   \n",
       "annual_inc                  0.023083        0.033908  ...       0.033472   \n",
       "dti                        -0.034452        0.001405  ...       0.036012   \n",
       "delinq_2yrs                 1.000000        0.008091  ...      -0.003203   \n",
       "inq_last_6mths              0.008091        1.000000  ...      -0.011780   \n",
       "mths_since_last_delinq     -0.569438       -0.003851  ...       0.005501   \n",
       "open_acc                    0.011656        0.091713  ...       0.028514   \n",
       "pub_rec                     0.007463        0.024802  ...      -0.012910   \n",
       "revol_bal                  -0.055125       -0.022381  ...       0.060183   \n",
       "total_acc                   0.067892        0.111499  ...       0.031009   \n",
       "out_prncp                  -0.003008       -0.012106  ...       0.999827   \n",
       "out_prncp_inv              -0.003203       -0.011780  ...       1.000000   \n",
       "total_pymnt                -0.022695       -0.010559  ...       0.239049   \n",
       "total_pymnt_inv            -0.028976       -0.020277  ...       0.246524   \n",
       "total_rec_prncp            -0.038795       -0.023433  ...       0.166235   \n",
       "total_rec_int               0.023077        0.021774  ...       0.383410   \n",
       "total_rec_late_fee          0.030609        0.031215  ...      -0.004752   \n",
       "recoveries                  0.012315        0.018972  ...      -0.018858   \n",
       "collection_recovery_fee     0.013912        0.012420  ...      -0.011382   \n",
       "last_pymnt_amnt            -0.012149        0.028514  ...      -0.066324   \n",
       "pub_rec_bankruptcies        0.002954        0.015652  ...      -0.009797   \n",
       "\n",
       "                         total_pymnt  total_pymnt_inv  total_rec_prncp  \\\n",
       "id                          0.140045         0.220838         0.112213   \n",
       "member_id                   0.139975         0.229307         0.112168   \n",
       "loan_amnt                   0.886613         0.854243         0.852021   \n",
       "funded_amnt                 0.903160         0.870799         0.870255   \n",
       "funded_amnt_inv             0.881228         0.913257         0.845848   \n",
       "installment                 0.856928         0.817416         0.850773   \n",
       "annual_inc                  0.257980         0.247119         0.259571   \n",
       "dti                         0.064766         0.071647         0.041316   \n",
       "delinq_2yrs                -0.022695        -0.028976        -0.038795   \n",
       "inq_last_6mths             -0.010559        -0.020277        -0.023433   \n",
       "mths_since_last_delinq      0.012174         0.057515         0.015708   \n",
       "open_acc                    0.162663         0.152937         0.160631   \n",
       "pub_rec                    -0.053668        -0.054101        -0.065384   \n",
       "revol_bal                   0.293204         0.277543         0.281419   \n",
       "total_acc                   0.225077         0.219244         0.231242   \n",
       "out_prncp                   0.239367         0.246537         0.166519   \n",
       "out_prncp_inv               0.239049         0.246524         0.166235   \n",
       "total_pymnt                 1.000000         0.970815         0.971472   \n",
       "total_pymnt_inv             0.970815         1.000000         0.939581   \n",
       "total_rec_prncp             0.971472         0.939581         1.000000   \n",
       "total_rec_int               0.828758         0.815615         0.684027   \n",
       "total_rec_late_fee          0.012981        -0.000796        -0.019667   \n",
       "recoveries                  0.023950         0.017862        -0.094821   \n",
       "collection_recovery_fee     0.024555         0.015016        -0.058634   \n",
       "last_pymnt_amnt             0.474624         0.462255         0.543408   \n",
       "pub_rec_bankruptcies       -0.042579        -0.042747        -0.053120   \n",
       "\n",
       "                         total_rec_int  total_rec_late_fee  recoveries  \\\n",
       "id                            0.172856           -0.055082    0.033426   \n",
       "member_id                     0.173234           -0.057750    0.031565   \n",
       "loan_amnt                     0.729726            0.044706    0.135446   \n",
       "funded_amnt                   0.737469            0.046705    0.136284   \n",
       "funded_amnt_inv               0.730914            0.027172    0.123759   \n",
       "installment                   0.634725            0.056709    0.118152   \n",
       "annual_inc                    0.185476            0.006243    0.021589   \n",
       "dti                           0.106071           -0.011781    0.024878   \n",
       "delinq_2yrs                   0.023077            0.030609    0.012315   \n",
       "inq_last_6mths                0.021774            0.031215    0.018972   \n",
       "mths_since_last_delinq        0.002801           -0.028460   -0.008622   \n",
       "open_acc                      0.124499           -0.018627    0.016396   \n",
       "pub_rec                      -0.007470           -0.002071   -0.005521   \n",
       "revol_bal                     0.243000            0.003823    0.042091   \n",
       "total_acc                     0.147792           -0.024715    0.023281   \n",
       "out_prncp                     0.383746           -0.004644   -0.018878   \n",
       "out_prncp_inv                 0.383410           -0.004752   -0.018858   \n",
       "total_pymnt                   0.828758            0.012981    0.023950   \n",
       "total_pymnt_inv               0.815615           -0.000796    0.017862   \n",
       "total_rec_prncp               0.684027           -0.019667   -0.094821   \n",
       "total_rec_int                 1.000000            0.069099    0.075552   \n",
       "total_rec_late_fee            0.069099            1.000000    0.099925   \n",
       "recoveries                    0.075552            0.099925    1.000000   \n",
       "collection_recovery_fee       0.033289            0.093178    0.796816   \n",
       "last_pymnt_amnt               0.191990           -0.060600   -0.069955   \n",
       "pub_rec_bankruptcies         -0.002464           -0.006408   -0.004658   \n",
       "\n",
       "                         collection_recovery_fee  last_pymnt_amnt  \\\n",
       "id                                     -0.013359         0.122365   \n",
       "member_id                              -0.015155         0.123627   \n",
       "loan_amnt                               0.072853         0.448742   \n",
       "funded_amnt                             0.074676         0.453133   \n",
       "funded_amnt_inv                         0.060358         0.442604   \n",
       "installment                             0.075467         0.401688   \n",
       "annual_inc                              0.015604         0.140401   \n",
       "dti                                     0.011033         0.005212   \n",
       "delinq_2yrs                             0.013912        -0.012149   \n",
       "inq_last_6mths                          0.012420         0.028514   \n",
       "mths_since_last_delinq                 -0.018697         0.007023   \n",
       "open_acc                                0.006219         0.078865   \n",
       "pub_rec                                -0.005536        -0.032214   \n",
       "revol_bal                               0.022400         0.120371   \n",
       "total_acc                               0.010551         0.162841   \n",
       "out_prncp                              -0.011394        -0.066393   \n",
       "out_prncp_inv                          -0.011382        -0.066324   \n",
       "total_pymnt                             0.024555         0.474624   \n",
       "total_pymnt_inv                         0.015016         0.462255   \n",
       "total_rec_prncp                        -0.058634         0.543408   \n",
       "total_rec_int                           0.033289         0.191990   \n",
       "total_rec_late_fee                      0.093178        -0.060600   \n",
       "recoveries                              0.796816        -0.069955   \n",
       "collection_recovery_fee                 1.000000        -0.041874   \n",
       "last_pymnt_amnt                        -0.041874         1.000000   \n",
       "pub_rec_bankruptcies                   -0.005385        -0.021523   \n",
       "\n",
       "                         pub_rec_bankruptcies  \n",
       "id                                  -0.000569  \n",
       "member_id                            0.000809  \n",
       "loan_amnt                           -0.036284  \n",
       "funded_amnt                         -0.037636  \n",
       "funded_amnt_inv                     -0.037982  \n",
       "installment                         -0.033746  \n",
       "annual_inc                          -0.016514  \n",
       "dti                                  0.007021  \n",
       "delinq_2yrs                          0.002954  \n",
       "inq_last_6mths                       0.015652  \n",
       "mths_since_last_delinq               0.036300  \n",
       "open_acc                             0.005763  \n",
       "pub_rec                              0.843032  \n",
       "revol_bal                           -0.048876  \n",
       "total_acc                           -0.010757  \n",
       "out_prncp                           -0.009506  \n",
       "out_prncp_inv                       -0.009797  \n",
       "total_pymnt                         -0.042579  \n",
       "total_pymnt_inv                     -0.042747  \n",
       "total_rec_prncp                     -0.053120  \n",
       "total_rec_int                       -0.002464  \n",
       "total_rec_late_fee                  -0.006408  \n",
       "recoveries                          -0.004658  \n",
       "collection_recovery_fee             -0.005385  \n",
       "last_pymnt_amnt                     -0.021523  \n",
       "pub_rec_bankruptcies                 1.000000  \n",
       "\n",
       "[26 rows x 26 columns]"
      ]
     },
     "execution_count": 71,
     "metadata": {},
     "output_type": "execute_result"
    }
   ],
   "source": [
    "df_clean.corr(numeric_only=True)"
   ]
  },
  {
   "cell_type": "code",
   "execution_count": 72,
   "id": "e1ada4e7-2ae4-4dea-82ec-32b4d5fce8ab",
   "metadata": {},
   "outputs": [],
   "source": [
    "#let us see if the 90th percentile show any interesting results for loan_amnt"
   ]
  },
  {
   "cell_type": "code",
   "execution_count": 73,
   "id": "db1ecd07-e26c-4869-8c3b-946525e1e607",
   "metadata": {},
   "outputs": [],
   "source": [
    "#Removing the current loans from analysis"
   ]
  },
  {
   "cell_type": "code",
   "execution_count": 74,
   "id": "6df3983d-2edd-4c41-899a-5b9cef4cef1c",
   "metadata": {},
   "outputs": [],
   "source": [
    "df_clean=df_clean[df_clean[\"loan_status\"] != \"Current\"]"
   ]
  },
  {
   "cell_type": "code",
   "execution_count": 75,
   "id": "178abd5d-8158-42d3-a5a7-2c194f93ac47",
   "metadata": {},
   "outputs": [
    {
     "data": {
      "text/plain": [
       "loan_status\n",
       "Fully Paid     32950\n",
       "Charged Off     5627\n",
       "Name: count, dtype: int64"
      ]
     },
     "execution_count": 75,
     "metadata": {},
     "output_type": "execute_result"
    }
   ],
   "source": [
    "df_clean[\"loan_status\"].value_counts()"
   ]
  },
  {
   "cell_type": "code",
   "execution_count": 76,
   "id": "1cd26bcf-b56a-4628-a603-0a79db687a7a",
   "metadata": {},
   "outputs": [],
   "source": [
    "#Caluculating the percentage of loans charged off\n",
    "#chargedOffloans*100/(FullyPaid + ChargedOffLoans)\n"
   ]
  },
  {
   "cell_type": "code",
   "execution_count": 77,
   "id": "17f78d97-cd3d-42c4-b5d6-1434af64c6ab",
   "metadata": {},
   "outputs": [],
   "source": [
    "PercentOfLoansChargedOff=5627*100/(32950+5267)"
   ]
  },
  {
   "cell_type": "code",
   "execution_count": 78,
   "id": "ca4abbd3-a993-4008-9dd1-0078ab170776",
   "metadata": {},
   "outputs": [
    {
     "name": "stdout",
     "output_type": "stream",
     "text": [
      "14.723814009472225\n"
     ]
    }
   ],
   "source": [
    "print(PercentOfLoansChargedOff)"
   ]
  },
  {
   "cell_type": "code",
   "execution_count": 79,
   "id": "0dc13684-d9e2-42e2-908d-0b49df61f3eb",
   "metadata": {},
   "outputs": [
    {
     "name": "stdout",
     "output_type": "stream",
     "text": [
      "21600.0\n"
     ]
    }
   ],
   "source": [
    "x90 = np.percentile(df_clean.loan_amnt,90)\n",
    "print(x90)"
   ]
  },
  {
   "cell_type": "code",
   "execution_count": 80,
   "id": "54e3f327-8a7b-4c99-8fcf-cebaed1ba9dd",
   "metadata": {},
   "outputs": [
    {
     "data": {
      "text/plain": [
       "loan_status\n",
       "Fully Paid     3050\n",
       "Charged Off     776\n",
       "Name: count, dtype: int64"
      ]
     },
     "execution_count": 80,
     "metadata": {},
     "output_type": "execute_result"
    }
   ],
   "source": [
    "df_clean[df_clean.loan_amnt > 21600][\"loan_status\"].value_counts()"
   ]
  },
  {
   "cell_type": "code",
   "execution_count": 81,
   "id": "31849f40-be40-4cd4-a85b-7ee632469b83",
   "metadata": {},
   "outputs": [],
   "source": [
    "#Percent Of loans chargedOff beyond 90th percentile\n",
    "PercentOfLoansChargedOffBeyond90thPercentile=776*100/(776+3050)"
   ]
  },
  {
   "cell_type": "code",
   "execution_count": 82,
   "id": "7eaaaa8f-9c01-42f0-a7ee-b23f275ec015",
   "metadata": {},
   "outputs": [
    {
     "name": "stdout",
     "output_type": "stream",
     "text": [
      "20.28227914270779\n"
     ]
    }
   ],
   "source": [
    "print(PercentOfLoansChargedOffBeyond90thPercentile)"
   ]
  },
  {
   "cell_type": "code",
   "execution_count": 83,
   "id": "1fb67feb-20b4-4a87-9399-70c0b9a00e62",
   "metadata": {},
   "outputs": [],
   "source": [
    "###Insight1\n",
    "#To conclude \n",
    "#At higher loan amounts the percent of charged off loans over total loans increased by 5 percentage points and one in every five loans charged off "
   ]
  },
  {
   "cell_type": "code",
   "execution_count": null,
   "id": "d77e31f7-732e-405e-87a1-8224351ebcdf",
   "metadata": {},
   "outputs": [],
   "source": [
    "#let us see if the 90th percentile show any interesting results for interest rate"
   ]
  },
  {
   "cell_type": "code",
   "execution_count": 82,
   "id": "e4541880-c68e-41b9-9d15-2c089165b056",
   "metadata": {},
   "outputs": [],
   "source": [
    "df_clean[\"int_rate\"]=df_clean[\"int_rate\"].apply(lambda x:x.strip(\"%\"))"
   ]
  },
  {
   "cell_type": "code",
   "execution_count": 84,
   "id": "c74d8d91-f021-4b5e-9579-6622b8a18615",
   "metadata": {},
   "outputs": [],
   "source": [
    "df_clean[\"int_rate\"]=df_clean[\"int_rate\"].apply(lambda x:float(x))"
   ]
  },
  {
   "cell_type": "code",
   "execution_count": 112,
   "id": "9fbcfd47-3b93-4f37-89d2-4610a4390b6c",
   "metadata": {},
   "outputs": [
    {
     "name": "stdout",
     "output_type": "stream",
     "text": [
      "16.82\n"
     ]
    }
   ],
   "source": [
    "x90 = np.percentile(df_clean.int_rate,90)\n",
    "print(x90)"
   ]
  },
  {
   "cell_type": "code",
   "execution_count": 113,
   "id": "62f9dd06-b4a8-4715-ad0e-4900744df69d",
   "metadata": {},
   "outputs": [
    {
     "data": {
      "text/plain": [
       "loan_status\n",
       "Fully Paid     2593\n",
       "Charged Off    1162\n",
       "Name: count, dtype: int64"
      ]
     },
     "execution_count": 113,
     "metadata": {},
     "output_type": "execute_result"
    }
   ],
   "source": [
    "df_clean[df_clean.int_rate > 16.82][\"loan_status\"].value_counts()"
   ]
  },
  {
   "cell_type": "code",
   "execution_count": 114,
   "id": "16b4ad2c-9f90-4390-8a9f-5cfb649674cd",
   "metadata": {},
   "outputs": [],
   "source": [
    "PercentOfLoansChargedOffBeyond90thPercentileInterest=1162*100/(2593+1162)"
   ]
  },
  {
   "cell_type": "code",
   "execution_count": 115,
   "id": "63936c02-6919-4866-94a7-df403bbee05b",
   "metadata": {},
   "outputs": [
    {
     "name": "stdout",
     "output_type": "stream",
     "text": [
      "30.945406125166446\n"
     ]
    }
   ],
   "source": [
    "print(PercentOfLoansChargedOffBeyond90thPercentileInterest)"
   ]
  },
  {
   "cell_type": "code",
   "execution_count": null,
   "id": "82a64671-f33c-43da-b12c-ecf286fdf877",
   "metadata": {},
   "outputs": [],
   "source": [
    "###Insight2:\n",
    "#At higher interest rates, charged off loans  as a percentage of  total loans doubled when compared to overall range of data\n",
    "#Three loans in every ten loans charged off,meaning there is correlation between higher interest rate and loan getting chargedoff"
   ]
  },
  {
   "cell_type": "code",
   "execution_count": null,
   "id": "517f50bb-298e-40e2-bf17-50ee1940e52c",
   "metadata": {},
   "outputs": [],
   "source": [
    "#To findout if higher installments have caused more defaults"
   ]
  },
  {
   "cell_type": "code",
   "execution_count": 116,
   "id": "bef136e6-46fa-4a06-b248-9c01fb50f6f0",
   "metadata": {},
   "outputs": [
    {
     "name": "stdout",
     "output_type": "stream",
     "text": [
      "620.9\n"
     ]
    }
   ],
   "source": [
    "x90 = np.percentile(df_clean.installment,90)\n",
    "print(x90)"
   ]
  },
  {
   "cell_type": "code",
   "execution_count": 117,
   "id": "8f57805b-664f-407e-a280-5a0ddd13b426",
   "metadata": {},
   "outputs": [
    {
     "data": {
      "text/plain": [
       "loan_status\n",
       "Fully Paid     3228\n",
       "Charged Off     638\n",
       "Name: count, dtype: int64"
      ]
     },
     "execution_count": 117,
     "metadata": {},
     "output_type": "execute_result"
    }
   ],
   "source": [
    "df_clean[df_clean.installment > 620.0][\"loan_status\"].value_counts()"
   ]
  },
  {
   "cell_type": "code",
   "execution_count": 118,
   "id": "268735c8-7c01-41ab-af20-e05d2e3b9ac8",
   "metadata": {},
   "outputs": [],
   "source": [
    "PercentOfLoansChargedOffBeyond90thPercentileInstallment=638*100/(3228+638)"
   ]
  },
  {
   "cell_type": "code",
   "execution_count": 119,
   "id": "8d5590c7-6bf8-4e5b-a3a6-84b091be20ec",
   "metadata": {},
   "outputs": [
    {
     "name": "stdout",
     "output_type": "stream",
     "text": [
      "16.502845318158304\n"
     ]
    }
   ],
   "source": [
    "print(PercentOfLoansChargedOffBeyond90thPercentileInstallment)"
   ]
  },
  {
   "cell_type": "code",
   "execution_count": null,
   "id": "00c97ee0-6c69-4686-b251-269d20920577",
   "metadata": {},
   "outputs": [],
   "source": [
    "#To conclude that higher installments have not caused more chargedoffs.\n",
    "#While for the overall range chargedOff loans percentage is 15%(Approx),for values beyond 90th Percentile it is just 16%(Approx)"
   ]
  },
  {
   "cell_type": "code",
   "execution_count": null,
   "id": "2826b58d-7d40-4491-99bb-20afe16c17e9",
   "metadata": {},
   "outputs": [],
   "source": [
    "#To findout if higher dti is causing more charged off loans"
   ]
  },
  {
   "cell_type": "code",
   "execution_count": 120,
   "id": "e49bb2c4-6bd6-4d4a-8f01-3d932f52bd7e",
   "metadata": {},
   "outputs": [
    {
     "name": "stdout",
     "output_type": "stream",
     "text": [
      "22.29\n"
     ]
    }
   ],
   "source": [
    "x90 = np.percentile(df_clean.dti,90)\n",
    "print(x90)"
   ]
  },
  {
   "cell_type": "code",
   "execution_count": 121,
   "id": "d6d34c02-51c3-4ac4-a491-6274e2778e5b",
   "metadata": {},
   "outputs": [
    {
     "data": {
      "text/plain": [
       "loan_status\n",
       "Fully Paid     3206\n",
       "Charged Off     639\n",
       "Name: count, dtype: int64"
      ]
     },
     "execution_count": 121,
     "metadata": {},
     "output_type": "execute_result"
    }
   ],
   "source": [
    "df_clean[df_clean.dti > 22.29][\"loan_status\"].value_counts()"
   ]
  },
  {
   "cell_type": "code",
   "execution_count": 123,
   "id": "48df8113-ffee-4a65-953c-28724bc0f2ed",
   "metadata": {},
   "outputs": [],
   "source": [
    "PercentOfLoansChargedOffBeyond90thPercentileDti=639*100/(639+3206)"
   ]
  },
  {
   "cell_type": "code",
   "execution_count": 124,
   "id": "2d51dc78-6b4b-4532-819f-f5ffd4cc9d6f",
   "metadata": {},
   "outputs": [
    {
     "name": "stdout",
     "output_type": "stream",
     "text": [
      "16.618985695708712\n"
     ]
    }
   ],
   "source": [
    "print(PercentOfLoansChargedOffBeyond90thPercentileDti)"
   ]
  },
  {
   "cell_type": "code",
   "execution_count": null,
   "id": "4cf5337b-b788-4727-8156-c7d26d91f31e",
   "metadata": {},
   "outputs": [],
   "source": [
    "#To conclude that higher dti have not caused more chargedoffs\n",
    "#While for the overall range chargedOff loans percentage is 15%(Approx),for values beyond 90th Percentile it is just 16%(Approx)"
   ]
  },
  {
   "cell_type": "code",
   "execution_count": null,
   "id": "8d20bde9-55b2-42a8-9c0f-6a8a46317b30",
   "metadata": {},
   "outputs": [],
   "source": [
    "#let us find out if higher incomes have caused chargedoff loans"
   ]
  },
  {
   "cell_type": "code",
   "execution_count": 229,
   "id": "b4dab886-fc0f-458f-b3c9-7da2a9850805",
   "metadata": {},
   "outputs": [
    {
     "name": "stdout",
     "output_type": "stream",
     "text": [
      "115000.0\n"
     ]
    }
   ],
   "source": [
    "x90 = np.percentile(df_clean.annual_inc,90)\n",
    "print(x90)"
   ]
  },
  {
   "cell_type": "code",
   "execution_count": 230,
   "id": "1677e904-b057-4525-988a-626d0703013c",
   "metadata": {},
   "outputs": [
    {
     "data": {
      "text/plain": [
       "loan_status\n",
       "Fully Paid     3425\n",
       "Charged Off     429\n",
       "Name: count, dtype: int64"
      ]
     },
     "execution_count": 230,
     "metadata": {},
     "output_type": "execute_result"
    }
   ],
   "source": [
    "df_clean[df_clean.annual_inc > 115000][\"loan_status\"].value_counts()"
   ]
  },
  {
   "cell_type": "code",
   "execution_count": 231,
   "id": "f8088a4f-8540-48bf-93e7-d62ddd5d545f",
   "metadata": {},
   "outputs": [],
   "source": [
    "PercentOfLoansChargedOffBeyond90thPercentileIncome=429*100/(429+3425)"
   ]
  },
  {
   "cell_type": "code",
   "execution_count": 232,
   "id": "3a703872-b777-45c2-b795-68be7a7fd938",
   "metadata": {},
   "outputs": [
    {
     "name": "stdout",
     "output_type": "stream",
     "text": [
      "11.131292163985469\n"
     ]
    }
   ],
   "source": [
    "print(PercentOfLoansChargedOffBeyond90thPercentileIncome)"
   ]
  },
  {
   "cell_type": "code",
   "execution_count": null,
   "id": "35b629d9-2c32-41a7-a47c-934dab740e64",
   "metadata": {},
   "outputs": [],
   "source": [
    "#Higher incomes havenot caused more chargedoff loans"
   ]
  },
  {
   "cell_type": "code",
   "execution_count": null,
   "id": "d01da06b-36df-4a27-bd04-041c14a1975e",
   "metadata": {},
   "outputs": [],
   "source": [
    "#let us find out if lower interest rates have caused more chargedoff loans"
   ]
  },
  {
   "cell_type": "code",
   "execution_count": 128,
   "id": "934be73c-d7a0-433c-9631-e708b088f027",
   "metadata": {},
   "outputs": [
    {
     "name": "stdout",
     "output_type": "stream",
     "text": [
      "7.14\n"
     ]
    }
   ],
   "source": [
    "x10 = np.percentile(df_clean.int_rate,10)\n",
    "print(x10)"
   ]
  },
  {
   "cell_type": "code",
   "execution_count": 129,
   "id": "bfa5e793-c421-4e83-8804-94ecbeb0510a",
   "metadata": {},
   "outputs": [
    {
     "data": {
      "text/plain": [
       "loan_status\n",
       "Fully Paid     3668\n",
       "Charged Off     177\n",
       "Name: count, dtype: int64"
      ]
     },
     "execution_count": 129,
     "metadata": {},
     "output_type": "execute_result"
    }
   ],
   "source": [
    "df_clean[df_clean.int_rate < 7.14][\"loan_status\"].value_counts()"
   ]
  },
  {
   "cell_type": "code",
   "execution_count": 130,
   "id": "0e02e19e-e6e2-4367-aa79-3edc32bcf82c",
   "metadata": {},
   "outputs": [],
   "source": [
    "PercentOfLoansChargedOffBelow10thPercentileIntRate=177*100/(3668+177)"
   ]
  },
  {
   "cell_type": "code",
   "execution_count": 131,
   "id": "931e9f10-0253-448b-b8c2-e9c2885724d3",
   "metadata": {},
   "outputs": [
    {
     "name": "stdout",
     "output_type": "stream",
     "text": [
      "4.603381014304292\n"
     ]
    }
   ],
   "source": [
    "print(PercentOfLoansChargedOffBelow10thPercentileIntRate)"
   ]
  },
  {
   "cell_type": "code",
   "execution_count": null,
   "id": "12c7ca10-ac79-4b34-b78d-cdd70588ea37",
   "metadata": {},
   "outputs": [],
   "source": [
    "###Insight3\n",
    "#When the interest rate is very low,the percent of charged off loans is way to less when compared to the overall range\n",
    "#Which means when the interest rate is very low,very few loans gets charged off"
   ]
  },
  {
   "cell_type": "code",
   "execution_count": null,
   "id": "c9887380-3e65-4feb-95b0-f979144c4e88",
   "metadata": {},
   "outputs": [],
   "source": [
    "#let us find out if lower loan amounts have caused more chargedoff loans"
   ]
  },
  {
   "cell_type": "code",
   "execution_count": 132,
   "id": "d103cb9b-f47e-4a0f-b532-a38f254f0ece",
   "metadata": {},
   "outputs": [
    {
     "name": "stdout",
     "output_type": "stream",
     "text": [
      "3090.000000000009\n"
     ]
    }
   ],
   "source": [
    "x10 = np.percentile(df_clean.loan_amnt,10)\n",
    "print(x10)"
   ]
  },
  {
   "cell_type": "code",
   "execution_count": 133,
   "id": "f37262ba-f2b9-4a31-ae1c-3346ab95dfaf",
   "metadata": {},
   "outputs": [
    {
     "data": {
      "text/plain": [
       "loan_status\n",
       "Fully Paid     3308\n",
       "Charged Off     550\n",
       "Name: count, dtype: int64"
      ]
     },
     "execution_count": 133,
     "metadata": {},
     "output_type": "execute_result"
    }
   ],
   "source": [
    "df_clean[df_clean.loan_amnt < 3090][\"loan_status\"].value_counts()"
   ]
  },
  {
   "cell_type": "code",
   "execution_count": 134,
   "id": "10db49fb-eea5-4eef-9fb0-8ad435adf507",
   "metadata": {},
   "outputs": [],
   "source": [
    "PercentOfLoansChargedOffBelow10thPercentileLoanAmt=550*100/(550+3308)"
   ]
  },
  {
   "cell_type": "code",
   "execution_count": 136,
   "id": "a5da065b-22c4-4758-a106-ec7ab7a0abef",
   "metadata": {},
   "outputs": [
    {
     "name": "stdout",
     "output_type": "stream",
     "text": [
      "14.25609123898393\n"
     ]
    }
   ],
   "source": [
    "print(PercentOfLoansChargedOffBelow10thPercentileLoanAmt)"
   ]
  },
  {
   "cell_type": "code",
   "execution_count": null,
   "id": "0e44ae13-f09e-4716-bf2f-3257a3bf254d",
   "metadata": {},
   "outputs": [],
   "source": [
    "#Lower loan amounts have not caused more charged off loans.\n",
    "#percent of loans chagrged off in this case is 14% when compared to 15% overall.Not much difference"
   ]
  },
  {
   "cell_type": "code",
   "execution_count": 97,
   "id": "d4c9731a-e711-4a3f-9f58-229de8bfaa98",
   "metadata": {},
   "outputs": [],
   "source": [
    "#let us find out if lower installments have caused more defaults"
   ]
  },
  {
   "cell_type": "code",
   "execution_count": 137,
   "id": "c521f311-599a-4ec3-bf48-117c78ddcdc7",
   "metadata": {},
   "outputs": [
    {
     "name": "stdout",
     "output_type": "stream",
     "text": [
      "98.99000000000002\n"
     ]
    }
   ],
   "source": [
    "x10 = np.percentile(df_clean.installment,10)\n",
    "print(x10)"
   ]
  },
  {
   "cell_type": "code",
   "execution_count": 138,
   "id": "6fc90e90-6c3f-47db-a1c0-d5bad3dbd3b1",
   "metadata": {},
   "outputs": [
    {
     "data": {
      "text/plain": [
       "loan_status\n",
       "Fully Paid     3278\n",
       "Charged Off     580\n",
       "Name: count, dtype: int64"
      ]
     },
     "execution_count": 138,
     "metadata": {},
     "output_type": "execute_result"
    }
   ],
   "source": [
    "df_clean[df_clean.installment < 98.99][\"loan_status\"].value_counts()"
   ]
  },
  {
   "cell_type": "code",
   "execution_count": 139,
   "id": "f27b62d6-39b0-4469-a39c-e9327c963d03",
   "metadata": {},
   "outputs": [],
   "source": [
    "PercentOfLoansChargedOffBelow10thPercentileDti=580*100/(580+3278)"
   ]
  },
  {
   "cell_type": "code",
   "execution_count": 140,
   "id": "034aa237-7ba7-4193-a106-48309682eb90",
   "metadata": {},
   "outputs": [
    {
     "name": "stdout",
     "output_type": "stream",
     "text": [
      "15.03369621565578\n"
     ]
    }
   ],
   "source": [
    "print(PercentOfLoansChargedOffBelow10thPercentileDti)"
   ]
  },
  {
   "cell_type": "code",
   "execution_count": null,
   "id": "bcd08b60-e028-4e36-ad05-b93bf070511f",
   "metadata": {},
   "outputs": [],
   "source": [
    "#Lower loan amounts have not caused more charged off loans.\n",
    "#percent of loans chagrged off in this case is 15% when compared to 15% overall.No difference"
   ]
  },
  {
   "cell_type": "code",
   "execution_count": null,
   "id": "0d272eb1-d89e-4f7c-a26a-dc795b3057ad",
   "metadata": {},
   "outputs": [],
   "source": [
    "#let us find out if lower incomes have caused more chargedoff loans"
   ]
  },
  {
   "cell_type": "code",
   "execution_count": 233,
   "id": "14d00fb4-304d-4412-a0e0-b88dde05d706",
   "metadata": {},
   "outputs": [
    {
     "name": "stdout",
     "output_type": "stream",
     "text": [
      "30000.0\n"
     ]
    }
   ],
   "source": [
    "x10 = np.percentile(df_clean.annual_inc,10)\n",
    "print(x10)"
   ]
  },
  {
   "cell_type": "code",
   "execution_count": 234,
   "id": "4752a99e-b909-410c-af7a-24ec0be4591c",
   "metadata": {},
   "outputs": [
    {
     "data": {
      "text/plain": [
       "loan_status\n",
       "Fully Paid     3043\n",
       "Charged Off     700\n",
       "Name: count, dtype: int64"
      ]
     },
     "execution_count": 234,
     "metadata": {},
     "output_type": "execute_result"
    }
   ],
   "source": [
    "df_clean[df_clean.annual_inc < 30000][\"loan_status\"].value_counts()"
   ]
  },
  {
   "cell_type": "code",
   "execution_count": 235,
   "id": "f098fb94-06c0-4253-917e-e4c7709b92c2",
   "metadata": {},
   "outputs": [],
   "source": [
    "PercentOfLoansChargedOffBelow10thPercentileIncome=700*100/(700+3043)"
   ]
  },
  {
   "cell_type": "code",
   "execution_count": 236,
   "id": "21efadd1-c92c-4cc2-9157-da0063f236a3",
   "metadata": {},
   "outputs": [
    {
     "name": "stdout",
     "output_type": "stream",
     "text": [
      "18.701576275714668\n"
     ]
    }
   ],
   "source": [
    "print(PercentOfLoansChargedOffBelow10thPercentileIncome)"
   ]
  },
  {
   "cell_type": "code",
   "execution_count": null,
   "id": "2af28ba7-bfaf-4200-8cd7-1c95717d1166",
   "metadata": {},
   "outputs": [],
   "source": [
    "#lower incomes have not caused more chargedoff loans"
   ]
  },
  {
   "cell_type": "code",
   "execution_count": null,
   "id": "b6e5e71c-f005-46e2-aba9-0d3c51329afb",
   "metadata": {},
   "outputs": [],
   "source": [
    "##End of outlier analysis"
   ]
  },
  {
   "cell_type": "code",
   "execution_count": null,
   "id": "4446afca-a072-4a74-8068-a44d6979899d",
   "metadata": {},
   "outputs": [],
   "source": [
    "#Let us analyse if home ownership can indicate more/less charged off loans(As own home means no mortage and no rent and more \n",
    "#disposable income for loan)"
   ]
  },
  {
   "cell_type": "code",
   "execution_count": 141,
   "id": "4ce43960-4ac6-4946-b63e-8a243aaa0e7d",
   "metadata": {},
   "outputs": [
    {
     "data": {
      "text/plain": [
       "Index(['id', 'member_id', 'loan_amnt', 'funded_amnt', 'funded_amnt_inv',\n",
       "       'term', 'int_rate', 'installment', 'grade', 'sub_grade', 'emp_title',\n",
       "       'emp_length', 'home_ownership', 'annual_inc', 'verification_status',\n",
       "       'issue_d', 'loan_status', 'url', 'purpose', 'title', 'zip_code',\n",
       "       'addr_state', 'dti', 'delinq_2yrs', 'earliest_cr_line',\n",
       "       'inq_last_6mths', 'mths_since_last_delinq', 'open_acc', 'pub_rec',\n",
       "       'revol_bal', 'revol_util', 'total_acc', 'out_prncp', 'out_prncp_inv',\n",
       "       'total_pymnt', 'total_pymnt_inv', 'total_rec_prncp', 'total_rec_int',\n",
       "       'total_rec_late_fee', 'recoveries', 'collection_recovery_fee',\n",
       "       'last_pymnt_d', 'last_pymnt_amnt', 'last_credit_pull_d',\n",
       "       'pub_rec_bankruptcies'],\n",
       "      dtype='object')"
      ]
     },
     "execution_count": 141,
     "metadata": {},
     "output_type": "execute_result"
    }
   ],
   "source": [
    "df_clean.columns"
   ]
  },
  {
   "cell_type": "code",
   "execution_count": 142,
   "id": "b1fb6cdf-2d10-4fc9-a2c9-8bc9abcf90fb",
   "metadata": {},
   "outputs": [
    {
     "data": {
      "text/plain": [
       "home_ownership\n",
       "RENT        18480\n",
       "MORTGAGE    17021\n",
       "OWN          2975\n",
       "OTHER          98\n",
       "NONE            3\n",
       "Name: count, dtype: int64"
      ]
     },
     "execution_count": 142,
     "metadata": {},
     "output_type": "execute_result"
    }
   ],
   "source": [
    "df_clean[\"home_ownership\"].value_counts()"
   ]
  },
  {
   "cell_type": "code",
   "execution_count": 143,
   "id": "04c7fb25-9036-4f7c-8ced-3aaecf5c9d48",
   "metadata": {},
   "outputs": [
    {
     "data": {
      "text/plain": [
       "loan_status\n",
       "Fully Paid     2532\n",
       "Charged Off     443\n",
       "Name: count, dtype: int64"
      ]
     },
     "execution_count": 143,
     "metadata": {},
     "output_type": "execute_result"
    }
   ],
   "source": [
    "df_clean[df_clean[\"home_ownership\"]==\"OWN\"][\"loan_status\"].value_counts()"
   ]
  },
  {
   "cell_type": "code",
   "execution_count": 144,
   "id": "79ee2d1a-2153-4945-92ec-6d1e28d54e08",
   "metadata": {},
   "outputs": [],
   "source": [
    "PercentChargedOffOwnHouse=443*100/(443+2532)"
   ]
  },
  {
   "cell_type": "code",
   "execution_count": 145,
   "id": "82123d45-964b-472b-957f-926b3b17b4a8",
   "metadata": {},
   "outputs": [
    {
     "name": "stdout",
     "output_type": "stream",
     "text": [
      "14.890756302521009\n"
     ]
    }
   ],
   "source": [
    "print(PercentChargedOffOwnHouse)"
   ]
  },
  {
   "cell_type": "code",
   "execution_count": null,
   "id": "e87b503e-2d0c-4a86-b037-b66392439695",
   "metadata": {},
   "outputs": [],
   "source": [
    "#Not much difference 15 and 14.89"
   ]
  },
  {
   "cell_type": "code",
   "execution_count": 146,
   "id": "99cfdaf1-5270-4c68-a977-97735ada574a",
   "metadata": {},
   "outputs": [
    {
     "data": {
      "text/plain": [
       "loan_status\n",
       "Fully Paid     15641\n",
       "Charged Off     2839\n",
       "Name: count, dtype: int64"
      ]
     },
     "execution_count": 146,
     "metadata": {},
     "output_type": "execute_result"
    }
   ],
   "source": [
    "df_clean[df_clean[\"home_ownership\"]==\"RENT\"][\"loan_status\"].value_counts()"
   ]
  },
  {
   "cell_type": "code",
   "execution_count": 148,
   "id": "662e414b-b91d-45fe-94f5-cbec5087fc71",
   "metadata": {},
   "outputs": [],
   "source": [
    "PercentChargedOffRentHouse=2389*100/(2389+15641)"
   ]
  },
  {
   "cell_type": "code",
   "execution_count": 149,
   "id": "17f4fcbd-cb03-4e89-96dd-a75d81dff46f",
   "metadata": {},
   "outputs": [
    {
     "name": "stdout",
     "output_type": "stream",
     "text": [
      "13.250138657792569\n"
     ]
    }
   ],
   "source": [
    "print(PercentChargedOffRentHouse)"
   ]
  },
  {
   "cell_type": "code",
   "execution_count": null,
   "id": "d68e4309-b025-48aa-b4a5-5ee6d17ed6ef",
   "metadata": {},
   "outputs": [],
   "source": [
    "#Not much difference"
   ]
  },
  {
   "cell_type": "code",
   "execution_count": 150,
   "id": "9416fac4-207f-4e1c-92c8-24026c130be8",
   "metadata": {},
   "outputs": [
    {
     "data": {
      "text/plain": [
       "loan_status\n",
       "Fully Paid     14694\n",
       "Charged Off     2327\n",
       "Name: count, dtype: int64"
      ]
     },
     "execution_count": 150,
     "metadata": {},
     "output_type": "execute_result"
    }
   ],
   "source": [
    "df_clean[df_clean[\"home_ownership\"]==\"MORTGAGE\"][\"loan_status\"].value_counts()"
   ]
  },
  {
   "cell_type": "code",
   "execution_count": 151,
   "id": "b004ada8-2641-42ee-ad32-af2c44b5143a",
   "metadata": {},
   "outputs": [],
   "source": [
    "PercentChargedOffMortage=2327*100/(2327+14694)"
   ]
  },
  {
   "cell_type": "code",
   "execution_count": 152,
   "id": "3dd152c4-8df5-476e-aab5-b62ab20ff8ec",
   "metadata": {},
   "outputs": [
    {
     "name": "stdout",
     "output_type": "stream",
     "text": [
      "13.67134715939134\n"
     ]
    }
   ],
   "source": [
    "print(PercentChargedOffMortage)"
   ]
  },
  {
   "cell_type": "code",
   "execution_count": 153,
   "id": "3b6489ba-26b4-4262-b7b4-1bb8d46e448e",
   "metadata": {},
   "outputs": [],
   "source": [
    "#Home ownership has no impact on loans"
   ]
  },
  {
   "cell_type": "code",
   "execution_count": null,
   "id": "e5b379c8-1ef0-43fd-8716-78a91821893f",
   "metadata": {},
   "outputs": [],
   "source": [
    "#Let us analyse the impact of employment length"
   ]
  },
  {
   "cell_type": "code",
   "execution_count": 154,
   "id": "5fd54b29-42e8-4c97-b358-4d6331e2449e",
   "metadata": {},
   "outputs": [
    {
     "data": {
      "text/plain": [
       "emp_length\n",
       "10+ years    9521\n",
       "< 1 year     4508\n",
       "2 years      4291\n",
       "3 years      4012\n",
       "4 years      3342\n",
       "5 years      3194\n",
       "1 year       3169\n",
       "6 years      2168\n",
       "7 years      1711\n",
       "8 years      1435\n",
       "9 years      1226\n",
       "Name: count, dtype: int64"
      ]
     },
     "execution_count": 154,
     "metadata": {},
     "output_type": "execute_result"
    }
   ],
   "source": [
    "df_clean[\"emp_length\"].value_counts()"
   ]
  },
  {
   "cell_type": "code",
   "execution_count": 155,
   "id": "5a902737-8115-4ba1-96ce-9fdaecdffe71",
   "metadata": {},
   "outputs": [
    {
     "data": {
      "text/html": [
       "<div>\n",
       "<style scoped>\n",
       "    .dataframe tbody tr th:only-of-type {\n",
       "        vertical-align: middle;\n",
       "    }\n",
       "\n",
       "    .dataframe tbody tr th {\n",
       "        vertical-align: top;\n",
       "    }\n",
       "\n",
       "    .dataframe thead tr th {\n",
       "        text-align: left;\n",
       "    }\n",
       "\n",
       "    .dataframe thead tr:last-of-type th {\n",
       "        text-align: right;\n",
       "    }\n",
       "</style>\n",
       "<table border=\"1\" class=\"dataframe\">\n",
       "  <thead>\n",
       "    <tr>\n",
       "      <th></th>\n",
       "      <th colspan=\"10\" halign=\"left\">addr_state</th>\n",
       "      <th>...</th>\n",
       "      <th colspan=\"10\" halign=\"left\">zip_code</th>\n",
       "    </tr>\n",
       "    <tr>\n",
       "      <th>emp_length</th>\n",
       "      <th>1 year</th>\n",
       "      <th>10+ years</th>\n",
       "      <th>2 years</th>\n",
       "      <th>3 years</th>\n",
       "      <th>4 years</th>\n",
       "      <th>5 years</th>\n",
       "      <th>6 years</th>\n",
       "      <th>7 years</th>\n",
       "      <th>8 years</th>\n",
       "      <th>9 years</th>\n",
       "      <th>...</th>\n",
       "      <th>10+ years</th>\n",
       "      <th>2 years</th>\n",
       "      <th>3 years</th>\n",
       "      <th>4 years</th>\n",
       "      <th>5 years</th>\n",
       "      <th>6 years</th>\n",
       "      <th>7 years</th>\n",
       "      <th>8 years</th>\n",
       "      <th>9 years</th>\n",
       "      <th>&lt; 1 year</th>\n",
       "    </tr>\n",
       "    <tr>\n",
       "      <th>loan_status</th>\n",
       "      <th></th>\n",
       "      <th></th>\n",
       "      <th></th>\n",
       "      <th></th>\n",
       "      <th></th>\n",
       "      <th></th>\n",
       "      <th></th>\n",
       "      <th></th>\n",
       "      <th></th>\n",
       "      <th></th>\n",
       "      <th></th>\n",
       "      <th></th>\n",
       "      <th></th>\n",
       "      <th></th>\n",
       "      <th></th>\n",
       "      <th></th>\n",
       "      <th></th>\n",
       "      <th></th>\n",
       "      <th></th>\n",
       "      <th></th>\n",
       "      <th></th>\n",
       "    </tr>\n",
       "  </thead>\n",
       "  <tbody>\n",
       "    <tr>\n",
       "      <th>Charged Off</th>\n",
       "      <td>456</td>\n",
       "      <td>1559</td>\n",
       "      <td>567</td>\n",
       "      <td>555</td>\n",
       "      <td>462</td>\n",
       "      <td>458</td>\n",
       "      <td>307</td>\n",
       "      <td>263</td>\n",
       "      <td>203</td>\n",
       "      <td>158</td>\n",
       "      <td>...</td>\n",
       "      <td>1559</td>\n",
       "      <td>567</td>\n",
       "      <td>555</td>\n",
       "      <td>462</td>\n",
       "      <td>458</td>\n",
       "      <td>307</td>\n",
       "      <td>263</td>\n",
       "      <td>203</td>\n",
       "      <td>158</td>\n",
       "      <td>639</td>\n",
       "    </tr>\n",
       "    <tr>\n",
       "      <th>Fully Paid</th>\n",
       "      <td>2713</td>\n",
       "      <td>7962</td>\n",
       "      <td>3724</td>\n",
       "      <td>3457</td>\n",
       "      <td>2880</td>\n",
       "      <td>2736</td>\n",
       "      <td>1861</td>\n",
       "      <td>1448</td>\n",
       "      <td>1232</td>\n",
       "      <td>1068</td>\n",
       "      <td>...</td>\n",
       "      <td>7962</td>\n",
       "      <td>3724</td>\n",
       "      <td>3457</td>\n",
       "      <td>2880</td>\n",
       "      <td>2736</td>\n",
       "      <td>1861</td>\n",
       "      <td>1448</td>\n",
       "      <td>1232</td>\n",
       "      <td>1068</td>\n",
       "      <td>3869</td>\n",
       "    </tr>\n",
       "  </tbody>\n",
       "</table>\n",
       "<p>2 rows × 473 columns</p>\n",
       "</div>"
      ],
      "text/plain": [
       "            addr_state                                                    \\\n",
       "emp_length      1 year 10+ years 2 years 3 years 4 years 5 years 6 years   \n",
       "loan_status                                                                \n",
       "Charged Off        456      1559     567     555     462     458     307   \n",
       "Fully Paid        2713      7962    3724    3457    2880    2736    1861   \n",
       "\n",
       "                                     ...  zip_code                          \\\n",
       "emp_length  7 years 8 years 9 years  ... 10+ years 2 years 3 years 4 years   \n",
       "loan_status                          ...                                     \n",
       "Charged Off     263     203     158  ...      1559     567     555     462   \n",
       "Fully Paid     1448    1232    1068  ...      7962    3724    3457    2880   \n",
       "\n",
       "                                                              \n",
       "emp_length  5 years 6 years 7 years 8 years 9 years < 1 year  \n",
       "loan_status                                                   \n",
       "Charged Off     458     307     263     203     158      639  \n",
       "Fully Paid     2736    1861    1448    1232    1068     3869  \n",
       "\n",
       "[2 rows x 473 columns]"
      ]
     },
     "execution_count": 155,
     "metadata": {},
     "output_type": "execute_result"
    }
   ],
   "source": [
    "df_clean.pivot_table(index=\"loan_status\",columns=\"emp_length\",aggfunc='count')"
   ]
  },
  {
   "cell_type": "code",
   "execution_count": 158,
   "id": "e5dec031-957b-40ea-a53b-8c07d7e2bff9",
   "metadata": {},
   "outputs": [],
   "source": [
    "df_empLength=pd.crosstab(df_clean[\"emp_length\"],df_clean[\"loan_status\"])"
   ]
  },
  {
   "cell_type": "code",
   "execution_count": null,
   "id": "188a3920-4249-470c-a805-5e11552d29e8",
   "metadata": {},
   "outputs": [],
   "source": []
  },
  {
   "cell_type": "code",
   "execution_count": 159,
   "id": "bf9c0572-35a7-4529-b37e-1c6e1f2a3369",
   "metadata": {},
   "outputs": [],
   "source": [
    "df_empLength[\"ChargedOffPercent\"]=df_empLength[\"Charged Off\"]/(df_empLength[\"Charged Off\"]+df_empLength[\"Fully Paid\"])"
   ]
  },
  {
   "cell_type": "code",
   "execution_count": null,
   "id": "046fdb34-2758-4d83-b09e-0a915a0e08f7",
   "metadata": {},
   "outputs": [],
   "source": []
  },
  {
   "cell_type": "code",
   "execution_count": 160,
   "id": "5d158998-3f07-49f7-8b96-353120a64427",
   "metadata": {},
   "outputs": [
    {
     "data": {
      "text/html": [
       "<div>\n",
       "<style scoped>\n",
       "    .dataframe tbody tr th:only-of-type {\n",
       "        vertical-align: middle;\n",
       "    }\n",
       "\n",
       "    .dataframe tbody tr th {\n",
       "        vertical-align: top;\n",
       "    }\n",
       "\n",
       "    .dataframe thead th {\n",
       "        text-align: right;\n",
       "    }\n",
       "</style>\n",
       "<table border=\"1\" class=\"dataframe\">\n",
       "  <thead>\n",
       "    <tr style=\"text-align: right;\">\n",
       "      <th>loan_status</th>\n",
       "      <th>Charged Off</th>\n",
       "      <th>Fully Paid</th>\n",
       "      <th>ChargedOffPercent</th>\n",
       "    </tr>\n",
       "    <tr>\n",
       "      <th>emp_length</th>\n",
       "      <th></th>\n",
       "      <th></th>\n",
       "      <th></th>\n",
       "    </tr>\n",
       "  </thead>\n",
       "  <tbody>\n",
       "    <tr>\n",
       "      <th>1 year</th>\n",
       "      <td>456</td>\n",
       "      <td>2713</td>\n",
       "      <td>0.143894</td>\n",
       "    </tr>\n",
       "    <tr>\n",
       "      <th>10+ years</th>\n",
       "      <td>1559</td>\n",
       "      <td>7962</td>\n",
       "      <td>0.163743</td>\n",
       "    </tr>\n",
       "    <tr>\n",
       "      <th>2 years</th>\n",
       "      <td>567</td>\n",
       "      <td>3724</td>\n",
       "      <td>0.132137</td>\n",
       "    </tr>\n",
       "    <tr>\n",
       "      <th>3 years</th>\n",
       "      <td>555</td>\n",
       "      <td>3457</td>\n",
       "      <td>0.138335</td>\n",
       "    </tr>\n",
       "    <tr>\n",
       "      <th>4 years</th>\n",
       "      <td>462</td>\n",
       "      <td>2880</td>\n",
       "      <td>0.138241</td>\n",
       "    </tr>\n",
       "    <tr>\n",
       "      <th>5 years</th>\n",
       "      <td>458</td>\n",
       "      <td>2736</td>\n",
       "      <td>0.143394</td>\n",
       "    </tr>\n",
       "    <tr>\n",
       "      <th>6 years</th>\n",
       "      <td>307</td>\n",
       "      <td>1861</td>\n",
       "      <td>0.141605</td>\n",
       "    </tr>\n",
       "    <tr>\n",
       "      <th>7 years</th>\n",
       "      <td>263</td>\n",
       "      <td>1448</td>\n",
       "      <td>0.153711</td>\n",
       "    </tr>\n",
       "    <tr>\n",
       "      <th>8 years</th>\n",
       "      <td>203</td>\n",
       "      <td>1232</td>\n",
       "      <td>0.141463</td>\n",
       "    </tr>\n",
       "    <tr>\n",
       "      <th>9 years</th>\n",
       "      <td>158</td>\n",
       "      <td>1068</td>\n",
       "      <td>0.128874</td>\n",
       "    </tr>\n",
       "    <tr>\n",
       "      <th>&lt; 1 year</th>\n",
       "      <td>639</td>\n",
       "      <td>3869</td>\n",
       "      <td>0.141748</td>\n",
       "    </tr>\n",
       "  </tbody>\n",
       "</table>\n",
       "</div>"
      ],
      "text/plain": [
       "loan_status  Charged Off  Fully Paid  ChargedOffPercent\n",
       "emp_length                                             \n",
       "1 year               456        2713           0.143894\n",
       "10+ years           1559        7962           0.163743\n",
       "2 years              567        3724           0.132137\n",
       "3 years              555        3457           0.138335\n",
       "4 years              462        2880           0.138241\n",
       "5 years              458        2736           0.143394\n",
       "6 years              307        1861           0.141605\n",
       "7 years              263        1448           0.153711\n",
       "8 years              203        1232           0.141463\n",
       "9 years              158        1068           0.128874\n",
       "< 1 year             639        3869           0.141748"
      ]
     },
     "execution_count": 160,
     "metadata": {},
     "output_type": "execute_result"
    }
   ],
   "source": [
    "df_empLength"
   ]
  },
  {
   "cell_type": "code",
   "execution_count": null,
   "id": "88c63a9c-e254-4fb3-8aff-d299e9c30dd9",
   "metadata": {},
   "outputs": [],
   "source": [
    "#Charged off percentage across various emplengths is equal to overall percentage.\n",
    "#emp_length is not impacting the chargedoff loans"
   ]
  },
  {
   "cell_type": "code",
   "execution_count": null,
   "id": "83f9d6b4-b20d-4e36-8f81-37867d52f1ac",
   "metadata": {},
   "outputs": [],
   "source": [
    "#loan term and its impact on chargedoff loans"
   ]
  },
  {
   "cell_type": "code",
   "execution_count": 161,
   "id": "513d345a-73a7-49f1-a2ca-6cf3f9620112",
   "metadata": {},
   "outputs": [],
   "source": [
    "df_term=pd.crosstab(df_clean[\"term\"],df_clean[\"loan_status\"])"
   ]
  },
  {
   "cell_type": "code",
   "execution_count": 162,
   "id": "6bbacfd9-526c-4137-8dbe-55e11a1c3399",
   "metadata": {},
   "outputs": [
    {
     "data": {
      "text/html": [
       "<div>\n",
       "<style scoped>\n",
       "    .dataframe tbody tr th:only-of-type {\n",
       "        vertical-align: middle;\n",
       "    }\n",
       "\n",
       "    .dataframe tbody tr th {\n",
       "        vertical-align: top;\n",
       "    }\n",
       "\n",
       "    .dataframe thead th {\n",
       "        text-align: right;\n",
       "    }\n",
       "</style>\n",
       "<table border=\"1\" class=\"dataframe\">\n",
       "  <thead>\n",
       "    <tr style=\"text-align: right;\">\n",
       "      <th>loan_status</th>\n",
       "      <th>Charged Off</th>\n",
       "      <th>Fully Paid</th>\n",
       "    </tr>\n",
       "    <tr>\n",
       "      <th>term</th>\n",
       "      <th></th>\n",
       "      <th></th>\n",
       "    </tr>\n",
       "  </thead>\n",
       "  <tbody>\n",
       "    <tr>\n",
       "      <th>36 months</th>\n",
       "      <td>3227</td>\n",
       "      <td>25869</td>\n",
       "    </tr>\n",
       "    <tr>\n",
       "      <th>60 months</th>\n",
       "      <td>2400</td>\n",
       "      <td>7081</td>\n",
       "    </tr>\n",
       "  </tbody>\n",
       "</table>\n",
       "</div>"
      ],
      "text/plain": [
       "loan_status  Charged Off  Fully Paid\n",
       "term                                \n",
       " 36 months          3227       25869\n",
       " 60 months          2400        7081"
      ]
     },
     "execution_count": 162,
     "metadata": {},
     "output_type": "execute_result"
    }
   ],
   "source": [
    "df_term"
   ]
  },
  {
   "cell_type": "code",
   "execution_count": 163,
   "id": "db1d7aa9-7acc-4222-a814-ed3749fbca6f",
   "metadata": {},
   "outputs": [],
   "source": [
    "df_term[\"ChargedOffPercent\"]=df_term[\"Charged Off\"]*100/(df_term[\"Charged Off\"]+df_term[\"Fully Paid\"])"
   ]
  },
  {
   "cell_type": "code",
   "execution_count": 164,
   "id": "818a3cfd-2424-443b-9ef4-7b99369a1bdb",
   "metadata": {},
   "outputs": [
    {
     "data": {
      "text/html": [
       "<div>\n",
       "<style scoped>\n",
       "    .dataframe tbody tr th:only-of-type {\n",
       "        vertical-align: middle;\n",
       "    }\n",
       "\n",
       "    .dataframe tbody tr th {\n",
       "        vertical-align: top;\n",
       "    }\n",
       "\n",
       "    .dataframe thead th {\n",
       "        text-align: right;\n",
       "    }\n",
       "</style>\n",
       "<table border=\"1\" class=\"dataframe\">\n",
       "  <thead>\n",
       "    <tr style=\"text-align: right;\">\n",
       "      <th>loan_status</th>\n",
       "      <th>Charged Off</th>\n",
       "      <th>Fully Paid</th>\n",
       "      <th>ChargedOffPercent</th>\n",
       "    </tr>\n",
       "    <tr>\n",
       "      <th>term</th>\n",
       "      <th></th>\n",
       "      <th></th>\n",
       "      <th></th>\n",
       "    </tr>\n",
       "  </thead>\n",
       "  <tbody>\n",
       "    <tr>\n",
       "      <th>36 months</th>\n",
       "      <td>3227</td>\n",
       "      <td>25869</td>\n",
       "      <td>11.090872</td>\n",
       "    </tr>\n",
       "    <tr>\n",
       "      <th>60 months</th>\n",
       "      <td>2400</td>\n",
       "      <td>7081</td>\n",
       "      <td>25.313785</td>\n",
       "    </tr>\n",
       "  </tbody>\n",
       "</table>\n",
       "</div>"
      ],
      "text/plain": [
       "loan_status  Charged Off  Fully Paid  ChargedOffPercent\n",
       "term                                                   \n",
       " 36 months          3227       25869          11.090872\n",
       " 60 months          2400        7081          25.313785"
      ]
     },
     "execution_count": 164,
     "metadata": {},
     "output_type": "execute_result"
    }
   ],
   "source": [
    "df_term"
   ]
  },
  {
   "cell_type": "code",
   "execution_count": 210,
   "id": "97bf48a7-5a97-43e2-9e07-c74520400f7c",
   "metadata": {},
   "outputs": [
    {
     "data": {
      "text/plain": [
       "Index([' 36 months', ' 60 months'], dtype='object', name='term')"
      ]
     },
     "execution_count": 210,
     "metadata": {},
     "output_type": "execute_result"
    }
   ],
   "source": [
    "type(df_term)\n",
    "df_term.index"
   ]
  },
  {
   "cell_type": "code",
   "execution_count": 228,
   "id": "58d6e310-816c-4495-aba9-a50fc14eb642",
   "metadata": {},
   "outputs": [
    {
     "data": {
      "text/plain": [
       "<matplotlib.lines.Line2D at 0x201a3f6c290>"
      ]
     },
     "execution_count": 228,
     "metadata": {},
     "output_type": "execute_result"
    },
    {
     "data": {
      "image/png": "[encoded data removed]",
      "text/plain": [
       "<Figure size 1170x827 with 1 Axes>"
      ]
     },
     "metadata": {},
     "output_type": "display_data"
    }
   ],
   "source": [
    "termplot=sns.barplot(x=df_term.index,y=df_term.ChargedOffPercent)\n",
    "termplot.set_title(\"Percentage of Charged Off loans over different terms\")\n",
    "termplot.set_ylabel(\"Percentage of loans Charged Off\")\n",
    "termplot.axhline(y=15,linestyle=\"dashed\")\n",
    "\n"
   ]
  },
  {
   "cell_type": "code",
   "execution_count": null,
   "id": "af995ab7-bc53-41f3-9854-10779df2b5bb",
   "metadata": {},
   "outputs": [],
   "source": [
    "###Insight4\n",
    "#When the loan term is 60 months,25% of the total loans  got chargedoff"
   ]
  },
  {
   "cell_type": "code",
   "execution_count": null,
   "id": "74a901ba-4f53-4b4b-83a6-6838927b01fe",
   "metadata": {},
   "outputs": [],
   "source": [
    "#loan grade and its impact on charged off loans"
   ]
  },
  {
   "cell_type": "code",
   "execution_count": 166,
   "id": "c5d394fd-3ac6-4ba9-a9fc-e798d62a3b0c",
   "metadata": {},
   "outputs": [],
   "source": [
    "df_grade=pd.crosstab(df_clean[\"grade\"],df_clean[\"loan_status\"])"
   ]
  },
  {
   "cell_type": "code",
   "execution_count": 167,
   "id": "0f9f60f4-41e8-4050-b1c2-fa06739d85bb",
   "metadata": {},
   "outputs": [
    {
     "data": {
      "text/html": [
       "<div>\n",
       "<style scoped>\n",
       "    .dataframe tbody tr th:only-of-type {\n",
       "        vertical-align: middle;\n",
       "    }\n",
       "\n",
       "    .dataframe tbody tr th {\n",
       "        vertical-align: top;\n",
       "    }\n",
       "\n",
       "    .dataframe thead th {\n",
       "        text-align: right;\n",
       "    }\n",
       "</style>\n",
       "<table border=\"1\" class=\"dataframe\">\n",
       "  <thead>\n",
       "    <tr style=\"text-align: right;\">\n",
       "      <th>loan_status</th>\n",
       "      <th>Charged Off</th>\n",
       "      <th>Fully Paid</th>\n",
       "    </tr>\n",
       "    <tr>\n",
       "      <th>grade</th>\n",
       "      <th></th>\n",
       "      <th></th>\n",
       "    </tr>\n",
       "  </thead>\n",
       "  <tbody>\n",
       "    <tr>\n",
       "      <th>A</th>\n",
       "      <td>602</td>\n",
       "      <td>9443</td>\n",
       "    </tr>\n",
       "    <tr>\n",
       "      <th>B</th>\n",
       "      <td>1425</td>\n",
       "      <td>10250</td>\n",
       "    </tr>\n",
       "    <tr>\n",
       "      <th>C</th>\n",
       "      <td>1347</td>\n",
       "      <td>6487</td>\n",
       "    </tr>\n",
       "    <tr>\n",
       "      <th>D</th>\n",
       "      <td>1118</td>\n",
       "      <td>3967</td>\n",
       "    </tr>\n",
       "    <tr>\n",
       "      <th>E</th>\n",
       "      <td>715</td>\n",
       "      <td>1948</td>\n",
       "    </tr>\n",
       "    <tr>\n",
       "      <th>F</th>\n",
       "      <td>319</td>\n",
       "      <td>657</td>\n",
       "    </tr>\n",
       "    <tr>\n",
       "      <th>G</th>\n",
       "      <td>101</td>\n",
       "      <td>198</td>\n",
       "    </tr>\n",
       "  </tbody>\n",
       "</table>\n",
       "</div>"
      ],
      "text/plain": [
       "loan_status  Charged Off  Fully Paid\n",
       "grade                               \n",
       "A                    602        9443\n",
       "B                   1425       10250\n",
       "C                   1347        6487\n",
       "D                   1118        3967\n",
       "E                    715        1948\n",
       "F                    319         657\n",
       "G                    101         198"
      ]
     },
     "execution_count": 167,
     "metadata": {},
     "output_type": "execute_result"
    }
   ],
   "source": [
    "df_grade"
   ]
  },
  {
   "cell_type": "code",
   "execution_count": 168,
   "id": "f35529ec-f47a-4382-a97e-e710f2738c08",
   "metadata": {},
   "outputs": [],
   "source": [
    "df_grade[\"ChargedOffPercent\"]=df_grade[\"Charged Off\"]*100/(df_grade[\"Charged Off\"]+df_grade[\"Fully Paid\"])"
   ]
  },
  {
   "cell_type": "code",
   "execution_count": 169,
   "id": "fa028ac8-8181-428f-ab63-4d1a1e33ff1e",
   "metadata": {},
   "outputs": [
    {
     "data": {
      "text/html": [
       "<div>\n",
       "<style scoped>\n",
       "    .dataframe tbody tr th:only-of-type {\n",
       "        vertical-align: middle;\n",
       "    }\n",
       "\n",
       "    .dataframe tbody tr th {\n",
       "        vertical-align: top;\n",
       "    }\n",
       "\n",
       "    .dataframe thead th {\n",
       "        text-align: right;\n",
       "    }\n",
       "</style>\n",
       "<table border=\"1\" class=\"dataframe\">\n",
       "  <thead>\n",
       "    <tr style=\"text-align: right;\">\n",
       "      <th>loan_status</th>\n",
       "      <th>Charged Off</th>\n",
       "      <th>Fully Paid</th>\n",
       "      <th>ChargedOffPercent</th>\n",
       "    </tr>\n",
       "    <tr>\n",
       "      <th>grade</th>\n",
       "      <th></th>\n",
       "      <th></th>\n",
       "      <th></th>\n",
       "    </tr>\n",
       "  </thead>\n",
       "  <tbody>\n",
       "    <tr>\n",
       "      <th>A</th>\n",
       "      <td>602</td>\n",
       "      <td>9443</td>\n",
       "      <td>5.993031</td>\n",
       "    </tr>\n",
       "    <tr>\n",
       "      <th>B</th>\n",
       "      <td>1425</td>\n",
       "      <td>10250</td>\n",
       "      <td>12.205567</td>\n",
       "    </tr>\n",
       "    <tr>\n",
       "      <th>C</th>\n",
       "      <td>1347</td>\n",
       "      <td>6487</td>\n",
       "      <td>17.194281</td>\n",
       "    </tr>\n",
       "    <tr>\n",
       "      <th>D</th>\n",
       "      <td>1118</td>\n",
       "      <td>3967</td>\n",
       "      <td>21.986234</td>\n",
       "    </tr>\n",
       "    <tr>\n",
       "      <th>E</th>\n",
       "      <td>715</td>\n",
       "      <td>1948</td>\n",
       "      <td>26.849418</td>\n",
       "    </tr>\n",
       "    <tr>\n",
       "      <th>F</th>\n",
       "      <td>319</td>\n",
       "      <td>657</td>\n",
       "      <td>32.684426</td>\n",
       "    </tr>\n",
       "    <tr>\n",
       "      <th>G</th>\n",
       "      <td>101</td>\n",
       "      <td>198</td>\n",
       "      <td>33.779264</td>\n",
       "    </tr>\n",
       "  </tbody>\n",
       "</table>\n",
       "</div>"
      ],
      "text/plain": [
       "loan_status  Charged Off  Fully Paid  ChargedOffPercent\n",
       "grade                                                  \n",
       "A                    602        9443           5.993031\n",
       "B                   1425       10250          12.205567\n",
       "C                   1347        6487          17.194281\n",
       "D                   1118        3967          21.986234\n",
       "E                    715        1948          26.849418\n",
       "F                    319         657          32.684426\n",
       "G                    101         198          33.779264"
      ]
     },
     "execution_count": 169,
     "metadata": {},
     "output_type": "execute_result"
    }
   ],
   "source": [
    "df_grade"
   ]
  },
  {
   "cell_type": "code",
   "execution_count": 227,
   "id": "6c752306-3f1c-4a49-900c-f28e1c427c8e",
   "metadata": {},
   "outputs": [
    {
     "data": {
      "text/plain": [
       "<matplotlib.lines.Line2D at 0x201a3d80f90>"
      ]
     },
     "execution_count": 227,
     "metadata": {},
     "output_type": "execute_result"
    },
    {
     "data": {
      "image/png": "[encoded data removed]",
      "text/plain": [
       "<Figure size 1170x827 with 1 Axes>"
      ]
     },
     "metadata": {},
     "output_type": "display_data"
    }
   ],
   "source": [
    "gradeplot=sns.barplot(x=df_grade.index,y=df_grade.ChargedOffPercent)\n",
    "gradeplot.set_title(\"Percentage of Charged Off loans over different grades\")\n",
    "gradeplot.set_ylabel(\"Percentage of loans Charged Off\")\n",
    "gradeplot.axhline(y=15,linestyle=\"dashed\")\n"
   ]
  },
  {
   "cell_type": "code",
   "execution_count": null,
   "id": "bc0d3f2d-1d12-4b33-8321-aa73e57b1856",
   "metadata": {},
   "outputs": [],
   "source": [
    "###Insight5\n",
    "#As the grade of loan moves from A to G,the percentage of chargedoff loans keeps increasing.\n",
    "#While only 6% of the grade A loans ended up in charged Off ,In grade G over 33% of the loans are chargedoff"
   ]
  },
  {
   "cell_type": "code",
   "execution_count": null,
   "id": "d56b4ae1-e316-471d-94ac-45d6a4bee883",
   "metadata": {},
   "outputs": [],
   "source": [
    "#loan sub_grade and its impact on chargedoff loans"
   ]
  },
  {
   "cell_type": "code",
   "execution_count": 170,
   "id": "8dbc2c37-6a01-41b2-a40d-6c9c02c2212f",
   "metadata": {},
   "outputs": [],
   "source": [
    "df_subgrade=pd.crosstab(df_clean[\"sub_grade\"],df_clean[\"loan_status\"])"
   ]
  },
  {
   "cell_type": "code",
   "execution_count": 171,
   "id": "72b07cb9-a8fc-4983-9963-956a891e515a",
   "metadata": {},
   "outputs": [
    {
     "data": {
      "text/html": [
       "<div>\n",
       "<style scoped>\n",
       "    .dataframe tbody tr th:only-of-type {\n",
       "        vertical-align: middle;\n",
       "    }\n",
       "\n",
       "    .dataframe tbody tr th {\n",
       "        vertical-align: top;\n",
       "    }\n",
       "\n",
       "    .dataframe thead th {\n",
       "        text-align: right;\n",
       "    }\n",
       "</style>\n",
       "<table border=\"1\" class=\"dataframe\">\n",
       "  <thead>\n",
       "    <tr style=\"text-align: right;\">\n",
       "      <th>loan_status</th>\n",
       "      <th>Charged Off</th>\n",
       "      <th>Fully Paid</th>\n",
       "    </tr>\n",
       "    <tr>\n",
       "      <th>sub_grade</th>\n",
       "      <th></th>\n",
       "      <th></th>\n",
       "    </tr>\n",
       "  </thead>\n",
       "  <tbody>\n",
       "    <tr>\n",
       "      <th>A1</th>\n",
       "      <td>30</td>\n",
       "      <td>1109</td>\n",
       "    </tr>\n",
       "    <tr>\n",
       "      <th>A2</th>\n",
       "      <td>74</td>\n",
       "      <td>1434</td>\n",
       "    </tr>\n",
       "    <tr>\n",
       "      <th>A3</th>\n",
       "      <td>103</td>\n",
       "      <td>1707</td>\n",
       "    </tr>\n",
       "    <tr>\n",
       "      <th>A4</th>\n",
       "      <td>178</td>\n",
       "      <td>2695</td>\n",
       "    </tr>\n",
       "    <tr>\n",
       "      <th>A5</th>\n",
       "      <td>217</td>\n",
       "      <td>2498</td>\n",
       "    </tr>\n",
       "    <tr>\n",
       "      <th>B1</th>\n",
       "      <td>171</td>\n",
       "      <td>1626</td>\n",
       "    </tr>\n",
       "    <tr>\n",
       "      <th>B2</th>\n",
       "      <td>228</td>\n",
       "      <td>1773</td>\n",
       "    </tr>\n",
       "    <tr>\n",
       "      <th>B3</th>\n",
       "      <td>341</td>\n",
       "      <td>2484</td>\n",
       "    </tr>\n",
       "    <tr>\n",
       "      <th>B4</th>\n",
       "      <td>329</td>\n",
       "      <td>2108</td>\n",
       "    </tr>\n",
       "    <tr>\n",
       "      <th>B5</th>\n",
       "      <td>356</td>\n",
       "      <td>2259</td>\n",
       "    </tr>\n",
       "    <tr>\n",
       "      <th>C1</th>\n",
       "      <td>336</td>\n",
       "      <td>1719</td>\n",
       "    </tr>\n",
       "    <tr>\n",
       "      <th>C2</th>\n",
       "      <td>321</td>\n",
       "      <td>1610</td>\n",
       "    </tr>\n",
       "    <tr>\n",
       "      <th>C3</th>\n",
       "      <td>270</td>\n",
       "      <td>1218</td>\n",
       "    </tr>\n",
       "    <tr>\n",
       "      <th>C4</th>\n",
       "      <td>212</td>\n",
       "      <td>994</td>\n",
       "    </tr>\n",
       "    <tr>\n",
       "      <th>C5</th>\n",
       "      <td>208</td>\n",
       "      <td>946</td>\n",
       "    </tr>\n",
       "    <tr>\n",
       "      <th>D1</th>\n",
       "      <td>167</td>\n",
       "      <td>764</td>\n",
       "    </tr>\n",
       "    <tr>\n",
       "      <th>D2</th>\n",
       "      <td>271</td>\n",
       "      <td>1015</td>\n",
       "    </tr>\n",
       "    <tr>\n",
       "      <th>D3</th>\n",
       "      <td>256</td>\n",
       "      <td>860</td>\n",
       "    </tr>\n",
       "    <tr>\n",
       "      <th>D4</th>\n",
       "      <td>215</td>\n",
       "      <td>703</td>\n",
       "    </tr>\n",
       "    <tr>\n",
       "      <th>D5</th>\n",
       "      <td>209</td>\n",
       "      <td>625</td>\n",
       "    </tr>\n",
       "    <tr>\n",
       "      <th>E1</th>\n",
       "      <td>198</td>\n",
       "      <td>524</td>\n",
       "    </tr>\n",
       "    <tr>\n",
       "      <th>E2</th>\n",
       "      <td>163</td>\n",
       "      <td>451</td>\n",
       "    </tr>\n",
       "    <tr>\n",
       "      <th>E3</th>\n",
       "      <td>119</td>\n",
       "      <td>397</td>\n",
       "    </tr>\n",
       "    <tr>\n",
       "      <th>E4</th>\n",
       "      <td>126</td>\n",
       "      <td>298</td>\n",
       "    </tr>\n",
       "    <tr>\n",
       "      <th>E5</th>\n",
       "      <td>109</td>\n",
       "      <td>278</td>\n",
       "    </tr>\n",
       "    <tr>\n",
       "      <th>F1</th>\n",
       "      <td>91</td>\n",
       "      <td>214</td>\n",
       "    </tr>\n",
       "    <tr>\n",
       "      <th>F2</th>\n",
       "      <td>70</td>\n",
       "      <td>163</td>\n",
       "    </tr>\n",
       "    <tr>\n",
       "      <th>F3</th>\n",
       "      <td>51</td>\n",
       "      <td>123</td>\n",
       "    </tr>\n",
       "    <tr>\n",
       "      <th>F4</th>\n",
       "      <td>53</td>\n",
       "      <td>98</td>\n",
       "    </tr>\n",
       "    <tr>\n",
       "      <th>F5</th>\n",
       "      <td>54</td>\n",
       "      <td>59</td>\n",
       "    </tr>\n",
       "    <tr>\n",
       "      <th>G1</th>\n",
       "      <td>31</td>\n",
       "      <td>63</td>\n",
       "    </tr>\n",
       "    <tr>\n",
       "      <th>G2</th>\n",
       "      <td>28</td>\n",
       "      <td>49</td>\n",
       "    </tr>\n",
       "    <tr>\n",
       "      <th>G3</th>\n",
       "      <td>19</td>\n",
       "      <td>26</td>\n",
       "    </tr>\n",
       "    <tr>\n",
       "      <th>G4</th>\n",
       "      <td>13</td>\n",
       "      <td>41</td>\n",
       "    </tr>\n",
       "    <tr>\n",
       "      <th>G5</th>\n",
       "      <td>10</td>\n",
       "      <td>19</td>\n",
       "    </tr>\n",
       "  </tbody>\n",
       "</table>\n",
       "</div>"
      ],
      "text/plain": [
       "loan_status  Charged Off  Fully Paid\n",
       "sub_grade                           \n",
       "A1                    30        1109\n",
       "A2                    74        1434\n",
       "A3                   103        1707\n",
       "A4                   178        2695\n",
       "A5                   217        2498\n",
       "B1                   171        1626\n",
       "B2                   228        1773\n",
       "B3                   341        2484\n",
       "B4                   329        2108\n",
       "B5                   356        2259\n",
       "C1                   336        1719\n",
       "C2                   321        1610\n",
       "C3                   270        1218\n",
       "C4                   212         994\n",
       "C5                   208         946\n",
       "D1                   167         764\n",
       "D2                   271        1015\n",
       "D3                   256         860\n",
       "D4                   215         703\n",
       "D5                   209         625\n",
       "E1                   198         524\n",
       "E2                   163         451\n",
       "E3                   119         397\n",
       "E4                   126         298\n",
       "E5                   109         278\n",
       "F1                    91         214\n",
       "F2                    70         163\n",
       "F3                    51         123\n",
       "F4                    53          98\n",
       "F5                    54          59\n",
       "G1                    31          63\n",
       "G2                    28          49\n",
       "G3                    19          26\n",
       "G4                    13          41\n",
       "G5                    10          19"
      ]
     },
     "execution_count": 171,
     "metadata": {},
     "output_type": "execute_result"
    }
   ],
   "source": [
    "df_subgrade"
   ]
  },
  {
   "cell_type": "code",
   "execution_count": 172,
   "id": "e75e6f97-a2c4-4176-b2ac-1c3f644fa493",
   "metadata": {},
   "outputs": [],
   "source": [
    "df_subgrade[\"ChargedOffPercent\"]=df_subgrade[\"Charged Off\"]*100/(df_subgrade[\"Charged Off\"]+df_subgrade[\"Fully Paid\"])"
   ]
  },
  {
   "cell_type": "code",
   "execution_count": 173,
   "id": "34558953-2046-4b1c-b763-44c0be5a5df8",
   "metadata": {},
   "outputs": [
    {
     "data": {
      "text/html": [
       "<div>\n",
       "<style scoped>\n",
       "    .dataframe tbody tr th:only-of-type {\n",
       "        vertical-align: middle;\n",
       "    }\n",
       "\n",
       "    .dataframe tbody tr th {\n",
       "        vertical-align: top;\n",
       "    }\n",
       "\n",
       "    .dataframe thead th {\n",
       "        text-align: right;\n",
       "    }\n",
       "</style>\n",
       "<table border=\"1\" class=\"dataframe\">\n",
       "  <thead>\n",
       "    <tr style=\"text-align: right;\">\n",
       "      <th>loan_status</th>\n",
       "      <th>Charged Off</th>\n",
       "      <th>Fully Paid</th>\n",
       "      <th>ChargedOffPercent</th>\n",
       "    </tr>\n",
       "    <tr>\n",
       "      <th>sub_grade</th>\n",
       "      <th></th>\n",
       "      <th></th>\n",
       "      <th></th>\n",
       "    </tr>\n",
       "  </thead>\n",
       "  <tbody>\n",
       "    <tr>\n",
       "      <th>A1</th>\n",
       "      <td>30</td>\n",
       "      <td>1109</td>\n",
       "      <td>2.633889</td>\n",
       "    </tr>\n",
       "    <tr>\n",
       "      <th>A2</th>\n",
       "      <td>74</td>\n",
       "      <td>1434</td>\n",
       "      <td>4.907162</td>\n",
       "    </tr>\n",
       "    <tr>\n",
       "      <th>A3</th>\n",
       "      <td>103</td>\n",
       "      <td>1707</td>\n",
       "      <td>5.690608</td>\n",
       "    </tr>\n",
       "    <tr>\n",
       "      <th>A4</th>\n",
       "      <td>178</td>\n",
       "      <td>2695</td>\n",
       "      <td>6.195614</td>\n",
       "    </tr>\n",
       "    <tr>\n",
       "      <th>A5</th>\n",
       "      <td>217</td>\n",
       "      <td>2498</td>\n",
       "      <td>7.992634</td>\n",
       "    </tr>\n",
       "    <tr>\n",
       "      <th>B1</th>\n",
       "      <td>171</td>\n",
       "      <td>1626</td>\n",
       "      <td>9.515860</td>\n",
       "    </tr>\n",
       "    <tr>\n",
       "      <th>B2</th>\n",
       "      <td>228</td>\n",
       "      <td>1773</td>\n",
       "      <td>11.394303</td>\n",
       "    </tr>\n",
       "    <tr>\n",
       "      <th>B3</th>\n",
       "      <td>341</td>\n",
       "      <td>2484</td>\n",
       "      <td>12.070796</td>\n",
       "    </tr>\n",
       "    <tr>\n",
       "      <th>B4</th>\n",
       "      <td>329</td>\n",
       "      <td>2108</td>\n",
       "      <td>13.500205</td>\n",
       "    </tr>\n",
       "    <tr>\n",
       "      <th>B5</th>\n",
       "      <td>356</td>\n",
       "      <td>2259</td>\n",
       "      <td>13.613767</td>\n",
       "    </tr>\n",
       "    <tr>\n",
       "      <th>C1</th>\n",
       "      <td>336</td>\n",
       "      <td>1719</td>\n",
       "      <td>16.350365</td>\n",
       "    </tr>\n",
       "    <tr>\n",
       "      <th>C2</th>\n",
       "      <td>321</td>\n",
       "      <td>1610</td>\n",
       "      <td>16.623511</td>\n",
       "    </tr>\n",
       "    <tr>\n",
       "      <th>C3</th>\n",
       "      <td>270</td>\n",
       "      <td>1218</td>\n",
       "      <td>18.145161</td>\n",
       "    </tr>\n",
       "    <tr>\n",
       "      <th>C4</th>\n",
       "      <td>212</td>\n",
       "      <td>994</td>\n",
       "      <td>17.578773</td>\n",
       "    </tr>\n",
       "    <tr>\n",
       "      <th>C5</th>\n",
       "      <td>208</td>\n",
       "      <td>946</td>\n",
       "      <td>18.024263</td>\n",
       "    </tr>\n",
       "    <tr>\n",
       "      <th>D1</th>\n",
       "      <td>167</td>\n",
       "      <td>764</td>\n",
       "      <td>17.937701</td>\n",
       "    </tr>\n",
       "    <tr>\n",
       "      <th>D2</th>\n",
       "      <td>271</td>\n",
       "      <td>1015</td>\n",
       "      <td>21.073095</td>\n",
       "    </tr>\n",
       "    <tr>\n",
       "      <th>D3</th>\n",
       "      <td>256</td>\n",
       "      <td>860</td>\n",
       "      <td>22.939068</td>\n",
       "    </tr>\n",
       "    <tr>\n",
       "      <th>D4</th>\n",
       "      <td>215</td>\n",
       "      <td>703</td>\n",
       "      <td>23.420479</td>\n",
       "    </tr>\n",
       "    <tr>\n",
       "      <th>D5</th>\n",
       "      <td>209</td>\n",
       "      <td>625</td>\n",
       "      <td>25.059952</td>\n",
       "    </tr>\n",
       "    <tr>\n",
       "      <th>E1</th>\n",
       "      <td>198</td>\n",
       "      <td>524</td>\n",
       "      <td>27.423823</td>\n",
       "    </tr>\n",
       "    <tr>\n",
       "      <th>E2</th>\n",
       "      <td>163</td>\n",
       "      <td>451</td>\n",
       "      <td>26.547231</td>\n",
       "    </tr>\n",
       "    <tr>\n",
       "      <th>E3</th>\n",
       "      <td>119</td>\n",
       "      <td>397</td>\n",
       "      <td>23.062016</td>\n",
       "    </tr>\n",
       "    <tr>\n",
       "      <th>E4</th>\n",
       "      <td>126</td>\n",
       "      <td>298</td>\n",
       "      <td>29.716981</td>\n",
       "    </tr>\n",
       "    <tr>\n",
       "      <th>E5</th>\n",
       "      <td>109</td>\n",
       "      <td>278</td>\n",
       "      <td>28.165375</td>\n",
       "    </tr>\n",
       "    <tr>\n",
       "      <th>F1</th>\n",
       "      <td>91</td>\n",
       "      <td>214</td>\n",
       "      <td>29.836066</td>\n",
       "    </tr>\n",
       "    <tr>\n",
       "      <th>F2</th>\n",
       "      <td>70</td>\n",
       "      <td>163</td>\n",
       "      <td>30.042918</td>\n",
       "    </tr>\n",
       "    <tr>\n",
       "      <th>F3</th>\n",
       "      <td>51</td>\n",
       "      <td>123</td>\n",
       "      <td>29.310345</td>\n",
       "    </tr>\n",
       "    <tr>\n",
       "      <th>F4</th>\n",
       "      <td>53</td>\n",
       "      <td>98</td>\n",
       "      <td>35.099338</td>\n",
       "    </tr>\n",
       "    <tr>\n",
       "      <th>F5</th>\n",
       "      <td>54</td>\n",
       "      <td>59</td>\n",
       "      <td>47.787611</td>\n",
       "    </tr>\n",
       "    <tr>\n",
       "      <th>G1</th>\n",
       "      <td>31</td>\n",
       "      <td>63</td>\n",
       "      <td>32.978723</td>\n",
       "    </tr>\n",
       "    <tr>\n",
       "      <th>G2</th>\n",
       "      <td>28</td>\n",
       "      <td>49</td>\n",
       "      <td>36.363636</td>\n",
       "    </tr>\n",
       "    <tr>\n",
       "      <th>G3</th>\n",
       "      <td>19</td>\n",
       "      <td>26</td>\n",
       "      <td>42.222222</td>\n",
       "    </tr>\n",
       "    <tr>\n",
       "      <th>G4</th>\n",
       "      <td>13</td>\n",
       "      <td>41</td>\n",
       "      <td>24.074074</td>\n",
       "    </tr>\n",
       "    <tr>\n",
       "      <th>G5</th>\n",
       "      <td>10</td>\n",
       "      <td>19</td>\n",
       "      <td>34.482759</td>\n",
       "    </tr>\n",
       "  </tbody>\n",
       "</table>\n",
       "</div>"
      ],
      "text/plain": [
       "loan_status  Charged Off  Fully Paid  ChargedOffPercent\n",
       "sub_grade                                              \n",
       "A1                    30        1109           2.633889\n",
       "A2                    74        1434           4.907162\n",
       "A3                   103        1707           5.690608\n",
       "A4                   178        2695           6.195614\n",
       "A5                   217        2498           7.992634\n",
       "B1                   171        1626           9.515860\n",
       "B2                   228        1773          11.394303\n",
       "B3                   341        2484          12.070796\n",
       "B4                   329        2108          13.500205\n",
       "B5                   356        2259          13.613767\n",
       "C1                   336        1719          16.350365\n",
       "C2                   321        1610          16.623511\n",
       "C3                   270        1218          18.145161\n",
       "C4                   212         994          17.578773\n",
       "C5                   208         946          18.024263\n",
       "D1                   167         764          17.937701\n",
       "D2                   271        1015          21.073095\n",
       "D3                   256         860          22.939068\n",
       "D4                   215         703          23.420479\n",
       "D5                   209         625          25.059952\n",
       "E1                   198         524          27.423823\n",
       "E2                   163         451          26.547231\n",
       "E3                   119         397          23.062016\n",
       "E4                   126         298          29.716981\n",
       "E5                   109         278          28.165375\n",
       "F1                    91         214          29.836066\n",
       "F2                    70         163          30.042918\n",
       "F3                    51         123          29.310345\n",
       "F4                    53          98          35.099338\n",
       "F5                    54          59          47.787611\n",
       "G1                    31          63          32.978723\n",
       "G2                    28          49          36.363636\n",
       "G3                    19          26          42.222222\n",
       "G4                    13          41          24.074074\n",
       "G5                    10          19          34.482759"
      ]
     },
     "execution_count": 173,
     "metadata": {},
     "output_type": "execute_result"
    }
   ],
   "source": [
    "df_subgrade"
   ]
  },
  {
   "cell_type": "code",
   "execution_count": 175,
   "id": "2569a715-4740-4f45-b28e-734863ad7791",
   "metadata": {},
   "outputs": [
    {
     "data": {
      "text/html": [
       "<div>\n",
       "<style scoped>\n",
       "    .dataframe tbody tr th:only-of-type {\n",
       "        vertical-align: middle;\n",
       "    }\n",
       "\n",
       "    .dataframe tbody tr th {\n",
       "        vertical-align: top;\n",
       "    }\n",
       "\n",
       "    .dataframe thead th {\n",
       "        text-align: right;\n",
       "    }\n",
       "</style>\n",
       "<table border=\"1\" class=\"dataframe\">\n",
       "  <thead>\n",
       "    <tr style=\"text-align: right;\">\n",
       "      <th>loan_status</th>\n",
       "      <th>Charged Off</th>\n",
       "      <th>Fully Paid</th>\n",
       "      <th>ChargedOffPercent</th>\n",
       "    </tr>\n",
       "    <tr>\n",
       "      <th>sub_grade</th>\n",
       "      <th></th>\n",
       "      <th></th>\n",
       "      <th></th>\n",
       "    </tr>\n",
       "  </thead>\n",
       "  <tbody>\n",
       "    <tr>\n",
       "      <th>F5</th>\n",
       "      <td>54</td>\n",
       "      <td>59</td>\n",
       "      <td>47.787611</td>\n",
       "    </tr>\n",
       "    <tr>\n",
       "      <th>G3</th>\n",
       "      <td>19</td>\n",
       "      <td>26</td>\n",
       "      <td>42.222222</td>\n",
       "    </tr>\n",
       "    <tr>\n",
       "      <th>G2</th>\n",
       "      <td>28</td>\n",
       "      <td>49</td>\n",
       "      <td>36.363636</td>\n",
       "    </tr>\n",
       "    <tr>\n",
       "      <th>F4</th>\n",
       "      <td>53</td>\n",
       "      <td>98</td>\n",
       "      <td>35.099338</td>\n",
       "    </tr>\n",
       "    <tr>\n",
       "      <th>G5</th>\n",
       "      <td>10</td>\n",
       "      <td>19</td>\n",
       "      <td>34.482759</td>\n",
       "    </tr>\n",
       "    <tr>\n",
       "      <th>G1</th>\n",
       "      <td>31</td>\n",
       "      <td>63</td>\n",
       "      <td>32.978723</td>\n",
       "    </tr>\n",
       "    <tr>\n",
       "      <th>F2</th>\n",
       "      <td>70</td>\n",
       "      <td>163</td>\n",
       "      <td>30.042918</td>\n",
       "    </tr>\n",
       "    <tr>\n",
       "      <th>F1</th>\n",
       "      <td>91</td>\n",
       "      <td>214</td>\n",
       "      <td>29.836066</td>\n",
       "    </tr>\n",
       "    <tr>\n",
       "      <th>E4</th>\n",
       "      <td>126</td>\n",
       "      <td>298</td>\n",
       "      <td>29.716981</td>\n",
       "    </tr>\n",
       "    <tr>\n",
       "      <th>F3</th>\n",
       "      <td>51</td>\n",
       "      <td>123</td>\n",
       "      <td>29.310345</td>\n",
       "    </tr>\n",
       "    <tr>\n",
       "      <th>E5</th>\n",
       "      <td>109</td>\n",
       "      <td>278</td>\n",
       "      <td>28.165375</td>\n",
       "    </tr>\n",
       "    <tr>\n",
       "      <th>E1</th>\n",
       "      <td>198</td>\n",
       "      <td>524</td>\n",
       "      <td>27.423823</td>\n",
       "    </tr>\n",
       "    <tr>\n",
       "      <th>E2</th>\n",
       "      <td>163</td>\n",
       "      <td>451</td>\n",
       "      <td>26.547231</td>\n",
       "    </tr>\n",
       "    <tr>\n",
       "      <th>D5</th>\n",
       "      <td>209</td>\n",
       "      <td>625</td>\n",
       "      <td>25.059952</td>\n",
       "    </tr>\n",
       "    <tr>\n",
       "      <th>G4</th>\n",
       "      <td>13</td>\n",
       "      <td>41</td>\n",
       "      <td>24.074074</td>\n",
       "    </tr>\n",
       "    <tr>\n",
       "      <th>D4</th>\n",
       "      <td>215</td>\n",
       "      <td>703</td>\n",
       "      <td>23.420479</td>\n",
       "    </tr>\n",
       "    <tr>\n",
       "      <th>E3</th>\n",
       "      <td>119</td>\n",
       "      <td>397</td>\n",
       "      <td>23.062016</td>\n",
       "    </tr>\n",
       "    <tr>\n",
       "      <th>D3</th>\n",
       "      <td>256</td>\n",
       "      <td>860</td>\n",
       "      <td>22.939068</td>\n",
       "    </tr>\n",
       "    <tr>\n",
       "      <th>D2</th>\n",
       "      <td>271</td>\n",
       "      <td>1015</td>\n",
       "      <td>21.073095</td>\n",
       "    </tr>\n",
       "    <tr>\n",
       "      <th>C3</th>\n",
       "      <td>270</td>\n",
       "      <td>1218</td>\n",
       "      <td>18.145161</td>\n",
       "    </tr>\n",
       "    <tr>\n",
       "      <th>C5</th>\n",
       "      <td>208</td>\n",
       "      <td>946</td>\n",
       "      <td>18.024263</td>\n",
       "    </tr>\n",
       "    <tr>\n",
       "      <th>D1</th>\n",
       "      <td>167</td>\n",
       "      <td>764</td>\n",
       "      <td>17.937701</td>\n",
       "    </tr>\n",
       "    <tr>\n",
       "      <th>C4</th>\n",
       "      <td>212</td>\n",
       "      <td>994</td>\n",
       "      <td>17.578773</td>\n",
       "    </tr>\n",
       "    <tr>\n",
       "      <th>C2</th>\n",
       "      <td>321</td>\n",
       "      <td>1610</td>\n",
       "      <td>16.623511</td>\n",
       "    </tr>\n",
       "    <tr>\n",
       "      <th>C1</th>\n",
       "      <td>336</td>\n",
       "      <td>1719</td>\n",
       "      <td>16.350365</td>\n",
       "    </tr>\n",
       "    <tr>\n",
       "      <th>B5</th>\n",
       "      <td>356</td>\n",
       "      <td>2259</td>\n",
       "      <td>13.613767</td>\n",
       "    </tr>\n",
       "    <tr>\n",
       "      <th>B4</th>\n",
       "      <td>329</td>\n",
       "      <td>2108</td>\n",
       "      <td>13.500205</td>\n",
       "    </tr>\n",
       "    <tr>\n",
       "      <th>B3</th>\n",
       "      <td>341</td>\n",
       "      <td>2484</td>\n",
       "      <td>12.070796</td>\n",
       "    </tr>\n",
       "    <tr>\n",
       "      <th>B2</th>\n",
       "      <td>228</td>\n",
       "      <td>1773</td>\n",
       "      <td>11.394303</td>\n",
       "    </tr>\n",
       "    <tr>\n",
       "      <th>B1</th>\n",
       "      <td>171</td>\n",
       "      <td>1626</td>\n",
       "      <td>9.515860</td>\n",
       "    </tr>\n",
       "    <tr>\n",
       "      <th>A5</th>\n",
       "      <td>217</td>\n",
       "      <td>2498</td>\n",
       "      <td>7.992634</td>\n",
       "    </tr>\n",
       "    <tr>\n",
       "      <th>A4</th>\n",
       "      <td>178</td>\n",
       "      <td>2695</td>\n",
       "      <td>6.195614</td>\n",
       "    </tr>\n",
       "    <tr>\n",
       "      <th>A3</th>\n",
       "      <td>103</td>\n",
       "      <td>1707</td>\n",
       "      <td>5.690608</td>\n",
       "    </tr>\n",
       "    <tr>\n",
       "      <th>A2</th>\n",
       "      <td>74</td>\n",
       "      <td>1434</td>\n",
       "      <td>4.907162</td>\n",
       "    </tr>\n",
       "    <tr>\n",
       "      <th>A1</th>\n",
       "      <td>30</td>\n",
       "      <td>1109</td>\n",
       "      <td>2.633889</td>\n",
       "    </tr>\n",
       "  </tbody>\n",
       "</table>\n",
       "</div>"
      ],
      "text/plain": [
       "loan_status  Charged Off  Fully Paid  ChargedOffPercent\n",
       "sub_grade                                              \n",
       "F5                    54          59          47.787611\n",
       "G3                    19          26          42.222222\n",
       "G2                    28          49          36.363636\n",
       "F4                    53          98          35.099338\n",
       "G5                    10          19          34.482759\n",
       "G1                    31          63          32.978723\n",
       "F2                    70         163          30.042918\n",
       "F1                    91         214          29.836066\n",
       "E4                   126         298          29.716981\n",
       "F3                    51         123          29.310345\n",
       "E5                   109         278          28.165375\n",
       "E1                   198         524          27.423823\n",
       "E2                   163         451          26.547231\n",
       "D5                   209         625          25.059952\n",
       "G4                    13          41          24.074074\n",
       "D4                   215         703          23.420479\n",
       "E3                   119         397          23.062016\n",
       "D3                   256         860          22.939068\n",
       "D2                   271        1015          21.073095\n",
       "C3                   270        1218          18.145161\n",
       "C5                   208         946          18.024263\n",
       "D1                   167         764          17.937701\n",
       "C4                   212         994          17.578773\n",
       "C2                   321        1610          16.623511\n",
       "C1                   336        1719          16.350365\n",
       "B5                   356        2259          13.613767\n",
       "B4                   329        2108          13.500205\n",
       "B3                   341        2484          12.070796\n",
       "B2                   228        1773          11.394303\n",
       "B1                   171        1626           9.515860\n",
       "A5                   217        2498           7.992634\n",
       "A4                   178        2695           6.195614\n",
       "A3                   103        1707           5.690608\n",
       "A2                    74        1434           4.907162\n",
       "A1                    30        1109           2.633889"
      ]
     },
     "execution_count": 175,
     "metadata": {},
     "output_type": "execute_result"
    }
   ],
   "source": [
    "df_subgrade.sort_values(\"ChargedOffPercent\",ascending=False)"
   ]
  },
  {
   "cell_type": "code",
   "execution_count": 226,
   "id": "591f10a4-193a-4f43-a2d9-404916a6ddf2",
   "metadata": {},
   "outputs": [
    {
     "data": {
      "text/plain": [
       "<matplotlib.lines.Line2D at 0x201a2763150>"
      ]
     },
     "execution_count": 226,
     "metadata": {},
     "output_type": "execute_result"
    },
    {
     "data": {
      "image/png": "[encoded data removed]",
      "text/plain": [
       "<Figure size 1170x827 with 1 Axes>"
      ]
     },
     "metadata": {},
     "output_type": "display_data"
    }
   ],
   "source": [
    "sns.set_theme(rc={'figure.figsize':(11.7,8.27)})\n",
    "subgradeplot=sns.barplot(x=df_subgrade.index,y=df_subgrade.ChargedOffPercent)\n",
    "subgradeplot.set_title(\"Percentage of Charged Off loans over different subgrades\")\n",
    "subgradeplot.set_ylabel(\"Percentage of loans Charged Off\")\n",
    "subgradeplot.axhline(y=15,linestyle=\"dashed\")"
   ]
  },
  {
   "cell_type": "code",
   "execution_count": null,
   "id": "035e65c3-e375-4daf-82e8-2fa7f47e19fd",
   "metadata": {},
   "outputs": [],
   "source": [
    "#Insight6\n",
    "#In the F5 subgrade,almost 48% of the loans resulted in chargedoff loans \n",
    "#In these subgrades F5,G3,G2,F4,G5,G1 the chargedoff loans percentage is very high(more than 33%.Atleast One in every three loans got chargedoff)"
   ]
  },
  {
   "cell_type": "code",
   "execution_count": null,
   "id": "b4d3bdb6-a970-43ba-b641-ad2c19278019",
   "metadata": {},
   "outputs": [],
   "source": [
    "#Impact of verification status and chargedoff loans"
   ]
  },
  {
   "cell_type": "code",
   "execution_count": 176,
   "id": "f385d59c-5fc0-4a72-b0fd-ae7648f46409",
   "metadata": {},
   "outputs": [],
   "source": [
    "df_verifystatus=pd.crosstab(df_clean[\"verification_status\"],df_clean[\"loan_status\"])"
   ]
  },
  {
   "cell_type": "code",
   "execution_count": 177,
   "id": "1cb868bc-0ae0-4666-98b2-87d87b5cadb1",
   "metadata": {},
   "outputs": [
    {
     "data": {
      "text/html": [
       "<div>\n",
       "<style scoped>\n",
       "    .dataframe tbody tr th:only-of-type {\n",
       "        vertical-align: middle;\n",
       "    }\n",
       "\n",
       "    .dataframe tbody tr th {\n",
       "        vertical-align: top;\n",
       "    }\n",
       "\n",
       "    .dataframe thead th {\n",
       "        text-align: right;\n",
       "    }\n",
       "</style>\n",
       "<table border=\"1\" class=\"dataframe\">\n",
       "  <thead>\n",
       "    <tr style=\"text-align: right;\">\n",
       "      <th>loan_status</th>\n",
       "      <th>Charged Off</th>\n",
       "      <th>Fully Paid</th>\n",
       "    </tr>\n",
       "    <tr>\n",
       "      <th>verification_status</th>\n",
       "      <th></th>\n",
       "      <th></th>\n",
       "    </tr>\n",
       "  </thead>\n",
       "  <tbody>\n",
       "    <tr>\n",
       "      <th>Not Verified</th>\n",
       "      <td>2142</td>\n",
       "      <td>14552</td>\n",
       "    </tr>\n",
       "    <tr>\n",
       "      <th>Source Verified</th>\n",
       "      <td>1434</td>\n",
       "      <td>8243</td>\n",
       "    </tr>\n",
       "    <tr>\n",
       "      <th>Verified</th>\n",
       "      <td>2051</td>\n",
       "      <td>10155</td>\n",
       "    </tr>\n",
       "  </tbody>\n",
       "</table>\n",
       "</div>"
      ],
      "text/plain": [
       "loan_status          Charged Off  Fully Paid\n",
       "verification_status                         \n",
       "Not Verified                2142       14552\n",
       "Source Verified             1434        8243\n",
       "Verified                    2051       10155"
      ]
     },
     "execution_count": 177,
     "metadata": {},
     "output_type": "execute_result"
    }
   ],
   "source": [
    "df_verifystatus"
   ]
  },
  {
   "cell_type": "code",
   "execution_count": 178,
   "id": "98547796-7c21-4843-ba39-6c57ad0332e7",
   "metadata": {},
   "outputs": [],
   "source": [
    "df_verifystatus[\"ChargedOffPercent\"]=df_verifystatus[\"Charged Off\"]*100/(df_verifystatus[\"Charged Off\"]+df_verifystatus[\"Fully Paid\"])"
   ]
  },
  {
   "cell_type": "code",
   "execution_count": 179,
   "id": "42bf4f6e-5475-4a4f-b051-e58581442279",
   "metadata": {},
   "outputs": [
    {
     "data": {
      "text/html": [
       "<div>\n",
       "<style scoped>\n",
       "    .dataframe tbody tr th:only-of-type {\n",
       "        vertical-align: middle;\n",
       "    }\n",
       "\n",
       "    .dataframe tbody tr th {\n",
       "        vertical-align: top;\n",
       "    }\n",
       "\n",
       "    .dataframe thead th {\n",
       "        text-align: right;\n",
       "    }\n",
       "</style>\n",
       "<table border=\"1\" class=\"dataframe\">\n",
       "  <thead>\n",
       "    <tr style=\"text-align: right;\">\n",
       "      <th>loan_status</th>\n",
       "      <th>Charged Off</th>\n",
       "      <th>Fully Paid</th>\n",
       "      <th>ChargedOffPercent</th>\n",
       "    </tr>\n",
       "    <tr>\n",
       "      <th>verification_status</th>\n",
       "      <th></th>\n",
       "      <th></th>\n",
       "      <th></th>\n",
       "    </tr>\n",
       "  </thead>\n",
       "  <tbody>\n",
       "    <tr>\n",
       "      <th>Not Verified</th>\n",
       "      <td>2142</td>\n",
       "      <td>14552</td>\n",
       "      <td>12.830957</td>\n",
       "    </tr>\n",
       "    <tr>\n",
       "      <th>Source Verified</th>\n",
       "      <td>1434</td>\n",
       "      <td>8243</td>\n",
       "      <td>14.818642</td>\n",
       "    </tr>\n",
       "    <tr>\n",
       "      <th>Verified</th>\n",
       "      <td>2051</td>\n",
       "      <td>10155</td>\n",
       "      <td>16.803212</td>\n",
       "    </tr>\n",
       "  </tbody>\n",
       "</table>\n",
       "</div>"
      ],
      "text/plain": [
       "loan_status          Charged Off  Fully Paid  ChargedOffPercent\n",
       "verification_status                                            \n",
       "Not Verified                2142       14552          12.830957\n",
       "Source Verified             1434        8243          14.818642\n",
       "Verified                    2051       10155          16.803212"
      ]
     },
     "execution_count": 179,
     "metadata": {},
     "output_type": "execute_result"
    }
   ],
   "source": [
    "df_verifystatus"
   ]
  },
  {
   "cell_type": "code",
   "execution_count": null,
   "id": "aadf94fa-4e1e-4c03-81b5-023ff3182874",
   "metadata": {},
   "outputs": [],
   "source": [
    "#Verification status is not impacting the chargedoff loans "
   ]
  },
  {
   "cell_type": "code",
   "execution_count": null,
   "id": "5bf69ae5-b6b7-494c-b150-df0644fe07cc",
   "metadata": {},
   "outputs": [],
   "source": [
    "#Purpose of the loan and its impact on the loan getting chargedoff"
   ]
  },
  {
   "cell_type": "code",
   "execution_count": 184,
   "id": "10bd64eb-ad7f-44ab-a95c-b02327385986",
   "metadata": {},
   "outputs": [],
   "source": [
    "df_purpose=pd.crosstab(df_clean[\"purpose\"],df_clean[\"loan_status\"])"
   ]
  },
  {
   "cell_type": "code",
   "execution_count": 185,
   "id": "d6a943c8-c2f5-4e25-bff9-143b11c69826",
   "metadata": {},
   "outputs": [
    {
     "data": {
      "text/html": [
       "<div>\n",
       "<style scoped>\n",
       "    .dataframe tbody tr th:only-of-type {\n",
       "        vertical-align: middle;\n",
       "    }\n",
       "\n",
       "    .dataframe tbody tr th {\n",
       "        vertical-align: top;\n",
       "    }\n",
       "\n",
       "    .dataframe thead th {\n",
       "        text-align: right;\n",
       "    }\n",
       "</style>\n",
       "<table border=\"1\" class=\"dataframe\">\n",
       "  <thead>\n",
       "    <tr style=\"text-align: right;\">\n",
       "      <th>loan_status</th>\n",
       "      <th>Charged Off</th>\n",
       "      <th>Fully Paid</th>\n",
       "    </tr>\n",
       "    <tr>\n",
       "      <th>purpose</th>\n",
       "      <th></th>\n",
       "      <th></th>\n",
       "    </tr>\n",
       "  </thead>\n",
       "  <tbody>\n",
       "    <tr>\n",
       "      <th>car</th>\n",
       "      <td>160</td>\n",
       "      <td>1339</td>\n",
       "    </tr>\n",
       "    <tr>\n",
       "      <th>credit_card</th>\n",
       "      <td>542</td>\n",
       "      <td>4485</td>\n",
       "    </tr>\n",
       "    <tr>\n",
       "      <th>debt_consolidation</th>\n",
       "      <td>2767</td>\n",
       "      <td>15288</td>\n",
       "    </tr>\n",
       "    <tr>\n",
       "      <th>educational</th>\n",
       "      <td>56</td>\n",
       "      <td>269</td>\n",
       "    </tr>\n",
       "    <tr>\n",
       "      <th>home_improvement</th>\n",
       "      <td>347</td>\n",
       "      <td>2528</td>\n",
       "    </tr>\n",
       "    <tr>\n",
       "      <th>house</th>\n",
       "      <td>59</td>\n",
       "      <td>308</td>\n",
       "    </tr>\n",
       "    <tr>\n",
       "      <th>major_purchase</th>\n",
       "      <td>222</td>\n",
       "      <td>1928</td>\n",
       "    </tr>\n",
       "    <tr>\n",
       "      <th>medical</th>\n",
       "      <td>106</td>\n",
       "      <td>575</td>\n",
       "    </tr>\n",
       "    <tr>\n",
       "      <th>moving</th>\n",
       "      <td>92</td>\n",
       "      <td>484</td>\n",
       "    </tr>\n",
       "    <tr>\n",
       "      <th>other</th>\n",
       "      <td>633</td>\n",
       "      <td>3232</td>\n",
       "    </tr>\n",
       "    <tr>\n",
       "      <th>renewable_energy</th>\n",
       "      <td>19</td>\n",
       "      <td>83</td>\n",
       "    </tr>\n",
       "    <tr>\n",
       "      <th>small_business</th>\n",
       "      <td>475</td>\n",
       "      <td>1279</td>\n",
       "    </tr>\n",
       "    <tr>\n",
       "      <th>vacation</th>\n",
       "      <td>53</td>\n",
       "      <td>322</td>\n",
       "    </tr>\n",
       "    <tr>\n",
       "      <th>wedding</th>\n",
       "      <td>96</td>\n",
       "      <td>830</td>\n",
       "    </tr>\n",
       "  </tbody>\n",
       "</table>\n",
       "</div>"
      ],
      "text/plain": [
       "loan_status         Charged Off  Fully Paid\n",
       "purpose                                    \n",
       "car                         160        1339\n",
       "credit_card                 542        4485\n",
       "debt_consolidation         2767       15288\n",
       "educational                  56         269\n",
       "home_improvement            347        2528\n",
       "house                        59         308\n",
       "major_purchase              222        1928\n",
       "medical                     106         575\n",
       "moving                       92         484\n",
       "other                       633        3232\n",
       "renewable_energy             19          83\n",
       "small_business              475        1279\n",
       "vacation                     53         322\n",
       "wedding                      96         830"
      ]
     },
     "execution_count": 185,
     "metadata": {},
     "output_type": "execute_result"
    }
   ],
   "source": [
    "df_purpose"
   ]
  },
  {
   "cell_type": "code",
   "execution_count": 186,
   "id": "f65edf22-2c18-4a56-930d-56da8ad47ba5",
   "metadata": {},
   "outputs": [],
   "source": [
    "df_purpose[\"ChargedOffPercent\"]=df_purpose[\"Charged Off\"]*100/(df_purpose[\"Charged Off\"]+df_purpose[\"Fully Paid\"])"
   ]
  },
  {
   "cell_type": "code",
   "execution_count": 187,
   "id": "482aa489-f427-45df-a890-e79adb4ae4d1",
   "metadata": {},
   "outputs": [
    {
     "data": {
      "text/html": [
       "<div>\n",
       "<style scoped>\n",
       "    .dataframe tbody tr th:only-of-type {\n",
       "        vertical-align: middle;\n",
       "    }\n",
       "\n",
       "    .dataframe tbody tr th {\n",
       "        vertical-align: top;\n",
       "    }\n",
       "\n",
       "    .dataframe thead th {\n",
       "        text-align: right;\n",
       "    }\n",
       "</style>\n",
       "<table border=\"1\" class=\"dataframe\">\n",
       "  <thead>\n",
       "    <tr style=\"text-align: right;\">\n",
       "      <th>loan_status</th>\n",
       "      <th>Charged Off</th>\n",
       "      <th>Fully Paid</th>\n",
       "      <th>ChargedOffPercent</th>\n",
       "    </tr>\n",
       "    <tr>\n",
       "      <th>purpose</th>\n",
       "      <th></th>\n",
       "      <th></th>\n",
       "      <th></th>\n",
       "    </tr>\n",
       "  </thead>\n",
       "  <tbody>\n",
       "    <tr>\n",
       "      <th>car</th>\n",
       "      <td>160</td>\n",
       "      <td>1339</td>\n",
       "      <td>10.673783</td>\n",
       "    </tr>\n",
       "    <tr>\n",
       "      <th>credit_card</th>\n",
       "      <td>542</td>\n",
       "      <td>4485</td>\n",
       "      <td>10.781778</td>\n",
       "    </tr>\n",
       "    <tr>\n",
       "      <th>debt_consolidation</th>\n",
       "      <td>2767</td>\n",
       "      <td>15288</td>\n",
       "      <td>15.325395</td>\n",
       "    </tr>\n",
       "    <tr>\n",
       "      <th>educational</th>\n",
       "      <td>56</td>\n",
       "      <td>269</td>\n",
       "      <td>17.230769</td>\n",
       "    </tr>\n",
       "    <tr>\n",
       "      <th>home_improvement</th>\n",
       "      <td>347</td>\n",
       "      <td>2528</td>\n",
       "      <td>12.069565</td>\n",
       "    </tr>\n",
       "    <tr>\n",
       "      <th>house</th>\n",
       "      <td>59</td>\n",
       "      <td>308</td>\n",
       "      <td>16.076294</td>\n",
       "    </tr>\n",
       "    <tr>\n",
       "      <th>major_purchase</th>\n",
       "      <td>222</td>\n",
       "      <td>1928</td>\n",
       "      <td>10.325581</td>\n",
       "    </tr>\n",
       "    <tr>\n",
       "      <th>medical</th>\n",
       "      <td>106</td>\n",
       "      <td>575</td>\n",
       "      <td>15.565345</td>\n",
       "    </tr>\n",
       "    <tr>\n",
       "      <th>moving</th>\n",
       "      <td>92</td>\n",
       "      <td>484</td>\n",
       "      <td>15.972222</td>\n",
       "    </tr>\n",
       "    <tr>\n",
       "      <th>other</th>\n",
       "      <td>633</td>\n",
       "      <td>3232</td>\n",
       "      <td>16.377749</td>\n",
       "    </tr>\n",
       "    <tr>\n",
       "      <th>renewable_energy</th>\n",
       "      <td>19</td>\n",
       "      <td>83</td>\n",
       "      <td>18.627451</td>\n",
       "    </tr>\n",
       "    <tr>\n",
       "      <th>small_business</th>\n",
       "      <td>475</td>\n",
       "      <td>1279</td>\n",
       "      <td>27.080958</td>\n",
       "    </tr>\n",
       "    <tr>\n",
       "      <th>vacation</th>\n",
       "      <td>53</td>\n",
       "      <td>322</td>\n",
       "      <td>14.133333</td>\n",
       "    </tr>\n",
       "    <tr>\n",
       "      <th>wedding</th>\n",
       "      <td>96</td>\n",
       "      <td>830</td>\n",
       "      <td>10.367171</td>\n",
       "    </tr>\n",
       "  </tbody>\n",
       "</table>\n",
       "</div>"
      ],
      "text/plain": [
       "loan_status         Charged Off  Fully Paid  ChargedOffPercent\n",
       "purpose                                                       \n",
       "car                         160        1339          10.673783\n",
       "credit_card                 542        4485          10.781778\n",
       "debt_consolidation         2767       15288          15.325395\n",
       "educational                  56         269          17.230769\n",
       "home_improvement            347        2528          12.069565\n",
       "house                        59         308          16.076294\n",
       "major_purchase              222        1928          10.325581\n",
       "medical                     106         575          15.565345\n",
       "moving                       92         484          15.972222\n",
       "other                       633        3232          16.377749\n",
       "renewable_energy             19          83          18.627451\n",
       "small_business              475        1279          27.080958\n",
       "vacation                     53         322          14.133333\n",
       "wedding                      96         830          10.367171"
      ]
     },
     "execution_count": 187,
     "metadata": {},
     "output_type": "execute_result"
    }
   ],
   "source": [
    "df_purpose"
   ]
  },
  {
   "cell_type": "code",
   "execution_count": 221,
   "id": "fd596e61-5ebe-46dd-9331-a67710824939",
   "metadata": {},
   "outputs": [
    {
     "data": {
      "text/plain": [
       "<matplotlib.lines.Line2D at 0x201a2839790>"
      ]
     },
     "execution_count": 221,
     "metadata": {},
     "output_type": "execute_result"
    },
    {
     "data": {
      "image/png": "[encoded data removed]",
      "text/plain": [
       "<Figure size 1170x827 with 1 Axes>"
      ]
     },
     "metadata": {},
     "output_type": "display_data"
    }
   ],
   "source": [
    "sns.set_theme(rc={'figure.figsize':(11.7,8.27)})\n",
    "purposeplot=sns.barplot(x=df_purpose.index,y=df_purpose.ChargedOffPercent)\n",
    "purposeplot.set_title(\"Percentage of Charged Off loans over different purposes\")\n",
    "purposeplot.set_ylabel(\"Percentage of loans Charged Off\")\n",
    "purposeplot.set_xticklabels(labels=df_purpose.index,rotation=90)\n",
    "purposeplot.axhline(y=15,linestyle=\"dashed\")\n",
    "\n",
    "#dashed line represents the percentage of loans chargedoff in the entire dataset\n"
   ]
  },
  {
   "cell_type": "code",
   "execution_count": null,
   "id": "1dd181b9-b415-4436-82b8-f907f52a4880",
   "metadata": {},
   "outputs": [],
   "source": [
    "###Insight7\n",
    "#Lending for the purpose of small business turned out to be risky\n",
    "#More than 27% of the total loans resulted in chargedoff,this is way more than the average of 16%"
   ]
  },
  {
   "cell_type": "code",
   "execution_count": null,
   "id": "5cafec69-a3ad-4133-88ac-352157603df3",
   "metadata": {},
   "outputs": [],
   "source": [
    "#Verifying the impact of various states on chargedoff loans"
   ]
  },
  {
   "cell_type": "code",
   "execution_count": 188,
   "id": "f7b1e0b7-23b1-4dc4-89b4-562ac74b2985",
   "metadata": {},
   "outputs": [],
   "source": [
    "df_state=pd.crosstab(df_clean[\"addr_state\"],df_clean[\"loan_status\"])"
   ]
  },
  {
   "cell_type": "code",
   "execution_count": 189,
   "id": "37b5ad24-c22d-47cb-9c90-db89bc65b22c",
   "metadata": {},
   "outputs": [],
   "source": [
    "df_state[\"ChargedOffPercent\"]=df_state[\"Charged Off\"]*100/(df_state[\"Charged Off\"]+df_state[\"Fully Paid\"])"
   ]
  },
  {
   "cell_type": "code",
   "execution_count": 190,
   "id": "1beb560f-6a52-4a61-b4b8-6434753cb35e",
   "metadata": {},
   "outputs": [
    {
     "data": {
      "text/html": [
       "<div>\n",
       "<style scoped>\n",
       "    .dataframe tbody tr th:only-of-type {\n",
       "        vertical-align: middle;\n",
       "    }\n",
       "\n",
       "    .dataframe tbody tr th {\n",
       "        vertical-align: top;\n",
       "    }\n",
       "\n",
       "    .dataframe thead th {\n",
       "        text-align: right;\n",
       "    }\n",
       "</style>\n",
       "<table border=\"1\" class=\"dataframe\">\n",
       "  <thead>\n",
       "    <tr style=\"text-align: right;\">\n",
       "      <th>loan_status</th>\n",
       "      <th>Charged Off</th>\n",
       "      <th>Fully Paid</th>\n",
       "      <th>ChargedOffPercent</th>\n",
       "    </tr>\n",
       "    <tr>\n",
       "      <th>addr_state</th>\n",
       "      <th></th>\n",
       "      <th></th>\n",
       "      <th></th>\n",
       "    </tr>\n",
       "  </thead>\n",
       "  <tbody>\n",
       "    <tr>\n",
       "      <th>AK</th>\n",
       "      <td>15</td>\n",
       "      <td>63</td>\n",
       "      <td>19.230769</td>\n",
       "    </tr>\n",
       "    <tr>\n",
       "      <th>AL</th>\n",
       "      <td>54</td>\n",
       "      <td>381</td>\n",
       "      <td>12.413793</td>\n",
       "    </tr>\n",
       "    <tr>\n",
       "      <th>AR</th>\n",
       "      <td>27</td>\n",
       "      <td>208</td>\n",
       "      <td>11.489362</td>\n",
       "    </tr>\n",
       "    <tr>\n",
       "      <th>AZ</th>\n",
       "      <td>123</td>\n",
       "      <td>726</td>\n",
       "      <td>14.487633</td>\n",
       "    </tr>\n",
       "    <tr>\n",
       "      <th>CA</th>\n",
       "      <td>1125</td>\n",
       "      <td>5824</td>\n",
       "      <td>16.189380</td>\n",
       "    </tr>\n",
       "    <tr>\n",
       "      <th>CO</th>\n",
       "      <td>98</td>\n",
       "      <td>668</td>\n",
       "      <td>12.793734</td>\n",
       "    </tr>\n",
       "    <tr>\n",
       "      <th>CT</th>\n",
       "      <td>94</td>\n",
       "      <td>632</td>\n",
       "      <td>12.947658</td>\n",
       "    </tr>\n",
       "    <tr>\n",
       "      <th>DC</th>\n",
       "      <td>15</td>\n",
       "      <td>196</td>\n",
       "      <td>7.109005</td>\n",
       "    </tr>\n",
       "    <tr>\n",
       "      <th>DE</th>\n",
       "      <td>12</td>\n",
       "      <td>101</td>\n",
       "      <td>10.619469</td>\n",
       "    </tr>\n",
       "    <tr>\n",
       "      <th>FL</th>\n",
       "      <td>504</td>\n",
       "      <td>2277</td>\n",
       "      <td>18.122977</td>\n",
       "    </tr>\n",
       "    <tr>\n",
       "      <th>GA</th>\n",
       "      <td>215</td>\n",
       "      <td>1144</td>\n",
       "      <td>15.820456</td>\n",
       "    </tr>\n",
       "    <tr>\n",
       "      <th>HI</th>\n",
       "      <td>28</td>\n",
       "      <td>138</td>\n",
       "      <td>16.867470</td>\n",
       "    </tr>\n",
       "    <tr>\n",
       "      <th>IA</th>\n",
       "      <td>0</td>\n",
       "      <td>5</td>\n",
       "      <td>0.000000</td>\n",
       "    </tr>\n",
       "    <tr>\n",
       "      <th>ID</th>\n",
       "      <td>1</td>\n",
       "      <td>5</td>\n",
       "      <td>16.666667</td>\n",
       "    </tr>\n",
       "    <tr>\n",
       "      <th>IL</th>\n",
       "      <td>197</td>\n",
       "      <td>1281</td>\n",
       "      <td>13.328823</td>\n",
       "    </tr>\n",
       "    <tr>\n",
       "      <th>IN</th>\n",
       "      <td>0</td>\n",
       "      <td>9</td>\n",
       "      <td>0.000000</td>\n",
       "    </tr>\n",
       "    <tr>\n",
       "      <th>KS</th>\n",
       "      <td>31</td>\n",
       "      <td>224</td>\n",
       "      <td>12.156863</td>\n",
       "    </tr>\n",
       "    <tr>\n",
       "      <th>KY</th>\n",
       "      <td>45</td>\n",
       "      <td>266</td>\n",
       "      <td>14.469453</td>\n",
       "    </tr>\n",
       "    <tr>\n",
       "      <th>LA</th>\n",
       "      <td>53</td>\n",
       "      <td>374</td>\n",
       "      <td>12.412178</td>\n",
       "    </tr>\n",
       "    <tr>\n",
       "      <th>MA</th>\n",
       "      <td>159</td>\n",
       "      <td>1138</td>\n",
       "      <td>12.259059</td>\n",
       "    </tr>\n",
       "    <tr>\n",
       "      <th>MD</th>\n",
       "      <td>162</td>\n",
       "      <td>861</td>\n",
       "      <td>15.835777</td>\n",
       "    </tr>\n",
       "    <tr>\n",
       "      <th>ME</th>\n",
       "      <td>0</td>\n",
       "      <td>3</td>\n",
       "      <td>0.000000</td>\n",
       "    </tr>\n",
       "    <tr>\n",
       "      <th>MI</th>\n",
       "      <td>103</td>\n",
       "      <td>601</td>\n",
       "      <td>14.630682</td>\n",
       "    </tr>\n",
       "    <tr>\n",
       "      <th>MN</th>\n",
       "      <td>81</td>\n",
       "      <td>524</td>\n",
       "      <td>13.388430</td>\n",
       "    </tr>\n",
       "    <tr>\n",
       "      <th>MO</th>\n",
       "      <td>114</td>\n",
       "      <td>556</td>\n",
       "      <td>17.014925</td>\n",
       "    </tr>\n",
       "    <tr>\n",
       "      <th>MS</th>\n",
       "      <td>2</td>\n",
       "      <td>17</td>\n",
       "      <td>10.526316</td>\n",
       "    </tr>\n",
       "    <tr>\n",
       "      <th>MT</th>\n",
       "      <td>11</td>\n",
       "      <td>72</td>\n",
       "      <td>13.253012</td>\n",
       "    </tr>\n",
       "    <tr>\n",
       "      <th>NC</th>\n",
       "      <td>114</td>\n",
       "      <td>636</td>\n",
       "      <td>15.200000</td>\n",
       "    </tr>\n",
       "    <tr>\n",
       "      <th>NE</th>\n",
       "      <td>3</td>\n",
       "      <td>2</td>\n",
       "      <td>60.000000</td>\n",
       "    </tr>\n",
       "    <tr>\n",
       "      <th>NH</th>\n",
       "      <td>25</td>\n",
       "      <td>141</td>\n",
       "      <td>15.060241</td>\n",
       "    </tr>\n",
       "    <tr>\n",
       "      <th>NJ</th>\n",
       "      <td>278</td>\n",
       "      <td>1512</td>\n",
       "      <td>15.530726</td>\n",
       "    </tr>\n",
       "    <tr>\n",
       "      <th>NM</th>\n",
       "      <td>30</td>\n",
       "      <td>153</td>\n",
       "      <td>16.393443</td>\n",
       "    </tr>\n",
       "    <tr>\n",
       "      <th>NV</th>\n",
       "      <td>108</td>\n",
       "      <td>371</td>\n",
       "      <td>22.546973</td>\n",
       "    </tr>\n",
       "    <tr>\n",
       "      <th>NY</th>\n",
       "      <td>495</td>\n",
       "      <td>3203</td>\n",
       "      <td>13.385614</td>\n",
       "    </tr>\n",
       "    <tr>\n",
       "      <th>OH</th>\n",
       "      <td>155</td>\n",
       "      <td>1023</td>\n",
       "      <td>13.157895</td>\n",
       "    </tr>\n",
       "    <tr>\n",
       "      <th>OK</th>\n",
       "      <td>40</td>\n",
       "      <td>247</td>\n",
       "      <td>13.937282</td>\n",
       "    </tr>\n",
       "    <tr>\n",
       "      <th>OR</th>\n",
       "      <td>71</td>\n",
       "      <td>364</td>\n",
       "      <td>16.321839</td>\n",
       "    </tr>\n",
       "    <tr>\n",
       "      <th>PA</th>\n",
       "      <td>180</td>\n",
       "      <td>1288</td>\n",
       "      <td>12.261580</td>\n",
       "    </tr>\n",
       "    <tr>\n",
       "      <th>RI</th>\n",
       "      <td>25</td>\n",
       "      <td>169</td>\n",
       "      <td>12.886598</td>\n",
       "    </tr>\n",
       "    <tr>\n",
       "      <th>SC</th>\n",
       "      <td>66</td>\n",
       "      <td>393</td>\n",
       "      <td>14.379085</td>\n",
       "    </tr>\n",
       "    <tr>\n",
       "      <th>SD</th>\n",
       "      <td>12</td>\n",
       "      <td>50</td>\n",
       "      <td>19.354839</td>\n",
       "    </tr>\n",
       "    <tr>\n",
       "      <th>TN</th>\n",
       "      <td>2</td>\n",
       "      <td>15</td>\n",
       "      <td>11.764706</td>\n",
       "    </tr>\n",
       "    <tr>\n",
       "      <th>TX</th>\n",
       "      <td>316</td>\n",
       "      <td>2343</td>\n",
       "      <td>11.884167</td>\n",
       "    </tr>\n",
       "    <tr>\n",
       "      <th>UT</th>\n",
       "      <td>40</td>\n",
       "      <td>212</td>\n",
       "      <td>15.873016</td>\n",
       "    </tr>\n",
       "    <tr>\n",
       "      <th>VA</th>\n",
       "      <td>177</td>\n",
       "      <td>1192</td>\n",
       "      <td>12.929145</td>\n",
       "    </tr>\n",
       "    <tr>\n",
       "      <th>VT</th>\n",
       "      <td>6</td>\n",
       "      <td>47</td>\n",
       "      <td>11.320755</td>\n",
       "    </tr>\n",
       "    <tr>\n",
       "      <th>WA</th>\n",
       "      <td>127</td>\n",
       "      <td>691</td>\n",
       "      <td>15.525672</td>\n",
       "    </tr>\n",
       "    <tr>\n",
       "      <th>WI</th>\n",
       "      <td>63</td>\n",
       "      <td>377</td>\n",
       "      <td>14.318182</td>\n",
       "    </tr>\n",
       "    <tr>\n",
       "      <th>WV</th>\n",
       "      <td>21</td>\n",
       "      <td>151</td>\n",
       "      <td>12.209302</td>\n",
       "    </tr>\n",
       "    <tr>\n",
       "      <th>WY</th>\n",
       "      <td>4</td>\n",
       "      <td>76</td>\n",
       "      <td>5.000000</td>\n",
       "    </tr>\n",
       "  </tbody>\n",
       "</table>\n",
       "</div>"
      ],
      "text/plain": [
       "loan_status  Charged Off  Fully Paid  ChargedOffPercent\n",
       "addr_state                                             \n",
       "AK                    15          63          19.230769\n",
       "AL                    54         381          12.413793\n",
       "AR                    27         208          11.489362\n",
       "AZ                   123         726          14.487633\n",
       "CA                  1125        5824          16.189380\n",
       "CO                    98         668          12.793734\n",
       "CT                    94         632          12.947658\n",
       "DC                    15         196           7.109005\n",
       "DE                    12         101          10.619469\n",
       "FL                   504        2277          18.122977\n",
       "GA                   215        1144          15.820456\n",
       "HI                    28         138          16.867470\n",
       "IA                     0           5           0.000000\n",
       "ID                     1           5          16.666667\n",
       "IL                   197        1281          13.328823\n",
       "IN                     0           9           0.000000\n",
       "KS                    31         224          12.156863\n",
       "KY                    45         266          14.469453\n",
       "LA                    53         374          12.412178\n",
       "MA                   159        1138          12.259059\n",
       "MD                   162         861          15.835777\n",
       "ME                     0           3           0.000000\n",
       "MI                   103         601          14.630682\n",
       "MN                    81         524          13.388430\n",
       "MO                   114         556          17.014925\n",
       "MS                     2          17          10.526316\n",
       "MT                    11          72          13.253012\n",
       "NC                   114         636          15.200000\n",
       "NE                     3           2          60.000000\n",
       "NH                    25         141          15.060241\n",
       "NJ                   278        1512          15.530726\n",
       "NM                    30         153          16.393443\n",
       "NV                   108         371          22.546973\n",
       "NY                   495        3203          13.385614\n",
       "OH                   155        1023          13.157895\n",
       "OK                    40         247          13.937282\n",
       "OR                    71         364          16.321839\n",
       "PA                   180        1288          12.261580\n",
       "RI                    25         169          12.886598\n",
       "SC                    66         393          14.379085\n",
       "SD                    12          50          19.354839\n",
       "TN                     2          15          11.764706\n",
       "TX                   316        2343          11.884167\n",
       "UT                    40         212          15.873016\n",
       "VA                   177        1192          12.929145\n",
       "VT                     6          47          11.320755\n",
       "WA                   127         691          15.525672\n",
       "WI                    63         377          14.318182\n",
       "WV                    21         151          12.209302\n",
       "WY                     4          76           5.000000"
      ]
     },
     "execution_count": 190,
     "metadata": {},
     "output_type": "execute_result"
    }
   ],
   "source": [
    "df_state"
   ]
  },
  {
   "cell_type": "code",
   "execution_count": 222,
   "id": "027b94bc-3f6a-4d86-85c6-af3e6cfc4426",
   "metadata": {},
   "outputs": [
    {
     "data": {
      "text/plain": [
       "<matplotlib.lines.Line2D at 0x201a2844310>"
      ]
     },
     "execution_count": 222,
     "metadata": {},
     "output_type": "execute_result"
    },
    {
     "data": {
      "image/png": "[encoded data removed]",
      "text/plain": [
       "<Figure size 1170x827 with 1 Axes>"
      ]
     },
     "metadata": {},
     "output_type": "display_data"
    }
   ],
   "source": [
    "sns.set_theme(rc={'figure.figsize':(11.7,8.27)})\n",
    "stateplot=sns.barplot(x=df_state.index,y=df_state.ChargedOffPercent)\n",
    "stateplot.set_title(\"Percentage of Charged Off loans over different states\")\n",
    "stateplot.set_ylabel(\"Percentage of loans Charged Off\")\n",
    "stateplot.set_xticklabels(labels=df_state.index,rotation=90)\n",
    "stateplot.axhline(y=15,linestyle=\"dashed\")\n"
   ]
  },
  {
   "cell_type": "code",
   "execution_count": null,
   "id": "899945cc-59be-4e67-9a99-9524a8cbc219",
   "metadata": {},
   "outputs": [],
   "source": [
    "#Not considering the states where the total loans sample is very small\n",
    "###Insight8\n",
    "#The percentage of charged off loans is around 15% in most cases except DC-7% and NV-22.5%."
   ]
  },
  {
   "cell_type": "code",
   "execution_count": 191,
   "id": "22b196db-e38b-4c81-a6ed-aa25f2c0e8cf",
   "metadata": {},
   "outputs": [],
   "source": [
    "#The impact of delinq_2yrs on chargedoff loans"
   ]
  },
  {
   "cell_type": "code",
   "execution_count": 195,
   "id": "b11eae89-19a4-4ee7-a842-5c57bedeb369",
   "metadata": {},
   "outputs": [],
   "source": [
    "df_delinq=pd.crosstab(df_clean[\"delinq_2yrs\"],df_clean[\"loan_status\"])"
   ]
  },
  {
   "cell_type": "code",
   "execution_count": 196,
   "id": "d7b74ccb-c721-4b6e-94df-f8ee5fa652c9",
   "metadata": {},
   "outputs": [],
   "source": [
    "df_delinq[\"ChargedOffPercent\"]=df_delinq[\"Charged Off\"]*100/(df_delinq[\"Charged Off\"]+df_delinq[\"Fully Paid\"])"
   ]
  },
  {
   "cell_type": "code",
   "execution_count": 197,
   "id": "07e25bb2-1289-4c96-869f-a8bbe85db367",
   "metadata": {},
   "outputs": [
    {
     "data": {
      "text/html": [
       "<div>\n",
       "<style scoped>\n",
       "    .dataframe tbody tr th:only-of-type {\n",
       "        vertical-align: middle;\n",
       "    }\n",
       "\n",
       "    .dataframe tbody tr th {\n",
       "        vertical-align: top;\n",
       "    }\n",
       "\n",
       "    .dataframe thead th {\n",
       "        text-align: right;\n",
       "    }\n",
       "</style>\n",
       "<table border=\"1\" class=\"dataframe\">\n",
       "  <thead>\n",
       "    <tr style=\"text-align: right;\">\n",
       "      <th>loan_status</th>\n",
       "      <th>Charged Off</th>\n",
       "      <th>Fully Paid</th>\n",
       "      <th>ChargedOffPercent</th>\n",
       "    </tr>\n",
       "    <tr>\n",
       "      <th>delinq_2yrs</th>\n",
       "      <th></th>\n",
       "      <th></th>\n",
       "      <th></th>\n",
       "    </tr>\n",
       "  </thead>\n",
       "  <tbody>\n",
       "    <tr>\n",
       "      <th>0</th>\n",
       "      <td>4936</td>\n",
       "      <td>29450</td>\n",
       "      <td>14.354679</td>\n",
       "    </tr>\n",
       "    <tr>\n",
       "      <th>1</th>\n",
       "      <td>507</td>\n",
       "      <td>2700</td>\n",
       "      <td>15.809167</td>\n",
       "    </tr>\n",
       "    <tr>\n",
       "      <th>2</th>\n",
       "      <td>130</td>\n",
       "      <td>543</td>\n",
       "      <td>19.316493</td>\n",
       "    </tr>\n",
       "    <tr>\n",
       "      <th>3</th>\n",
       "      <td>35</td>\n",
       "      <td>177</td>\n",
       "      <td>16.509434</td>\n",
       "    </tr>\n",
       "    <tr>\n",
       "      <th>4</th>\n",
       "      <td>13</td>\n",
       "      <td>47</td>\n",
       "      <td>21.666667</td>\n",
       "    </tr>\n",
       "    <tr>\n",
       "      <th>5</th>\n",
       "      <td>3</td>\n",
       "      <td>18</td>\n",
       "      <td>14.285714</td>\n",
       "    </tr>\n",
       "    <tr>\n",
       "      <th>6</th>\n",
       "      <td>1</td>\n",
       "      <td>9</td>\n",
       "      <td>10.000000</td>\n",
       "    </tr>\n",
       "    <tr>\n",
       "      <th>7</th>\n",
       "      <td>1</td>\n",
       "      <td>3</td>\n",
       "      <td>25.000000</td>\n",
       "    </tr>\n",
       "    <tr>\n",
       "      <th>8</th>\n",
       "      <td>1</td>\n",
       "      <td>1</td>\n",
       "      <td>50.000000</td>\n",
       "    </tr>\n",
       "    <tr>\n",
       "      <th>9</th>\n",
       "      <td>0</td>\n",
       "      <td>1</td>\n",
       "      <td>0.000000</td>\n",
       "    </tr>\n",
       "    <tr>\n",
       "      <th>11</th>\n",
       "      <td>0</td>\n",
       "      <td>1</td>\n",
       "      <td>0.000000</td>\n",
       "    </tr>\n",
       "  </tbody>\n",
       "</table>\n",
       "</div>"
      ],
      "text/plain": [
       "loan_status  Charged Off  Fully Paid  ChargedOffPercent\n",
       "delinq_2yrs                                            \n",
       "0                   4936       29450          14.354679\n",
       "1                    507        2700          15.809167\n",
       "2                    130         543          19.316493\n",
       "3                     35         177          16.509434\n",
       "4                     13          47          21.666667\n",
       "5                      3          18          14.285714\n",
       "6                      1           9          10.000000\n",
       "7                      1           3          25.000000\n",
       "8                      1           1          50.000000\n",
       "9                      0           1           0.000000\n",
       "11                     0           1           0.000000"
      ]
     },
     "execution_count": 197,
     "metadata": {},
     "output_type": "execute_result"
    }
   ],
   "source": [
    "df_delinq"
   ]
  },
  {
   "cell_type": "code",
   "execution_count": null,
   "id": "3946a260-5e5f-4466-b47a-56cae973ebf7",
   "metadata": {},
   "outputs": [],
   "source": [
    "#Considering only high sample sizes,there is no impact of delinq-2yrs on chargedoff"
   ]
  },
  {
   "cell_type": "code",
   "execution_count": 181,
   "id": "7fd0f9da-bd61-46d3-9527-ae48d04a8206",
   "metadata": {},
   "outputs": [
    {
     "data": {
      "text/plain": [
       "Index(['id', 'member_id', 'loan_amnt', 'funded_amnt', 'funded_amnt_inv',\n",
       "       'term', 'int_rate', 'installment', 'grade', 'sub_grade', 'emp_title',\n",
       "       'emp_length', 'home_ownership', 'annual_inc', 'verification_status',\n",
       "       'issue_d', 'loan_status', 'url', 'purpose', 'title', 'zip_code',\n",
       "       'addr_state', 'dti', 'delinq_2yrs', 'earliest_cr_line',\n",
       "       'inq_last_6mths', 'mths_since_last_delinq', 'open_acc', 'pub_rec',\n",
       "       'revol_bal', 'revol_util', 'total_acc', 'out_prncp', 'out_prncp_inv',\n",
       "       'total_pymnt', 'total_pymnt_inv', 'total_rec_prncp', 'total_rec_int',\n",
       "       'total_rec_late_fee', 'recoveries', 'collection_recovery_fee',\n",
       "       'last_pymnt_d', 'last_pymnt_amnt', 'last_credit_pull_d',\n",
       "       'pub_rec_bankruptcies'],\n",
       "      dtype='object')"
      ]
     },
     "execution_count": 181,
     "metadata": {},
     "output_type": "execute_result"
    }
   ],
   "source": [
    "df_clean.columns"
   ]
  },
  {
   "cell_type": "code",
   "execution_count": null,
   "id": "aef67a21-0f5b-4705-a27b-a38d7aa0eded",
   "metadata": {},
   "outputs": [],
   "source": [
    "#impact of pub_rec(derogatory public records) on chargedoff_loans"
   ]
  },
  {
   "cell_type": "code",
   "execution_count": 199,
   "id": "e9965769-319f-48cd-8180-19cb3afa64a9",
   "metadata": {},
   "outputs": [],
   "source": [
    "df_pubrec=pd.crosstab(df_clean[\"pub_rec\"],df_clean[\"loan_status\"])"
   ]
  },
  {
   "cell_type": "code",
   "execution_count": 200,
   "id": "74f46b74-6d41-466e-a603-2b6858423139",
   "metadata": {},
   "outputs": [],
   "source": [
    "df_pubrec[\"ChargedOffPercent\"]=df_pubrec[\"Charged Off\"]*100/(df_pubrec[\"Charged Off\"]+df_pubrec[\"Fully Paid\"])"
   ]
  },
  {
   "cell_type": "code",
   "execution_count": 201,
   "id": "fc95a08c-d516-4fbe-82a4-4f8cb9226a9b",
   "metadata": {},
   "outputs": [
    {
     "data": {
      "text/html": [
       "<div>\n",
       "<style scoped>\n",
       "    .dataframe tbody tr th:only-of-type {\n",
       "        vertical-align: middle;\n",
       "    }\n",
       "\n",
       "    .dataframe tbody tr th {\n",
       "        vertical-align: top;\n",
       "    }\n",
       "\n",
       "    .dataframe thead th {\n",
       "        text-align: right;\n",
       "    }\n",
       "</style>\n",
       "<table border=\"1\" class=\"dataframe\">\n",
       "  <thead>\n",
       "    <tr style=\"text-align: right;\">\n",
       "      <th>loan_status</th>\n",
       "      <th>Charged Off</th>\n",
       "      <th>Fully Paid</th>\n",
       "      <th>ChargedOffPercent</th>\n",
       "    </tr>\n",
       "    <tr>\n",
       "      <th>pub_rec</th>\n",
       "      <th></th>\n",
       "      <th></th>\n",
       "      <th></th>\n",
       "    </tr>\n",
       "  </thead>\n",
       "  <tbody>\n",
       "    <tr>\n",
       "      <th>0</th>\n",
       "      <td>5160</td>\n",
       "      <td>31347</td>\n",
       "      <td>14.134276</td>\n",
       "    </tr>\n",
       "    <tr>\n",
       "      <th>1</th>\n",
       "      <td>457</td>\n",
       "      <td>1556</td>\n",
       "      <td>22.702434</td>\n",
       "    </tr>\n",
       "    <tr>\n",
       "      <th>2</th>\n",
       "      <td>10</td>\n",
       "      <td>38</td>\n",
       "      <td>20.833333</td>\n",
       "    </tr>\n",
       "    <tr>\n",
       "      <th>3</th>\n",
       "      <td>0</td>\n",
       "      <td>7</td>\n",
       "      <td>0.000000</td>\n",
       "    </tr>\n",
       "    <tr>\n",
       "      <th>4</th>\n",
       "      <td>0</td>\n",
       "      <td>2</td>\n",
       "      <td>0.000000</td>\n",
       "    </tr>\n",
       "  </tbody>\n",
       "</table>\n",
       "</div>"
      ],
      "text/plain": [
       "loan_status  Charged Off  Fully Paid  ChargedOffPercent\n",
       "pub_rec                                                \n",
       "0                   5160       31347          14.134276\n",
       "1                    457        1556          22.702434\n",
       "2                     10          38          20.833333\n",
       "3                      0           7           0.000000\n",
       "4                      0           2           0.000000"
      ]
     },
     "execution_count": 201,
     "metadata": {},
     "output_type": "execute_result"
    }
   ],
   "source": [
    "df_pubrec"
   ]
  },
  {
   "cell_type": "code",
   "execution_count": 224,
   "id": "53278e43-45a2-4240-8b2f-785271d92d30",
   "metadata": {},
   "outputs": [
    {
     "data": {
      "text/plain": [
       "<matplotlib.lines.Line2D at 0x201a2f0ca50>"
      ]
     },
     "execution_count": 224,
     "metadata": {},
     "output_type": "execute_result"
    },
    {
     "data": {
      "image/png": "[encoded data removed]",
      "text/plain": [
       "<Figure size 1170x827 with 1 Axes>"
      ]
     },
     "metadata": {},
     "output_type": "display_data"
    }
   ],
   "source": [
    "pubrecplot=sns.barplot(x=df_pubrec.index,y=df_pubrec.ChargedOffPercent)\n",
    "pubrecplot.set_title(\"Percentage of Charged Off loans over different pub_rec incidences\")\n",
    "pubrecplot.set_ylabel(\"Percentage of loans Charged Off\")\n",
    "pubrecplot.axhline(y=15,linestyle=\"dashed\")\n"
   ]
  },
  {
   "cell_type": "code",
   "execution_count": null,
   "id": "ad7a0a5c-51ba-4801-9bb3-df0854433822",
   "metadata": {},
   "outputs": [],
   "source": [
    "###Insight9\n",
    "#When there is one pubrec,the percent of chargedoff loans is high when compared to average\n",
    "#(The other sample sizes are very small,so not considering them)"
   ]
  },
  {
   "cell_type": "code",
   "execution_count": null,
   "id": "a96213a2-48f3-488f-a735-aa14e3e125a8",
   "metadata": {},
   "outputs": [],
   "source": [
    "#Impact of pub_rec_bankruptcies on chargedoff loans"
   ]
  },
  {
   "cell_type": "code",
   "execution_count": 202,
   "id": "ec0ef5f3-100b-4044-8d94-98e693f50775",
   "metadata": {},
   "outputs": [],
   "source": [
    "df_pubrecbankrupt=pd.crosstab(df_clean[\"pub_rec_bankruptcies\"],df_clean[\"loan_status\"])"
   ]
  },
  {
   "cell_type": "code",
   "execution_count": 203,
   "id": "d0098888-7016-427b-b953-b5f6ac8d3441",
   "metadata": {},
   "outputs": [],
   "source": [
    "df_pubrecbankrupt[\"ChargedOffPercent\"]=df_pubrecbankrupt[\"Charged Off\"]*100/(df_pubrecbankrupt[\"Charged Off\"]+df_pubrecbankrupt[\"Fully Paid\"])"
   ]
  },
  {
   "cell_type": "code",
   "execution_count": 204,
   "id": "1677aaff-5328-4eb9-84f5-1b515f0c02ee",
   "metadata": {},
   "outputs": [
    {
     "data": {
      "text/html": [
       "<div>\n",
       "<style scoped>\n",
       "    .dataframe tbody tr th:only-of-type {\n",
       "        vertical-align: middle;\n",
       "    }\n",
       "\n",
       "    .dataframe tbody tr th {\n",
       "        vertical-align: top;\n",
       "    }\n",
       "\n",
       "    .dataframe thead th {\n",
       "        text-align: right;\n",
       "    }\n",
       "</style>\n",
       "<table border=\"1\" class=\"dataframe\">\n",
       "  <thead>\n",
       "    <tr style=\"text-align: right;\">\n",
       "      <th>loan_status</th>\n",
       "      <th>Charged Off</th>\n",
       "      <th>Fully Paid</th>\n",
       "      <th>ChargedOffPercent</th>\n",
       "    </tr>\n",
       "    <tr>\n",
       "      <th>pub_rec_bankruptcies</th>\n",
       "      <th></th>\n",
       "      <th></th>\n",
       "      <th></th>\n",
       "    </tr>\n",
       "  </thead>\n",
       "  <tbody>\n",
       "    <tr>\n",
       "      <th>0.0</th>\n",
       "      <td>5259</td>\n",
       "      <td>31676</td>\n",
       "      <td>14.238527</td>\n",
       "    </tr>\n",
       "    <tr>\n",
       "      <th>1.0</th>\n",
       "      <td>366</td>\n",
       "      <td>1271</td>\n",
       "      <td>22.357972</td>\n",
       "    </tr>\n",
       "    <tr>\n",
       "      <th>2.0</th>\n",
       "      <td>2</td>\n",
       "      <td>3</td>\n",
       "      <td>40.000000</td>\n",
       "    </tr>\n",
       "  </tbody>\n",
       "</table>\n",
       "</div>"
      ],
      "text/plain": [
       "loan_status           Charged Off  Fully Paid  ChargedOffPercent\n",
       "pub_rec_bankruptcies                                            \n",
       "0.0                          5259       31676          14.238527\n",
       "1.0                           366        1271          22.357972\n",
       "2.0                             2           3          40.000000"
      ]
     },
     "execution_count": 204,
     "metadata": {},
     "output_type": "execute_result"
    }
   ],
   "source": [
    "df_pubrecbankrupt"
   ]
  },
  {
   "cell_type": "code",
   "execution_count": 225,
   "id": "af9bc67c-c41f-4509-9d2f-839ad9283117",
   "metadata": {},
   "outputs": [
    {
     "data": {
      "text/plain": [
       "<matplotlib.lines.Line2D at 0x201a29167d0>"
      ]
     },
     "execution_count": 225,
     "metadata": {},
     "output_type": "execute_result"
    },
    {
     "data": {
      "image/png": "[encoded data removed]",
      "text/plain": [
       "<Figure size 1170x827 with 1 Axes>"
      ]
     },
     "metadata": {},
     "output_type": "display_data"
    }
   ],
   "source": [
    "pubrecbankruptplot=sns.barplot(x=df_pubrecbankrupt.index,y=df_pubrecbankrupt.ChargedOffPercent)\n",
    "pubrecbankruptplot.set_title(\"Percentage of Charged Off loans over different publicly recorded bankruptcies\")\n",
    "pubrecbankruptplot.set_ylabel(\"Percentage of loans Charged Off\")\n",
    "pubrecbankruptplot.axhline(y=15,linestyle=\"dashed\")\n"
   ]
  },
  {
   "cell_type": "code",
   "execution_count": null,
   "id": "b04f1a05-139c-4a49-bc8f-4476541e802a",
   "metadata": {},
   "outputs": [],
   "source": [
    "###Insight10\n",
    "#When there is on pub_rec_bankruptcy,the percent of chargedoff loans is high when compared to average\n",
    "#(The other sample sizes are very small,so not considering them)"
   ]
  },
  {
   "cell_type": "code",
   "execution_count": null,
   "id": "2e1070ef-a901-4edc-a384-55e9fc13ce1a",
   "metadata": {},
   "outputs": [],
   "source": []
  },
  {
   "cell_type": "code",
   "execution_count": null,
   "id": "2635ee89-6336-4e59-a41f-db0e59f447ac",
   "metadata": {},
   "outputs": [],
   "source": []
  },
  {
   "cell_type": "code",
   "execution_count": null,
   "id": "7bf9998e-952b-4d79-a59d-e9379b8488f2",
   "metadata": {},
   "outputs": [],
   "source": []
  },
  {
   "cell_type": "code",
   "execution_count": null,
   "id": "b9c3ad19-c3e1-43be-96b2-438fb4911251",
   "metadata": {},
   "outputs": [],
   "source": []
  },
  {
   "cell_type": "code",
   "execution_count": null,
   "id": "be435d1d-474c-42cd-8ed6-97f1fc8f82fb",
   "metadata": {},
   "outputs": [],
   "source": []
  },
  {
   "cell_type": "code",
   "execution_count": null,
   "id": "2ab70a42-760d-4c02-b118-e568c512b746",
   "metadata": {},
   "outputs": [],
   "source": []
  }
 ],
 "metadata": {
  "kernelspec": {
   "display_name": "Python 3 (ipykernel)",
   "language": "python",
   "name": "python3"
  },
  "language_info": {
   "codemirror_mode": {
    "name": "ipython",
    "version": 3
   },
   "file_extension": ".py",
   "mimetype": "text/x-python",
   "name": "python",
   "nbconvert_exporter": "python",
   "pygments_lexer": "ipython3",
   "version": "3.11.7"
  }
 },
 "nbformat": 4,
 "nbformat_minor": 5
}
