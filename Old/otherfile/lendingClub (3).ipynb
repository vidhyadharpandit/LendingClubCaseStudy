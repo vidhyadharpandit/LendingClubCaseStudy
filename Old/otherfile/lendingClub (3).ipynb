{
 "cells": [
  {
   "cell_type": "markdown",
   "id": "49e469ff-c84b-4389-914f-6fcf494529ce",
   "metadata": {},
   "source": [
    "<h2 style = \"color : Brown\">  Exploratory Data Analysis - Lending Club Case Study </h2>"
   ]
  },
  {
   "cell_type": "code",
   "execution_count": 1,
   "id": "63261679-ed45-4a0b-8c15-5478fdef7c69",
   "metadata": {},
   "outputs": [],
   "source": [
    "#Mention business Case\n",
    "\n",
    "## Mention the column of analysis.. \n"
   ]
  },
  {
   "cell_type": "code",
   "execution_count": 2,
   "id": "9b0508ff-a385-40da-a1c3-06cee30dc62f",
   "metadata": {},
   "outputs": [],
   "source": [
    "#Import modules\n",
    "\n",
    "import pandas as pd\n",
    "import numpy as np\n",
    "import matplotlib.pyplot as plt\n",
    "import plotly.express as px\n",
    "import seaborn as sns\n"
   ]
  },
  {
   "cell_type": "code",
   "execution_count": 3,
   "id": "2914993c-b7fa-498a-bed9-28b37b889b10",
   "metadata": {},
   "outputs": [
    {
     "name": "stderr",
     "output_type": "stream",
     "text": [
      "C:\\Users\\madevada\\AppData\\Local\\Temp\\ipykernel_26836\\156808305.py:2: DtypeWarning: Columns (47) have mixed types. Specify dtype option on import or set low_memory=False.\n",
      "  df = pd.read_csv('loan.csv')\n"
     ]
    }
   ],
   "source": [
    "#Import the data and use the basic commands to understand it\n",
    "df = pd.read_csv('loan.csv')"
   ]
  },
  {
   "cell_type": "code",
   "execution_count": 4,
   "id": "dbeecce3-187a-4b05-8771-00b6652feebb",
   "metadata": {
    "scrolled": true
   },
   "outputs": [
    {
     "name": "stdout",
     "output_type": "stream",
     "text": [
      "<class 'pandas.core.frame.DataFrame'>\n",
      "RangeIndex: 39717 entries, 0 to 39716\n",
      "Columns: 111 entries, id to total_il_high_credit_limit\n",
      "dtypes: float64(74), int64(13), object(24)\n",
      "memory usage: 33.6+ MB\n"
     ]
    }
   ],
   "source": [
    "#Displaying Basic Information About The Dataset\n",
    "df.info()"
   ]
  },
  {
   "cell_type": "code",
   "execution_count": 5,
   "id": "e3b4cdcf-a247-4a68-80cd-c916996613d3",
   "metadata": {},
   "outputs": [
    {
     "data": {
      "text/html": [
       "<div>\n",
       "<style scoped>\n",
       "    .dataframe tbody tr th:only-of-type {\n",
       "        vertical-align: middle;\n",
       "    }\n",
       "\n",
       "    .dataframe tbody tr th {\n",
       "        vertical-align: top;\n",
       "    }\n",
       "\n",
       "    .dataframe thead th {\n",
       "        text-align: right;\n",
       "    }\n",
       "</style>\n",
       "<table border=\"1\" class=\"dataframe\">\n",
       "  <thead>\n",
       "    <tr style=\"text-align: right;\">\n",
       "      <th></th>\n",
       "      <th>id</th>\n",
       "      <th>member_id</th>\n",
       "      <th>loan_amnt</th>\n",
       "      <th>funded_amnt</th>\n",
       "      <th>funded_amnt_inv</th>\n",
       "      <th>term</th>\n",
       "      <th>int_rate</th>\n",
       "      <th>installment</th>\n",
       "      <th>grade</th>\n",
       "      <th>sub_grade</th>\n",
       "      <th>...</th>\n",
       "      <th>num_tl_90g_dpd_24m</th>\n",
       "      <th>num_tl_op_past_12m</th>\n",
       "      <th>pct_tl_nvr_dlq</th>\n",
       "      <th>percent_bc_gt_75</th>\n",
       "      <th>pub_rec_bankruptcies</th>\n",
       "      <th>tax_liens</th>\n",
       "      <th>tot_hi_cred_lim</th>\n",
       "      <th>total_bal_ex_mort</th>\n",
       "      <th>total_bc_limit</th>\n",
       "      <th>total_il_high_credit_limit</th>\n",
       "    </tr>\n",
       "  </thead>\n",
       "  <tbody>\n",
       "    <tr>\n",
       "      <th>0</th>\n",
       "      <td>1077501</td>\n",
       "      <td>1296599</td>\n",
       "      <td>5000</td>\n",
       "      <td>5000</td>\n",
       "      <td>4975.0</td>\n",
       "      <td>36 months</td>\n",
       "      <td>10.65%</td>\n",
       "      <td>162.87</td>\n",
       "      <td>B</td>\n",
       "      <td>B2</td>\n",
       "      <td>...</td>\n",
       "      <td>NaN</td>\n",
       "      <td>NaN</td>\n",
       "      <td>NaN</td>\n",
       "      <td>NaN</td>\n",
       "      <td>0.0</td>\n",
       "      <td>0.0</td>\n",
       "      <td>NaN</td>\n",
       "      <td>NaN</td>\n",
       "      <td>NaN</td>\n",
       "      <td>NaN</td>\n",
       "    </tr>\n",
       "    <tr>\n",
       "      <th>1</th>\n",
       "      <td>1077430</td>\n",
       "      <td>1314167</td>\n",
       "      <td>2500</td>\n",
       "      <td>2500</td>\n",
       "      <td>2500.0</td>\n",
       "      <td>60 months</td>\n",
       "      <td>15.27%</td>\n",
       "      <td>59.83</td>\n",
       "      <td>C</td>\n",
       "      <td>C4</td>\n",
       "      <td>...</td>\n",
       "      <td>NaN</td>\n",
       "      <td>NaN</td>\n",
       "      <td>NaN</td>\n",
       "      <td>NaN</td>\n",
       "      <td>0.0</td>\n",
       "      <td>0.0</td>\n",
       "      <td>NaN</td>\n",
       "      <td>NaN</td>\n",
       "      <td>NaN</td>\n",
       "      <td>NaN</td>\n",
       "    </tr>\n",
       "    <tr>\n",
       "      <th>2</th>\n",
       "      <td>1077175</td>\n",
       "      <td>1313524</td>\n",
       "      <td>2400</td>\n",
       "      <td>2400</td>\n",
       "      <td>2400.0</td>\n",
       "      <td>36 months</td>\n",
       "      <td>15.96%</td>\n",
       "      <td>84.33</td>\n",
       "      <td>C</td>\n",
       "      <td>C5</td>\n",
       "      <td>...</td>\n",
       "      <td>NaN</td>\n",
       "      <td>NaN</td>\n",
       "      <td>NaN</td>\n",
       "      <td>NaN</td>\n",
       "      <td>0.0</td>\n",
       "      <td>0.0</td>\n",
       "      <td>NaN</td>\n",
       "      <td>NaN</td>\n",
       "      <td>NaN</td>\n",
       "      <td>NaN</td>\n",
       "    </tr>\n",
       "  </tbody>\n",
       "</table>\n",
       "<p>3 rows × 111 columns</p>\n",
       "</div>"
      ],
      "text/plain": [
       "        id  member_id  loan_amnt  funded_amnt  funded_amnt_inv        term  \\\n",
       "0  1077501    1296599       5000         5000           4975.0   36 months   \n",
       "1  1077430    1314167       2500         2500           2500.0   60 months   \n",
       "2  1077175    1313524       2400         2400           2400.0   36 months   \n",
       "\n",
       "  int_rate  installment grade sub_grade  ... num_tl_90g_dpd_24m  \\\n",
       "0   10.65%       162.87     B        B2  ...                NaN   \n",
       "1   15.27%        59.83     C        C4  ...                NaN   \n",
       "2   15.96%        84.33     C        C5  ...                NaN   \n",
       "\n",
       "  num_tl_op_past_12m pct_tl_nvr_dlq  percent_bc_gt_75 pub_rec_bankruptcies  \\\n",
       "0                NaN            NaN               NaN                  0.0   \n",
       "1                NaN            NaN               NaN                  0.0   \n",
       "2                NaN            NaN               NaN                  0.0   \n",
       "\n",
       "  tax_liens tot_hi_cred_lim total_bal_ex_mort total_bc_limit  \\\n",
       "0       0.0             NaN               NaN            NaN   \n",
       "1       0.0             NaN               NaN            NaN   \n",
       "2       0.0             NaN               NaN            NaN   \n",
       "\n",
       "  total_il_high_credit_limit  \n",
       "0                        NaN  \n",
       "1                        NaN  \n",
       "2                        NaN  \n",
       "\n",
       "[3 rows x 111 columns]"
      ]
     },
     "execution_count": 5,
     "metadata": {},
     "output_type": "execute_result"
    }
   ],
   "source": [
    "df.head(3)"
   ]
  },
  {
   "cell_type": "code",
   "execution_count": 6,
   "id": "70e97fa6-0155-4092-a56a-94eeeba96d73",
   "metadata": {},
   "outputs": [
    {
     "data": {
      "text/plain": [
       "(39717, 111)"
      ]
     },
     "execution_count": 6,
     "metadata": {},
     "output_type": "execute_result"
    }
   ],
   "source": [
    "#Number Of Rows & Columns\n",
    "df.shape"
   ]
  },
  {
   "cell_type": "markdown",
   "id": "726077f7-d1fa-418f-a449-9f96206d2a3b",
   "metadata": {},
   "source": [
    "<h3 style = \"color : Blue\"> Data Cleaning </h3>   "
   ]
  },
  {
   "cell_type": "code",
   "execution_count": 7,
   "id": "4ef97fa4-d305-4918-80da-f82f24f7a47e",
   "metadata": {},
   "outputs": [],
   "source": [
    "##### Too many columns(111)  -- need to find which ones have proper data and which ones doesnt and will drop them"
   ]
  },
  {
   "cell_type": "markdown",
   "id": "4204aba8-9dba-499d-baa0-b98439b601bd",
   "metadata": {},
   "source": [
    "#### Missing Values identification and Treatment"
   ]
  },
  {
   "cell_type": "markdown",
   "id": "16581bd3-7d96-485c-b63f-892afd875620",
   "metadata": {},
   "source": [
    "Dropping The Variables Which has more than 40% of null values as they do not add much value to EDA"
   ]
  },
  {
   "cell_type": "code",
   "execution_count": 8,
   "id": "d062f1f2-abc3-4a66-b028-97aea423251e",
   "metadata": {},
   "outputs": [],
   "source": [
    "#Calculating The Null Percentage\n",
    "null_percentages = (df.isnull().sum() / len(df)) * 100"
   ]
  },
  {
   "cell_type": "code",
   "execution_count": 9,
   "id": "0fc16688-f6e1-4d33-91e0-a38a0c7d3a1c",
   "metadata": {},
   "outputs": [],
   "source": [
    "#Creating The List of Columns With Less Than 40% Null Values\n",
    "keep_columns=null_percentages[null_percentages <= 40].index"
   ]
  },
  {
   "cell_type": "code",
   "execution_count": 10,
   "id": "4c1877ed-8deb-48f5-b484-cd5a2445b3ea",
   "metadata": {},
   "outputs": [],
   "source": [
    "df = df[keep_columns]"
   ]
  },
  {
   "cell_type": "code",
   "execution_count": 11,
   "id": "7293591b-596f-46f5-a329-eb60d7aac351",
   "metadata": {},
   "outputs": [
    {
     "data": {
      "text/plain": [
       "(39717, 54)"
      ]
     },
     "execution_count": 11,
     "metadata": {},
     "output_type": "execute_result"
    }
   ],
   "source": [
    "df.shape"
   ]
  },
  {
   "cell_type": "code",
   "execution_count": 12,
   "id": "5b3dbb06-aa8a-4f25-9054-5caf2743ab82",
   "metadata": {},
   "outputs": [],
   "source": [
    "df.to_csv('filtered_df.csv')"
   ]
  },
  {
   "cell_type": "code",
   "execution_count": null,
   "id": "51f481ed-4ee2-4f4b-87a4-5daf8619188d",
   "metadata": {},
   "outputs": [],
   "source": []
  },
  {
   "cell_type": "code",
   "execution_count": null,
   "id": "e2a8882c-6b3c-419c-8b05-163837180193",
   "metadata": {},
   "outputs": [],
   "source": []
  },
  {
   "cell_type": "code",
   "execution_count": 13,
   "id": "9970275d-42b4-43ce-ab5d-9b8a1e0ec151",
   "metadata": {},
   "outputs": [
    {
     "name": "stdout",
     "output_type": "stream",
     "text": [
      "<class 'pandas.core.frame.DataFrame'>\n",
      "RangeIndex: 39717 entries, 0 to 39716\n",
      "Data columns (total 54 columns):\n",
      " #   Column                      Non-Null Count  Dtype  \n",
      "---  ------                      --------------  -----  \n",
      " 0   id                          39717 non-null  int64  \n",
      " 1   member_id                   39717 non-null  int64  \n",
      " 2   loan_amnt                   39717 non-null  int64  \n",
      " 3   funded_amnt                 39717 non-null  int64  \n",
      " 4   funded_amnt_inv             39717 non-null  float64\n",
      " 5   term                        39717 non-null  object \n",
      " 6   int_rate                    39717 non-null  object \n",
      " 7   installment                 39717 non-null  float64\n",
      " 8   grade                       39717 non-null  object \n",
      " 9   sub_grade                   39717 non-null  object \n",
      " 10  emp_title                   37258 non-null  object \n",
      " 11  emp_length                  38642 non-null  object \n",
      " 12  home_ownership              39717 non-null  object \n",
      " 13  annual_inc                  39717 non-null  float64\n",
      " 14  verification_status         39717 non-null  object \n",
      " 15  issue_d                     39717 non-null  object \n",
      " 16  loan_status                 39717 non-null  object \n",
      " 17  pymnt_plan                  39717 non-null  object \n",
      " 18  url                         39717 non-null  object \n",
      " 19  desc                        26775 non-null  object \n",
      " 20  purpose                     39717 non-null  object \n",
      " 21  title                       39706 non-null  object \n",
      " 22  zip_code                    39717 non-null  object \n",
      " 23  addr_state                  39717 non-null  object \n",
      " 24  dti                         39717 non-null  float64\n",
      " 25  delinq_2yrs                 39717 non-null  int64  \n",
      " 26  earliest_cr_line            39717 non-null  object \n",
      " 27  inq_last_6mths              39717 non-null  int64  \n",
      " 28  open_acc                    39717 non-null  int64  \n",
      " 29  pub_rec                     39717 non-null  int64  \n",
      " 30  revol_bal                   39717 non-null  int64  \n",
      " 31  revol_util                  39667 non-null  object \n",
      " 32  total_acc                   39717 non-null  int64  \n",
      " 33  initial_list_status         39717 non-null  object \n",
      " 34  out_prncp                   39717 non-null  float64\n",
      " 35  out_prncp_inv               39717 non-null  float64\n",
      " 36  total_pymnt                 39717 non-null  float64\n",
      " 37  total_pymnt_inv             39717 non-null  float64\n",
      " 38  total_rec_prncp             39717 non-null  float64\n",
      " 39  total_rec_int               39717 non-null  float64\n",
      " 40  total_rec_late_fee          39717 non-null  float64\n",
      " 41  recoveries                  39717 non-null  float64\n",
      " 42  collection_recovery_fee     39717 non-null  float64\n",
      " 43  last_pymnt_d                39646 non-null  object \n",
      " 44  last_pymnt_amnt             39717 non-null  float64\n",
      " 45  last_credit_pull_d          39715 non-null  object \n",
      " 46  collections_12_mths_ex_med  39661 non-null  float64\n",
      " 47  policy_code                 39717 non-null  int64  \n",
      " 48  application_type            39717 non-null  object \n",
      " 49  acc_now_delinq              39717 non-null  int64  \n",
      " 50  chargeoff_within_12_mths    39661 non-null  float64\n",
      " 51  delinq_amnt                 39717 non-null  int64  \n",
      " 52  pub_rec_bankruptcies        39020 non-null  float64\n",
      " 53  tax_liens                   39678 non-null  float64\n",
      "dtypes: float64(18), int64(13), object(23)\n",
      "memory usage: 16.4+ MB\n"
     ]
    }
   ],
   "source": [
    "df.info()"
   ]
  },
  {
   "cell_type": "markdown",
   "id": "0340bca5-04da-4e29-846f-f20d00049ee0",
   "metadata": {},
   "source": [
    "#### <font color=\"Green\"> Columns with all zeroes or blanks. "
   ]
  },
  {
   "cell_type": "code",
   "execution_count": 14,
   "id": "7d5a8f34-705d-4d3f-a8cc-69475928001f",
   "metadata": {},
   "outputs": [
    {
     "data": {
      "text/plain": [
       "id                                0\n",
       "member_id                         0\n",
       "loan_amnt                         0\n",
       "funded_amnt                       0\n",
       "funded_amnt_inv                 129\n",
       "term                              0\n",
       "int_rate                          0\n",
       "installment                       0\n",
       "grade                             0\n",
       "sub_grade                         0\n",
       "emp_title                      2459\n",
       "emp_length                     1075\n",
       "home_ownership                    0\n",
       "annual_inc                        0\n",
       "verification_status               0\n",
       "issue_d                           0\n",
       "loan_status                       0\n",
       "pymnt_plan                        0\n",
       "url                               0\n",
       "desc                          12942\n",
       "purpose                           0\n",
       "title                            11\n",
       "zip_code                          0\n",
       "addr_state                        0\n",
       "dti                             183\n",
       "delinq_2yrs                   35405\n",
       "earliest_cr_line                  0\n",
       "inq_last_6mths                19300\n",
       "open_acc                          0\n",
       "pub_rec                       37601\n",
       "revol_bal                       994\n",
       "revol_util                       50\n",
       "total_acc                         0\n",
       "initial_list_status               0\n",
       "out_prncp                     38577\n",
       "out_prncp_inv                 38577\n",
       "total_pymnt                      16\n",
       "total_pymnt_inv                 165\n",
       "total_rec_prncp                  74\n",
       "total_rec_int                    71\n",
       "total_rec_late_fee            37671\n",
       "recoveries                    35499\n",
       "collection_recovery_fee       35935\n",
       "last_pymnt_d                     71\n",
       "last_pymnt_amnt                  74\n",
       "last_credit_pull_d                2\n",
       "collections_12_mths_ex_med    39717\n",
       "policy_code                       0\n",
       "application_type                  0\n",
       "acc_now_delinq                39717\n",
       "chargeoff_within_12_mths      39717\n",
       "delinq_amnt                   39717\n",
       "pub_rec_bankruptcies          38036\n",
       "tax_liens                     39717\n",
       "dtype: int64"
      ]
     },
     "execution_count": 14,
     "metadata": {},
     "output_type": "execute_result"
    }
   ],
   "source": [
    "((df.isnull() | (df == \"\") | (df == 0.0)).sum())"
   ]
  },
  {
   "cell_type": "code",
   "execution_count": 15,
   "id": "fdc8a400-5a81-418a-add7-d26af5bde87f",
   "metadata": {},
   "outputs": [],
   "source": [
    "df1series = ((df.isnull() | (df == \"\") | (df == 0.0)).sum())"
   ]
  },
  {
   "cell_type": "code",
   "execution_count": 16,
   "id": "3ed11658-d225-4fef-be39-33c333dfa91d",
   "metadata": {},
   "outputs": [
    {
     "data": {
      "text/plain": [
       "collections_12_mths_ex_med    39717\n",
       "acc_now_delinq                39717\n",
       "chargeoff_within_12_mths      39717\n",
       "delinq_amnt                   39717\n",
       "tax_liens                     39717\n",
       "dtype: int64"
      ]
     },
     "execution_count": 16,
     "metadata": {},
     "output_type": "execute_result"
    }
   ],
   "source": [
    "df1series[df1series == (df.shape[0])]"
   ]
  },
  {
   "cell_type": "markdown",
   "id": "bab5cf44-624f-4666-b4aa-e56e48941336",
   "metadata": {},
   "source": [
    "#### <font color=\"blue\"> Upon further analysis </font>\n",
    "* pymnt_pln  - n for all\n",
    "* url - constructed with loan id, so can be considered as a duplicate of loan id\n",
    "* initial_list_status - f for all\n",
    "* policy_code  - (1) same for all\n",
    "* application Type - \"Individual\" for all\n",
    "* Columns to be dropped\n",
    "  - pymnt_pln\r\n",
    "  -initial_list_status1\r\n",
    "  policy_code\n",
    "  - application Type\n",
    "  - acc_now_delinq\n",
    "  - delinq_amnt\n",
    "  - tax_liensnt 3\n",
    "d \n",
    "\n"
   ]
  },
  {
   "cell_type": "code",
   "execution_count": 17,
   "id": "a011b5bb-7462-4073-a9c9-6a724b48553a",
   "metadata": {},
   "outputs": [],
   "source": [
    "columns_to_drop = ['pymnt_plan', 'url', 'initial_list_status', 'policy_code', 'application_type', 'collections_12_mths_ex_med', 'acc_now_delinq', 'chargeoff_within_12_mths', 'delinq_amnt', 'tax_liens']"
   ]
  },
  {
   "cell_type": "code",
   "execution_count": 18,
   "id": "6b960cab-c7c7-4432-b514-3c671d43e82c",
   "metadata": {},
   "outputs": [],
   "source": [
    "df.drop(columns_to_drop,  axis=1, inplace=True)"
   ]
  },
  {
   "cell_type": "markdown",
   "id": "906c7070-82b4-4e2a-baa4-a9466bbf10dd",
   "metadata": {},
   "source": [
    "#### Verify missing values in rows"
   ]
  },
  {
   "cell_type": "code",
   "execution_count": 19,
   "id": "ab23e30f-b104-42d8-9350-14c683594f68",
   "metadata": {},
   "outputs": [],
   "source": [
    "nullinrows = (df.isnull().sum(axis=1))"
   ]
  },
  {
   "cell_type": "code",
   "execution_count": 20,
   "id": "ea436228-bd8e-4baf-96c0-70333a07c2af",
   "metadata": {},
   "outputs": [
    {
     "data": {
      "text/plain": [
       "4"
      ]
     },
     "execution_count": 20,
     "metadata": {},
     "output_type": "execute_result"
    }
   ],
   "source": [
    "nullinrows.max()"
   ]
  },
  {
   "cell_type": "markdown",
   "id": "c03d1680-b85d-42a2-b568-ae0fa4658766",
   "metadata": {},
   "source": [
    "#### <font color=\"Green\">  No rows have a lot of nulls"
   ]
  },
  {
   "cell_type": "code",
   "execution_count": 21,
   "id": "b6d0839a-3800-4b77-bcaf-e373e8311acf",
   "metadata": {},
   "outputs": [
    {
     "data": {
      "text/plain": [
       "(39717, 44)"
      ]
     },
     "execution_count": 21,
     "metadata": {},
     "output_type": "execute_result"
    }
   ],
   "source": [
    "df.shape"
   ]
  },
  {
   "cell_type": "code",
   "execution_count": 22,
   "id": "ad80ea50-3673-44fe-aeb9-e1507becdd33",
   "metadata": {},
   "outputs": [
    {
     "data": {
      "text/plain": [
       "Series([], dtype: bool)"
      ]
     },
     "execution_count": 22,
     "metadata": {},
     "output_type": "execute_result"
    }
   ],
   "source": [
    "duplicate_rows = df.duplicated()\n",
    "duplicate_rows[duplicate_rows==True]"
   ]
  },
  {
   "cell_type": "markdown",
   "id": "2f8bb869-57bb-484b-a4da-3233607820f2",
   "metadata": {},
   "source": [
    "#### <font color=\"Green\"> No Duplicates"
   ]
  },
  {
   "cell_type": "code",
   "execution_count": 23,
   "id": "dbcc23e8-25ab-4e69-9a1f-f87f22be790d",
   "metadata": {},
   "outputs": [],
   "source": [
    "### Find out columns with nulls, if less no of rows, will delete those rows. \n",
    "df1nullmean = df.isnull().mean()"
   ]
  },
  {
   "cell_type": "code",
   "execution_count": 24,
   "id": "914b59b1-b27e-4923-a2ad-1fea063d4c68",
   "metadata": {},
   "outputs": [
    {
     "data": {
      "text/plain": [
       "emp_title               0.061913\n",
       "emp_length              0.027066\n",
       "desc                    0.325855\n",
       "title                   0.000277\n",
       "revol_util              0.001259\n",
       "last_pymnt_d            0.001788\n",
       "last_credit_pull_d      0.000050\n",
       "pub_rec_bankruptcies    0.017549\n",
       "dtype: float64"
      ]
     },
     "execution_count": 24,
     "metadata": {},
     "output_type": "execute_result"
    }
   ],
   "source": [
    "df1nullmean[(df1nullmean > 0.0)]"
   ]
  },
  {
   "cell_type": "code",
   "execution_count": 25,
   "id": "beaf264e-6e19-4434-b158-c13da70c9b69",
   "metadata": {},
   "outputs": [
    {
     "data": {
      "text/plain": [
       "emp_title               0.061913\n",
       "emp_length              0.027066\n",
       "title                   0.000277\n",
       "revol_util              0.001259\n",
       "last_pymnt_d            0.001788\n",
       "last_credit_pull_d      0.000050\n",
       "pub_rec_bankruptcies    0.017549\n",
       "dtype: float64"
      ]
     },
     "execution_count": 25,
     "metadata": {},
     "output_type": "execute_result"
    }
   ],
   "source": [
    "df1nullmean[(df1nullmean > 0.0) & (df1nullmean < 0.1)]"
   ]
  },
  {
   "cell_type": "code",
   "execution_count": 26,
   "id": "766a5eaa-bf0b-4513-b70c-0357c48a773c",
   "metadata": {},
   "outputs": [
    {
     "data": {
      "text/plain": [
       "desc    0.325855\n",
       "dtype: float64"
      ]
     },
     "execution_count": 26,
     "metadata": {},
     "output_type": "execute_result"
    }
   ],
   "source": [
    "df1nullmean[(df1nullmean > 0.0) & (df1nullmean > 0.1)]"
   ]
  },
  {
   "cell_type": "code",
   "execution_count": null,
   "id": "6664e48c-5e22-4c22-aafc-1826022b0cb1",
   "metadata": {},
   "outputs": [],
   "source": []
  },
  {
   "cell_type": "markdown",
   "id": "bf9caacd-a62e-401c-8d18-e8d39198207a",
   "metadata": {},
   "source": [
    "#### **Apart from desc lets delete the corresponding rows intead of imputing since that makes a better sense.** </font>\n",
    "########\n",
    "\n"
   ]
  },
  {
   "cell_type": "code",
   "execution_count": 27,
   "id": "6d7c674c-8d61-4f89-a97a-53e8bc03487c",
   "metadata": {},
   "outputs": [],
   "source": [
    "columns_to_check = ['emp_title','emp_length', 'title', 'revol_util', 'last_pymnt_d', 'last_credit_pull_d', 'pub_rec_bankruptcies']"
   ]
  },
  {
   "cell_type": "code",
   "execution_count": 28,
   "id": "1d8ec9e6-ad3b-445c-93ef-0133cd475a69",
   "metadata": {},
   "outputs": [],
   "source": [
    "df.dropna(subset=columns_to_check, how='any', inplace=True)"
   ]
  },
  {
   "cell_type": "code",
   "execution_count": 29,
   "id": "3a5343cf-0c6f-406b-95d9-963b7bee397f",
   "metadata": {},
   "outputs": [
    {
     "data": {
      "text/plain": [
       "desc    0.330113\n",
       "dtype: float64"
      ]
     },
     "execution_count": 29,
     "metadata": {},
     "output_type": "execute_result"
    }
   ],
   "source": [
    "df1nullmean = df.isnull().mean()\n",
    "df1nullmean[(df1nullmean > 0.0)]"
   ]
  },
  {
   "cell_type": "code",
   "execution_count": 30,
   "id": "e51cb7ab-285c-4ddd-a8ef-ef041f64921d",
   "metadata": {},
   "outputs": [],
   "source": [
    "#### **.** </font>\n",
    "########"
   ]
  },
  {
   "cell_type": "code",
   "execution_count": 31,
   "id": "70e47e2b-9c93-40d4-a8a6-352c2845f33c",
   "metadata": {},
   "outputs": [
    {
     "data": {
      "text/plain": [
       "(36433, 44)"
      ]
     },
     "execution_count": 31,
     "metadata": {},
     "output_type": "execute_result"
    }
   ],
   "source": [
    "df.shape"
   ]
  },
  {
   "cell_type": "markdown",
   "id": "7407aa42-8b52-424e-8e73-dd4e09ef8cd1",
   "metadata": {},
   "source": [
    "#### Find blanks"
   ]
  },
  {
   "cell_type": "code",
   "execution_count": 32,
   "id": "e5611e8b-b9b8-4fc2-a837-2a887b1a1d11",
   "metadata": {},
   "outputs": [],
   "source": [
    "blanksum = (df == \"\").sum()"
   ]
  },
  {
   "cell_type": "code",
   "execution_count": 33,
   "id": "ce618d62-9765-4807-8449-800699b3f914",
   "metadata": {},
   "outputs": [
    {
     "data": {
      "text/plain": [
       "Series([], dtype: int64)"
      ]
     },
     "execution_count": 33,
     "metadata": {},
     "output_type": "execute_result"
    }
   ],
   "source": [
    "blanksum[blanksum > 0]"
   ]
  },
  {
   "cell_type": "code",
   "execution_count": 34,
   "id": "0f561308-8f19-40e4-854e-91f32c626dd4",
   "metadata": {},
   "outputs": [
    {
     "data": {
      "text/plain": [
       "(36433, 44)"
      ]
     },
     "execution_count": 34,
     "metadata": {},
     "output_type": "execute_result"
    }
   ],
   "source": [
    "df.shape"
   ]
  },
  {
   "attachments": {},
   "cell_type": "markdown",
   "id": "c5a2a323-ee92-4e36-9cac-0b2e3bc68a53",
   "metadata": {},
   "source": [
    "####  <font color=\"Green\"> **The loan status is the dependent column, which we are analysing against other columns**\n",
    "\n",
    "* Need **Charged Off** and **Fully Paid** rows\n",
    "* rows with loan_status **Current** can be dropped"
   ]
  },
  {
   "cell_type": "code",
   "execution_count": 35,
   "id": "18537294-22c7-4117-ba1c-eddd6f3596c8",
   "metadata": {},
   "outputs": [],
   "source": [
    "df= df[df['loan_status'] != 'Current']"
   ]
  },
  {
   "cell_type": "code",
   "execution_count": 36,
   "id": "1ed288bc-e935-4b7b-869e-ed3924438a8b",
   "metadata": {},
   "outputs": [
    {
     "data": {
      "text/plain": [
       "(35367, 44)"
      ]
     },
     "execution_count": 36,
     "metadata": {},
     "output_type": "execute_result"
    }
   ],
   "source": [
    "df.shape"
   ]
  },
  {
   "cell_type": "markdown",
   "id": "fdbda0e7-d1c0-4d1c-a024-da07edf852f4",
   "metadata": {},
   "source": [
    "####  <font color=\"Green\"> **Impute Values** </font>\n",
    "* Nulls\n",
    "    * desc - fill with 'no description provided'\n",
    "\n",
    "      "
   ]
  },
  {
   "cell_type": "code",
   "execution_count": 37,
   "id": "748fabce-e710-41fd-9be0-1b1860737e8d",
   "metadata": {},
   "outputs": [],
   "source": [
    "#df1.fillna('No description provided', inplace=True)\n",
    "\n",
    "df['desc'] = df['desc'].fillna('No description provided')\n"
   ]
  },
  {
   "cell_type": "code",
   "execution_count": 38,
   "id": "decfbbb6-1d95-4eed-946f-a2d54d22785c",
   "metadata": {},
   "outputs": [
    {
     "data": {
      "text/plain": [
       "id                         0\n",
       "member_id                  0\n",
       "loan_amnt                  0\n",
       "funded_amnt                0\n",
       "funded_amnt_inv            0\n",
       "term                       0\n",
       "int_rate                   0\n",
       "installment                0\n",
       "grade                      0\n",
       "sub_grade                  0\n",
       "emp_title                  0\n",
       "emp_length                 0\n",
       "home_ownership             0\n",
       "annual_inc                 0\n",
       "verification_status        0\n",
       "issue_d                    0\n",
       "loan_status                0\n",
       "desc                       0\n",
       "purpose                    0\n",
       "title                      0\n",
       "zip_code                   0\n",
       "addr_state                 0\n",
       "dti                        0\n",
       "delinq_2yrs                0\n",
       "earliest_cr_line           0\n",
       "inq_last_6mths             0\n",
       "open_acc                   0\n",
       "pub_rec                    0\n",
       "revol_bal                  0\n",
       "revol_util                 0\n",
       "total_acc                  0\n",
       "out_prncp                  0\n",
       "out_prncp_inv              0\n",
       "total_pymnt                0\n",
       "total_pymnt_inv            0\n",
       "total_rec_prncp            0\n",
       "total_rec_int              0\n",
       "total_rec_late_fee         0\n",
       "recoveries                 0\n",
       "collection_recovery_fee    0\n",
       "last_pymnt_d               0\n",
       "last_pymnt_amnt            0\n",
       "last_credit_pull_d         0\n",
       "pub_rec_bankruptcies       0\n",
       "dtype: int64"
      ]
     },
     "execution_count": 38,
     "metadata": {},
     "output_type": "execute_result"
    }
   ],
   "source": [
    "df.isnull().sum()"
   ]
  },
  {
   "cell_type": "code",
   "execution_count": 39,
   "id": "dbcad9a6-da20-48f0-b309-5b8e89da5466",
   "metadata": {},
   "outputs": [],
   "source": [
    "df.to_csv('loancleaned.csv', index=False)\n"
   ]
  },
  {
   "cell_type": "markdown",
   "id": "8c1359a5-de0d-484f-bc80-30749e9e3e4a",
   "metadata": {},
   "source": [
    "####  <font color=\"Green\"> **Standardise** </font>\n",
    "* term to term_months\n",
    "* int_rate and revol_util - remove % \n",
    "* Dates to datetime\n",
    "   * issue_d\n",
    "   * earliest_cr_line\n",
    "   * \n",
    "last_pymn_ \n",
    "   * \r\n",
    "last_credit_pull_d"
   ]
  },
  {
   "cell_type": "code",
   "execution_count": 40,
   "id": "9f46c2f8-bbcb-4466-9153-9c6ccba5cab8",
   "metadata": {},
   "outputs": [
    {
     "data": {
      "text/plain": [
       "<bound method Series.info of 1        60\n",
       "3        36\n",
       "5        36\n",
       "6        60\n",
       "7        36\n",
       "         ..\n",
       "39551    36\n",
       "39562    36\n",
       "39623    36\n",
       "39666    36\n",
       "39680    36\n",
       "Name: term_in_mnths, Length: 35367, dtype: int32>"
      ]
     },
     "execution_count": 40,
     "metadata": {},
     "output_type": "execute_result"
    }
   ],
   "source": [
    "df.rename(columns={'term': 'term_in_mnths'}, inplace=True)\n",
    "# Extract the numerical part and convert to integer\n",
    "df['term_in_mnths'] = df['term_in_mnths'].str.extract('(\\d+)').astype(int)\n",
    "df['term_in_mnths'].info"
   ]
  },
  {
   "cell_type": "code",
   "execution_count": 41,
   "id": "5a95f127-e18c-4d11-8bd7-93ba99bef5a1",
   "metadata": {},
   "outputs": [],
   "source": [
    "df['int_rate'] = df['int_rate'].str.rstrip('%').astype(float)"
   ]
  },
  {
   "cell_type": "code",
   "execution_count": 42,
   "id": "0a71b4c5-dccc-4a06-aca2-a14e4c13f399",
   "metadata": {},
   "outputs": [
    {
     "data": {
      "text/plain": [
       "1    15.27\n",
       "3    13.49\n",
       "5     7.90\n",
       "6    15.96\n",
       "7    18.64\n",
       "Name: int_rate, dtype: float64"
      ]
     },
     "execution_count": 42,
     "metadata": {},
     "output_type": "execute_result"
    }
   ],
   "source": [
    "df['int_rate'].head()"
   ]
  },
  {
   "cell_type": "code",
   "execution_count": 43,
   "id": "a5eb3b4f-4379-4404-a624-c7029377cfff",
   "metadata": {},
   "outputs": [],
   "source": [
    "df['revol_util'] = df['revol_util'].str.rstrip('%').astype(float)"
   ]
  },
  {
   "cell_type": "code",
   "execution_count": 44,
   "id": "ad2ed707-cd4d-49ee-90ca-7793f95729ca",
   "metadata": {},
   "outputs": [
    {
     "data": {
      "text/plain": [
       "1     9.4\n",
       "3    21.0\n",
       "5    28.3\n",
       "6    85.6\n",
       "7    87.5\n",
       "Name: revol_util, dtype: float64"
      ]
     },
     "execution_count": 44,
     "metadata": {},
     "output_type": "execute_result"
    }
   ],
   "source": [
    "df['revol_util'].head()"
   ]
  },
  {
   "cell_type": "code",
   "execution_count": 45,
   "id": "e9022376-d9d1-4ae5-a37c-e3a7ad4ed376",
   "metadata": {},
   "outputs": [
    {
     "data": {
      "text/html": [
       "<div>\n",
       "<style scoped>\n",
       "    .dataframe tbody tr th:only-of-type {\n",
       "        vertical-align: middle;\n",
       "    }\n",
       "\n",
       "    .dataframe tbody tr th {\n",
       "        vertical-align: top;\n",
       "    }\n",
       "\n",
       "    .dataframe thead th {\n",
       "        text-align: right;\n",
       "    }\n",
       "</style>\n",
       "<table border=\"1\" class=\"dataframe\">\n",
       "  <thead>\n",
       "    <tr style=\"text-align: right;\">\n",
       "      <th></th>\n",
       "      <th>id</th>\n",
       "      <th>member_id</th>\n",
       "      <th>loan_amnt</th>\n",
       "      <th>funded_amnt</th>\n",
       "      <th>funded_amnt_inv</th>\n",
       "      <th>term_in_mnths</th>\n",
       "      <th>int_rate</th>\n",
       "      <th>installment</th>\n",
       "      <th>grade</th>\n",
       "      <th>sub_grade</th>\n",
       "      <th>...</th>\n",
       "      <th>total_pymnt_inv</th>\n",
       "      <th>total_rec_prncp</th>\n",
       "      <th>total_rec_int</th>\n",
       "      <th>total_rec_late_fee</th>\n",
       "      <th>recoveries</th>\n",
       "      <th>collection_recovery_fee</th>\n",
       "      <th>last_pymnt_d</th>\n",
       "      <th>last_pymnt_amnt</th>\n",
       "      <th>last_credit_pull_d</th>\n",
       "      <th>pub_rec_bankruptcies</th>\n",
       "    </tr>\n",
       "  </thead>\n",
       "  <tbody>\n",
       "    <tr>\n",
       "      <th>1</th>\n",
       "      <td>1077430</td>\n",
       "      <td>1314167</td>\n",
       "      <td>2500</td>\n",
       "      <td>2500</td>\n",
       "      <td>2500.0</td>\n",
       "      <td>60</td>\n",
       "      <td>15.27</td>\n",
       "      <td>59.83</td>\n",
       "      <td>C</td>\n",
       "      <td>C4</td>\n",
       "      <td>...</td>\n",
       "      <td>1008.71</td>\n",
       "      <td>456.46</td>\n",
       "      <td>435.17</td>\n",
       "      <td>0.00</td>\n",
       "      <td>117.08</td>\n",
       "      <td>1.11</td>\n",
       "      <td>Apr-13</td>\n",
       "      <td>119.66</td>\n",
       "      <td>Sep-13</td>\n",
       "      <td>0.0</td>\n",
       "    </tr>\n",
       "    <tr>\n",
       "      <th>3</th>\n",
       "      <td>1076863</td>\n",
       "      <td>1277178</td>\n",
       "      <td>10000</td>\n",
       "      <td>10000</td>\n",
       "      <td>10000.0</td>\n",
       "      <td>36</td>\n",
       "      <td>13.49</td>\n",
       "      <td>339.31</td>\n",
       "      <td>C</td>\n",
       "      <td>C1</td>\n",
       "      <td>...</td>\n",
       "      <td>12231.89</td>\n",
       "      <td>10000.00</td>\n",
       "      <td>2214.92</td>\n",
       "      <td>16.97</td>\n",
       "      <td>0.00</td>\n",
       "      <td>0.00</td>\n",
       "      <td>Jan-15</td>\n",
       "      <td>357.48</td>\n",
       "      <td>Apr-16</td>\n",
       "      <td>0.0</td>\n",
       "    </tr>\n",
       "    <tr>\n",
       "      <th>5</th>\n",
       "      <td>1075269</td>\n",
       "      <td>1311441</td>\n",
       "      <td>5000</td>\n",
       "      <td>5000</td>\n",
       "      <td>5000.0</td>\n",
       "      <td>36</td>\n",
       "      <td>7.90</td>\n",
       "      <td>156.46</td>\n",
       "      <td>A</td>\n",
       "      <td>A4</td>\n",
       "      <td>...</td>\n",
       "      <td>5632.21</td>\n",
       "      <td>5000.00</td>\n",
       "      <td>632.21</td>\n",
       "      <td>0.00</td>\n",
       "      <td>0.00</td>\n",
       "      <td>0.00</td>\n",
       "      <td>Jan-15</td>\n",
       "      <td>161.03</td>\n",
       "      <td>Jan-16</td>\n",
       "      <td>0.0</td>\n",
       "    </tr>\n",
       "    <tr>\n",
       "      <th>6</th>\n",
       "      <td>1069639</td>\n",
       "      <td>1304742</td>\n",
       "      <td>7000</td>\n",
       "      <td>7000</td>\n",
       "      <td>7000.0</td>\n",
       "      <td>60</td>\n",
       "      <td>15.96</td>\n",
       "      <td>170.08</td>\n",
       "      <td>C</td>\n",
       "      <td>C5</td>\n",
       "      <td>...</td>\n",
       "      <td>10110.84</td>\n",
       "      <td>6985.61</td>\n",
       "      <td>3125.23</td>\n",
       "      <td>0.00</td>\n",
       "      <td>0.00</td>\n",
       "      <td>0.00</td>\n",
       "      <td>May-16</td>\n",
       "      <td>1313.76</td>\n",
       "      <td>May-16</td>\n",
       "      <td>0.0</td>\n",
       "    </tr>\n",
       "    <tr>\n",
       "      <th>7</th>\n",
       "      <td>1072053</td>\n",
       "      <td>1288686</td>\n",
       "      <td>3000</td>\n",
       "      <td>3000</td>\n",
       "      <td>3000.0</td>\n",
       "      <td>36</td>\n",
       "      <td>18.64</td>\n",
       "      <td>109.43</td>\n",
       "      <td>E</td>\n",
       "      <td>E1</td>\n",
       "      <td>...</td>\n",
       "      <td>3939.14</td>\n",
       "      <td>3000.00</td>\n",
       "      <td>939.14</td>\n",
       "      <td>0.00</td>\n",
       "      <td>0.00</td>\n",
       "      <td>0.00</td>\n",
       "      <td>Jan-15</td>\n",
       "      <td>111.34</td>\n",
       "      <td>Dec-14</td>\n",
       "      <td>0.0</td>\n",
       "    </tr>\n",
       "  </tbody>\n",
       "</table>\n",
       "<p>5 rows × 44 columns</p>\n",
       "</div>"
      ],
      "text/plain": [
       "        id  member_id  loan_amnt  funded_amnt  funded_amnt_inv  term_in_mnths  \\\n",
       "1  1077430    1314167       2500         2500           2500.0             60   \n",
       "3  1076863    1277178      10000        10000          10000.0             36   \n",
       "5  1075269    1311441       5000         5000           5000.0             36   \n",
       "6  1069639    1304742       7000         7000           7000.0             60   \n",
       "7  1072053    1288686       3000         3000           3000.0             36   \n",
       "\n",
       "   int_rate  installment grade sub_grade  ... total_pymnt_inv total_rec_prncp  \\\n",
       "1     15.27        59.83     C        C4  ...         1008.71          456.46   \n",
       "3     13.49       339.31     C        C1  ...        12231.89        10000.00   \n",
       "5      7.90       156.46     A        A4  ...         5632.21         5000.00   \n",
       "6     15.96       170.08     C        C5  ...        10110.84         6985.61   \n",
       "7     18.64       109.43     E        E1  ...         3939.14         3000.00   \n",
       "\n",
       "  total_rec_int  total_rec_late_fee recoveries collection_recovery_fee  \\\n",
       "1        435.17                0.00     117.08                    1.11   \n",
       "3       2214.92               16.97       0.00                    0.00   \n",
       "5        632.21                0.00       0.00                    0.00   \n",
       "6       3125.23                0.00       0.00                    0.00   \n",
       "7        939.14                0.00       0.00                    0.00   \n",
       "\n",
       "  last_pymnt_d last_pymnt_amnt last_credit_pull_d pub_rec_bankruptcies  \n",
       "1       Apr-13          119.66             Sep-13                  0.0  \n",
       "3       Jan-15          357.48             Apr-16                  0.0  \n",
       "5       Jan-15          161.03             Jan-16                  0.0  \n",
       "6       May-16         1313.76             May-16                  0.0  \n",
       "7       Jan-15          111.34             Dec-14                  0.0  \n",
       "\n",
       "[5 rows x 44 columns]"
      ]
     },
     "execution_count": 45,
     "metadata": {},
     "output_type": "execute_result"
    }
   ],
   "source": [
    "df.head()"
   ]
  },
  {
   "cell_type": "code",
   "execution_count": 46,
   "id": "f5093b4c-a76d-4228-8db9-40c095795bb8",
   "metadata": {},
   "outputs": [
    {
     "data": {
      "text/plain": [
       "1        Dec-11\n",
       "3        Dec-11\n",
       "5        Dec-11\n",
       "6        Dec-11\n",
       "7        Dec-11\n",
       "          ...  \n",
       "39551    Dec-07\n",
       "39562    Nov-07\n",
       "39623    Oct-07\n",
       "39666    Aug-07\n",
       "39680    Aug-07\n",
       "Name: issue_d, Length: 35367, dtype: object"
      ]
     },
     "execution_count": 46,
     "metadata": {},
     "output_type": "execute_result"
    }
   ],
   "source": [
    "df.issue_d"
   ]
  },
  {
   "cell_type": "code",
   "execution_count": 47,
   "id": "cd276bd5-d02a-41bc-9862-18cedf65f540",
   "metadata": {},
   "outputs": [
    {
     "data": {
      "text/html": [
       "<div>\n",
       "<style scoped>\n",
       "    .dataframe tbody tr th:only-of-type {\n",
       "        vertical-align: middle;\n",
       "    }\n",
       "\n",
       "    .dataframe tbody tr th {\n",
       "        vertical-align: top;\n",
       "    }\n",
       "\n",
       "    .dataframe thead th {\n",
       "        text-align: right;\n",
       "    }\n",
       "</style>\n",
       "<table border=\"1\" class=\"dataframe\">\n",
       "  <thead>\n",
       "    <tr style=\"text-align: right;\">\n",
       "      <th></th>\n",
       "      <th>issue_d</th>\n",
       "      <th>earliest_cr_line</th>\n",
       "      <th>last_pymnt_d</th>\n",
       "      <th>last_credit_pull_d</th>\n",
       "    </tr>\n",
       "  </thead>\n",
       "  <tbody>\n",
       "    <tr>\n",
       "      <th>1</th>\n",
       "      <td>Dec-11</td>\n",
       "      <td>Apr-99</td>\n",
       "      <td>Apr-13</td>\n",
       "      <td>Sep-13</td>\n",
       "    </tr>\n",
       "    <tr>\n",
       "      <th>3</th>\n",
       "      <td>Dec-11</td>\n",
       "      <td>Feb-96</td>\n",
       "      <td>Jan-15</td>\n",
       "      <td>Apr-16</td>\n",
       "    </tr>\n",
       "    <tr>\n",
       "      <th>5</th>\n",
       "      <td>Dec-11</td>\n",
       "      <td>Nov-04</td>\n",
       "      <td>Jan-15</td>\n",
       "      <td>Jan-16</td>\n",
       "    </tr>\n",
       "    <tr>\n",
       "      <th>6</th>\n",
       "      <td>Dec-11</td>\n",
       "      <td>Jul-05</td>\n",
       "      <td>May-16</td>\n",
       "      <td>May-16</td>\n",
       "    </tr>\n",
       "    <tr>\n",
       "      <th>7</th>\n",
       "      <td>Dec-11</td>\n",
       "      <td>Jan-07</td>\n",
       "      <td>Jan-15</td>\n",
       "      <td>Dec-14</td>\n",
       "    </tr>\n",
       "    <tr>\n",
       "      <th>...</th>\n",
       "      <td>...</td>\n",
       "      <td>...</td>\n",
       "      <td>...</td>\n",
       "      <td>...</td>\n",
       "    </tr>\n",
       "    <tr>\n",
       "      <th>39551</th>\n",
       "      <td>Dec-07</td>\n",
       "      <td>Dec-00</td>\n",
       "      <td>Feb-10</td>\n",
       "      <td>May-14</td>\n",
       "    </tr>\n",
       "    <tr>\n",
       "      <th>39562</th>\n",
       "      <td>Nov-07</td>\n",
       "      <td>Mar-00</td>\n",
       "      <td>Aug-08</td>\n",
       "      <td>Aug-08</td>\n",
       "    </tr>\n",
       "    <tr>\n",
       "      <th>39623</th>\n",
       "      <td>Oct-07</td>\n",
       "      <td>Aug-97</td>\n",
       "      <td>May-08</td>\n",
       "      <td>May-16</td>\n",
       "    </tr>\n",
       "    <tr>\n",
       "      <th>39666</th>\n",
       "      <td>Aug-07</td>\n",
       "      <td>Nov-92</td>\n",
       "      <td>Oct-09</td>\n",
       "      <td>Mar-10</td>\n",
       "    </tr>\n",
       "    <tr>\n",
       "      <th>39680</th>\n",
       "      <td>Aug-07</td>\n",
       "      <td>Jul-00</td>\n",
       "      <td>Aug-10</td>\n",
       "      <td>Jul-10</td>\n",
       "    </tr>\n",
       "  </tbody>\n",
       "</table>\n",
       "<p>35367 rows × 4 columns</p>\n",
       "</div>"
      ],
      "text/plain": [
       "      issue_d earliest_cr_line last_pymnt_d last_credit_pull_d\n",
       "1      Dec-11           Apr-99       Apr-13             Sep-13\n",
       "3      Dec-11           Feb-96       Jan-15             Apr-16\n",
       "5      Dec-11           Nov-04       Jan-15             Jan-16\n",
       "6      Dec-11           Jul-05       May-16             May-16\n",
       "7      Dec-11           Jan-07       Jan-15             Dec-14\n",
       "...       ...              ...          ...                ...\n",
       "39551  Dec-07           Dec-00       Feb-10             May-14\n",
       "39562  Nov-07           Mar-00       Aug-08             Aug-08\n",
       "39623  Oct-07           Aug-97       May-08             May-16\n",
       "39666  Aug-07           Nov-92       Oct-09             Mar-10\n",
       "39680  Aug-07           Jul-00       Aug-10             Jul-10\n",
       "\n",
       "[35367 rows x 4 columns]"
      ]
     },
     "execution_count": 47,
     "metadata": {},
     "output_type": "execute_result"
    }
   ],
   "source": [
    "df[['issue_d', 'earliest_cr_line', 'last_pymnt_d', 'last_credit_pull_d']]"
   ]
  },
  {
   "cell_type": "code",
   "execution_count": 48,
   "id": "fb0d55f9-1fd8-48d9-b36b-48c0dc86d3b8",
   "metadata": {},
   "outputs": [],
   "source": [
    "df['issue_d'] = pd.to_datetime(df['issue_d'], format='%b-%y')\n",
    "df['earliest_cr_line'] = pd.to_datetime(df['earliest_cr_line'], format='%b-%y')\n",
    "df['last_pymnt_d'] = pd.to_datetime(df['last_pymnt_d'], format='%b-%y')\n",
    "df['last_credit_pull_d'] = pd.to_datetime(df['last_credit_pull_d'], format='%b-%y')"
   ]
  },
  {
   "cell_type": "code",
   "execution_count": 49,
   "id": "ebe74085-f014-4c1f-b021-a647fd492a98",
   "metadata": {},
   "outputs": [
    {
     "data": {
      "text/html": [
       "<div>\n",
       "<style scoped>\n",
       "    .dataframe tbody tr th:only-of-type {\n",
       "        vertical-align: middle;\n",
       "    }\n",
       "\n",
       "    .dataframe tbody tr th {\n",
       "        vertical-align: top;\n",
       "    }\n",
       "\n",
       "    .dataframe thead th {\n",
       "        text-align: right;\n",
       "    }\n",
       "</style>\n",
       "<table border=\"1\" class=\"dataframe\">\n",
       "  <thead>\n",
       "    <tr style=\"text-align: right;\">\n",
       "      <th></th>\n",
       "      <th>issue_d</th>\n",
       "      <th>earliest_cr_line</th>\n",
       "      <th>last_pymnt_d</th>\n",
       "      <th>last_credit_pull_d</th>\n",
       "    </tr>\n",
       "  </thead>\n",
       "  <tbody>\n",
       "    <tr>\n",
       "      <th>1</th>\n",
       "      <td>2011-12-01</td>\n",
       "      <td>1999-04-01</td>\n",
       "      <td>2013-04-01</td>\n",
       "      <td>2013-09-01</td>\n",
       "    </tr>\n",
       "    <tr>\n",
       "      <th>3</th>\n",
       "      <td>2011-12-01</td>\n",
       "      <td>1996-02-01</td>\n",
       "      <td>2015-01-01</td>\n",
       "      <td>2016-04-01</td>\n",
       "    </tr>\n",
       "    <tr>\n",
       "      <th>5</th>\n",
       "      <td>2011-12-01</td>\n",
       "      <td>2004-11-01</td>\n",
       "      <td>2015-01-01</td>\n",
       "      <td>2016-01-01</td>\n",
       "    </tr>\n",
       "    <tr>\n",
       "      <th>6</th>\n",
       "      <td>2011-12-01</td>\n",
       "      <td>2005-07-01</td>\n",
       "      <td>2016-05-01</td>\n",
       "      <td>2016-05-01</td>\n",
       "    </tr>\n",
       "    <tr>\n",
       "      <th>7</th>\n",
       "      <td>2011-12-01</td>\n",
       "      <td>2007-01-01</td>\n",
       "      <td>2015-01-01</td>\n",
       "      <td>2014-12-01</td>\n",
       "    </tr>\n",
       "    <tr>\n",
       "      <th>...</th>\n",
       "      <td>...</td>\n",
       "      <td>...</td>\n",
       "      <td>...</td>\n",
       "      <td>...</td>\n",
       "    </tr>\n",
       "    <tr>\n",
       "      <th>39551</th>\n",
       "      <td>2007-12-01</td>\n",
       "      <td>2000-12-01</td>\n",
       "      <td>2010-02-01</td>\n",
       "      <td>2014-05-01</td>\n",
       "    </tr>\n",
       "    <tr>\n",
       "      <th>39562</th>\n",
       "      <td>2007-11-01</td>\n",
       "      <td>2000-03-01</td>\n",
       "      <td>2008-08-01</td>\n",
       "      <td>2008-08-01</td>\n",
       "    </tr>\n",
       "    <tr>\n",
       "      <th>39623</th>\n",
       "      <td>2007-10-01</td>\n",
       "      <td>1997-08-01</td>\n",
       "      <td>2008-05-01</td>\n",
       "      <td>2016-05-01</td>\n",
       "    </tr>\n",
       "    <tr>\n",
       "      <th>39666</th>\n",
       "      <td>2007-08-01</td>\n",
       "      <td>1992-11-01</td>\n",
       "      <td>2009-10-01</td>\n",
       "      <td>2010-03-01</td>\n",
       "    </tr>\n",
       "    <tr>\n",
       "      <th>39680</th>\n",
       "      <td>2007-08-01</td>\n",
       "      <td>2000-07-01</td>\n",
       "      <td>2010-08-01</td>\n",
       "      <td>2010-07-01</td>\n",
       "    </tr>\n",
       "  </tbody>\n",
       "</table>\n",
       "<p>35367 rows × 4 columns</p>\n",
       "</div>"
      ],
      "text/plain": [
       "         issue_d earliest_cr_line last_pymnt_d last_credit_pull_d\n",
       "1     2011-12-01       1999-04-01   2013-04-01         2013-09-01\n",
       "3     2011-12-01       1996-02-01   2015-01-01         2016-04-01\n",
       "5     2011-12-01       2004-11-01   2015-01-01         2016-01-01\n",
       "6     2011-12-01       2005-07-01   2016-05-01         2016-05-01\n",
       "7     2011-12-01       2007-01-01   2015-01-01         2014-12-01\n",
       "...          ...              ...          ...                ...\n",
       "39551 2007-12-01       2000-12-01   2010-02-01         2014-05-01\n",
       "39562 2007-11-01       2000-03-01   2008-08-01         2008-08-01\n",
       "39623 2007-10-01       1997-08-01   2008-05-01         2016-05-01\n",
       "39666 2007-08-01       1992-11-01   2009-10-01         2010-03-01\n",
       "39680 2007-08-01       2000-07-01   2010-08-01         2010-07-01\n",
       "\n",
       "[35367 rows x 4 columns]"
      ]
     },
     "execution_count": 49,
     "metadata": {},
     "output_type": "execute_result"
    }
   ],
   "source": [
    "df[['issue_d', 'earliest_cr_line', 'last_pymnt_d', 'last_credit_pull_d']]"
   ]
  },
  {
   "cell_type": "markdown",
   "id": "3d1988f3-467b-4e32-a6dd-16df63354237",
   "metadata": {},
   "source": [
    "#### <font color=\"Green\">**Find Outliers**"
   ]
  },
  {
   "cell_type": "code",
   "execution_count": 50,
   "id": "1c3f84e8-9b8c-4571-85d4-fefb4ae550d6",
   "metadata": {},
   "outputs": [
    {
     "data": {
      "text/html": [
       "<div>\n",
       "<style scoped>\n",
       "    .dataframe tbody tr th:only-of-type {\n",
       "        vertical-align: middle;\n",
       "    }\n",
       "\n",
       "    .dataframe tbody tr th {\n",
       "        vertical-align: top;\n",
       "    }\n",
       "\n",
       "    .dataframe thead th {\n",
       "        text-align: right;\n",
       "    }\n",
       "</style>\n",
       "<table border=\"1\" class=\"dataframe\">\n",
       "  <thead>\n",
       "    <tr style=\"text-align: right;\">\n",
       "      <th></th>\n",
       "      <th>id</th>\n",
       "      <th>member_id</th>\n",
       "      <th>loan_amnt</th>\n",
       "      <th>funded_amnt</th>\n",
       "      <th>funded_amnt_inv</th>\n",
       "      <th>term_in_mnths</th>\n",
       "      <th>int_rate</th>\n",
       "      <th>installment</th>\n",
       "      <th>annual_inc</th>\n",
       "      <th>issue_d</th>\n",
       "      <th>...</th>\n",
       "      <th>total_pymnt_inv</th>\n",
       "      <th>total_rec_prncp</th>\n",
       "      <th>total_rec_int</th>\n",
       "      <th>total_rec_late_fee</th>\n",
       "      <th>recoveries</th>\n",
       "      <th>collection_recovery_fee</th>\n",
       "      <th>last_pymnt_d</th>\n",
       "      <th>last_pymnt_amnt</th>\n",
       "      <th>last_credit_pull_d</th>\n",
       "      <th>pub_rec_bankruptcies</th>\n",
       "    </tr>\n",
       "  </thead>\n",
       "  <tbody>\n",
       "    <tr>\n",
       "      <th>count</th>\n",
       "      <td>3.536700e+04</td>\n",
       "      <td>3.536700e+04</td>\n",
       "      <td>35367.000000</td>\n",
       "      <td>35367.000000</td>\n",
       "      <td>35367.000000</td>\n",
       "      <td>35367.000000</td>\n",
       "      <td>35367.000000</td>\n",
       "      <td>35367.000000</td>\n",
       "      <td>3.536700e+04</td>\n",
       "      <td>35367</td>\n",
       "      <td>...</td>\n",
       "      <td>35367.000000</td>\n",
       "      <td>35367.000000</td>\n",
       "      <td>35367.000000</td>\n",
       "      <td>35367.000000</td>\n",
       "      <td>35367.000000</td>\n",
       "      <td>35367.000000</td>\n",
       "      <td>35367</td>\n",
       "      <td>35367.00000</td>\n",
       "      <td>35367</td>\n",
       "      <td>35367.000000</td>\n",
       "    </tr>\n",
       "    <tr>\n",
       "      <th>mean</th>\n",
       "      <td>6.843436e+05</td>\n",
       "      <td>8.530616e+05</td>\n",
       "      <td>11133.071790</td>\n",
       "      <td>10866.525999</td>\n",
       "      <td>10427.124106</td>\n",
       "      <td>42.100602</td>\n",
       "      <td>11.983468</td>\n",
       "      <td>324.043982</td>\n",
       "      <td>6.909599e+04</td>\n",
       "      <td>2010-11-12 19:16:02.829756672</td>\n",
       "      <td>...</td>\n",
       "      <td>11544.554967</td>\n",
       "      <td>9766.376425</td>\n",
       "      <td>2157.070677</td>\n",
       "      <td>1.306102</td>\n",
       "      <td>95.654256</td>\n",
       "      <td>12.029025</td>\n",
       "      <td>2013-03-27 12:38:00.498769920</td>\n",
       "      <td>2813.59290</td>\n",
       "      <td>2014-09-11 17:46:50.314700032</td>\n",
       "      <td>0.041677</td>\n",
       "    </tr>\n",
       "    <tr>\n",
       "      <th>min</th>\n",
       "      <td>5.574200e+04</td>\n",
       "      <td>1.124930e+05</td>\n",
       "      <td>500.000000</td>\n",
       "      <td>500.000000</td>\n",
       "      <td>0.000000</td>\n",
       "      <td>36.000000</td>\n",
       "      <td>5.420000</td>\n",
       "      <td>16.080000</td>\n",
       "      <td>4.000000e+03</td>\n",
       "      <td>2007-08-01 00:00:00</td>\n",
       "      <td>...</td>\n",
       "      <td>0.000000</td>\n",
       "      <td>0.000000</td>\n",
       "      <td>6.220000</td>\n",
       "      <td>0.000000</td>\n",
       "      <td>0.000000</td>\n",
       "      <td>0.000000</td>\n",
       "      <td>2008-05-01 00:00:00</td>\n",
       "      <td>0.01000</td>\n",
       "      <td>2008-03-01 00:00:00</td>\n",
       "      <td>0.000000</td>\n",
       "    </tr>\n",
       "    <tr>\n",
       "      <th>25%</th>\n",
       "      <td>5.193715e+05</td>\n",
       "      <td>6.709390e+05</td>\n",
       "      <td>5500.000000</td>\n",
       "      <td>5500.000000</td>\n",
       "      <td>5000.000000</td>\n",
       "      <td>36.000000</td>\n",
       "      <td>8.940000</td>\n",
       "      <td>167.840000</td>\n",
       "      <td>4.150000e+04</td>\n",
       "      <td>2010-05-01 00:00:00</td>\n",
       "      <td>...</td>\n",
       "      <td>5321.415000</td>\n",
       "      <td>4750.000000</td>\n",
       "      <td>662.235000</td>\n",
       "      <td>0.000000</td>\n",
       "      <td>0.000000</td>\n",
       "      <td>0.000000</td>\n",
       "      <td>2012-04-01 00:00:00</td>\n",
       "      <td>224.78500</td>\n",
       "      <td>2013-06-01 00:00:00</td>\n",
       "      <td>0.000000</td>\n",
       "    </tr>\n",
       "    <tr>\n",
       "      <th>50%</th>\n",
       "      <td>6.608890e+05</td>\n",
       "      <td>8.450390e+05</td>\n",
       "      <td>10000.000000</td>\n",
       "      <td>9600.000000</td>\n",
       "      <td>9000.000000</td>\n",
       "      <td>36.000000</td>\n",
       "      <td>11.830000</td>\n",
       "      <td>280.620000</td>\n",
       "      <td>6.000000e+04</td>\n",
       "      <td>2011-02-01 00:00:00</td>\n",
       "      <td>...</td>\n",
       "      <td>9395.310000</td>\n",
       "      <td>8000.000000</td>\n",
       "      <td>1331.960000</td>\n",
       "      <td>0.000000</td>\n",
       "      <td>0.000000</td>\n",
       "      <td>0.000000</td>\n",
       "      <td>2013-04-01 00:00:00</td>\n",
       "      <td>602.58000</td>\n",
       "      <td>2015-03-01 00:00:00</td>\n",
       "      <td>0.000000</td>\n",
       "    </tr>\n",
       "    <tr>\n",
       "      <th>75%</th>\n",
       "      <td>8.315200e+05</td>\n",
       "      <td>1.040372e+06</td>\n",
       "      <td>15000.000000</td>\n",
       "      <td>15000.000000</td>\n",
       "      <td>14300.000000</td>\n",
       "      <td>60.000000</td>\n",
       "      <td>14.460000</td>\n",
       "      <td>426.640000</td>\n",
       "      <td>8.250000e+04</td>\n",
       "      <td>2011-08-01 00:00:00</td>\n",
       "      <td>...</td>\n",
       "      <td>15619.810000</td>\n",
       "      <td>13500.000000</td>\n",
       "      <td>2722.910000</td>\n",
       "      <td>0.000000</td>\n",
       "      <td>0.000000</td>\n",
       "      <td>0.000000</td>\n",
       "      <td>2014-05-01 00:00:00</td>\n",
       "      <td>3604.44500</td>\n",
       "      <td>2016-04-01 00:00:00</td>\n",
       "      <td>0.000000</td>\n",
       "    </tr>\n",
       "    <tr>\n",
       "      <th>max</th>\n",
       "      <td>1.077430e+06</td>\n",
       "      <td>1.314167e+06</td>\n",
       "      <td>35000.000000</td>\n",
       "      <td>35000.000000</td>\n",
       "      <td>35000.000000</td>\n",
       "      <td>60.000000</td>\n",
       "      <td>24.400000</td>\n",
       "      <td>1305.190000</td>\n",
       "      <td>6.000000e+06</td>\n",
       "      <td>2011-12-01 00:00:00</td>\n",
       "      <td>...</td>\n",
       "      <td>58563.680000</td>\n",
       "      <td>35000.020000</td>\n",
       "      <td>23563.680000</td>\n",
       "      <td>180.200000</td>\n",
       "      <td>29623.350000</td>\n",
       "      <td>7002.190000</td>\n",
       "      <td>2016-05-01 00:00:00</td>\n",
       "      <td>36115.20000</td>\n",
       "      <td>2016-05-01 00:00:00</td>\n",
       "      <td>2.000000</td>\n",
       "    </tr>\n",
       "    <tr>\n",
       "      <th>std</th>\n",
       "      <td>2.011581e+05</td>\n",
       "      <td>2.525693e+05</td>\n",
       "      <td>7326.233093</td>\n",
       "      <td>7069.586419</td>\n",
       "      <td>6968.341877</td>\n",
       "      <td>10.449890</td>\n",
       "      <td>3.702512</td>\n",
       "      <td>207.149088</td>\n",
       "      <td>6.396705e+04</td>\n",
       "      <td>NaN</td>\n",
       "      <td>...</td>\n",
       "      <td>8671.919254</td>\n",
       "      <td>6998.669475</td>\n",
       "      <td>2410.568245</td>\n",
       "      <td>7.090080</td>\n",
       "      <td>692.056592</td>\n",
       "      <td>142.972962</td>\n",
       "      <td>NaN</td>\n",
       "      <td>4521.49033</td>\n",
       "      <td>NaN</td>\n",
       "      <td>0.200560</td>\n",
       "    </tr>\n",
       "  </tbody>\n",
       "</table>\n",
       "<p>8 rows × 32 columns</p>\n",
       "</div>"
      ],
      "text/plain": [
       "                 id     member_id     loan_amnt   funded_amnt  \\\n",
       "count  3.536700e+04  3.536700e+04  35367.000000  35367.000000   \n",
       "mean   6.843436e+05  8.530616e+05  11133.071790  10866.525999   \n",
       "min    5.574200e+04  1.124930e+05    500.000000    500.000000   \n",
       "25%    5.193715e+05  6.709390e+05   5500.000000   5500.000000   \n",
       "50%    6.608890e+05  8.450390e+05  10000.000000   9600.000000   \n",
       "75%    8.315200e+05  1.040372e+06  15000.000000  15000.000000   \n",
       "max    1.077430e+06  1.314167e+06  35000.000000  35000.000000   \n",
       "std    2.011581e+05  2.525693e+05   7326.233093   7069.586419   \n",
       "\n",
       "       funded_amnt_inv  term_in_mnths      int_rate   installment  \\\n",
       "count     35367.000000   35367.000000  35367.000000  35367.000000   \n",
       "mean      10427.124106      42.100602     11.983468    324.043982   \n",
       "min           0.000000      36.000000      5.420000     16.080000   \n",
       "25%        5000.000000      36.000000      8.940000    167.840000   \n",
       "50%        9000.000000      36.000000     11.830000    280.620000   \n",
       "75%       14300.000000      60.000000     14.460000    426.640000   \n",
       "max       35000.000000      60.000000     24.400000   1305.190000   \n",
       "std        6968.341877      10.449890      3.702512    207.149088   \n",
       "\n",
       "         annual_inc                        issue_d  ...  total_pymnt_inv  \\\n",
       "count  3.536700e+04                          35367  ...     35367.000000   \n",
       "mean   6.909599e+04  2010-11-12 19:16:02.829756672  ...     11544.554967   \n",
       "min    4.000000e+03            2007-08-01 00:00:00  ...         0.000000   \n",
       "25%    4.150000e+04            2010-05-01 00:00:00  ...      5321.415000   \n",
       "50%    6.000000e+04            2011-02-01 00:00:00  ...      9395.310000   \n",
       "75%    8.250000e+04            2011-08-01 00:00:00  ...     15619.810000   \n",
       "max    6.000000e+06            2011-12-01 00:00:00  ...     58563.680000   \n",
       "std    6.396705e+04                            NaN  ...      8671.919254   \n",
       "\n",
       "       total_rec_prncp total_rec_int  total_rec_late_fee    recoveries  \\\n",
       "count     35367.000000  35367.000000        35367.000000  35367.000000   \n",
       "mean       9766.376425   2157.070677            1.306102     95.654256   \n",
       "min           0.000000      6.220000            0.000000      0.000000   \n",
       "25%        4750.000000    662.235000            0.000000      0.000000   \n",
       "50%        8000.000000   1331.960000            0.000000      0.000000   \n",
       "75%       13500.000000   2722.910000            0.000000      0.000000   \n",
       "max       35000.020000  23563.680000          180.200000  29623.350000   \n",
       "std        6998.669475   2410.568245            7.090080    692.056592   \n",
       "\n",
       "       collection_recovery_fee                   last_pymnt_d  \\\n",
       "count             35367.000000                          35367   \n",
       "mean                 12.029025  2013-03-27 12:38:00.498769920   \n",
       "min                   0.000000            2008-05-01 00:00:00   \n",
       "25%                   0.000000            2012-04-01 00:00:00   \n",
       "50%                   0.000000            2013-04-01 00:00:00   \n",
       "75%                   0.000000            2014-05-01 00:00:00   \n",
       "max                7002.190000            2016-05-01 00:00:00   \n",
       "std                 142.972962                            NaN   \n",
       "\n",
       "       last_pymnt_amnt             last_credit_pull_d  pub_rec_bankruptcies  \n",
       "count      35367.00000                          35367          35367.000000  \n",
       "mean        2813.59290  2014-09-11 17:46:50.314700032              0.041677  \n",
       "min            0.01000            2008-03-01 00:00:00              0.000000  \n",
       "25%          224.78500            2013-06-01 00:00:00              0.000000  \n",
       "50%          602.58000            2015-03-01 00:00:00              0.000000  \n",
       "75%         3604.44500            2016-04-01 00:00:00              0.000000  \n",
       "max        36115.20000            2016-05-01 00:00:00              2.000000  \n",
       "std         4521.49033                            NaN              0.200560  \n",
       "\n",
       "[8 rows x 32 columns]"
      ]
     },
     "execution_count": 50,
     "metadata": {},
     "output_type": "execute_result"
    }
   ],
   "source": [
    "df.describe()"
   ]
  },
  {
   "cell_type": "code",
   "execution_count": 65,
   "id": "30cb0c5d-d4d6-4b77-84e1-f3edd3bee7ab",
   "metadata": {},
   "outputs": [
    {
     "data": {
      "text/html": [
       "<div>\n",
       "<style scoped>\n",
       "    .dataframe tbody tr th:only-of-type {\n",
       "        vertical-align: middle;\n",
       "    }\n",
       "\n",
       "    .dataframe tbody tr th {\n",
       "        vertical-align: top;\n",
       "    }\n",
       "\n",
       "    .dataframe thead th {\n",
       "        text-align: right;\n",
       "    }\n",
       "</style>\n",
       "<table border=\"1\" class=\"dataframe\">\n",
       "  <thead>\n",
       "    <tr style=\"text-align: right;\">\n",
       "      <th></th>\n",
       "      <th>id</th>\n",
       "      <th>member_id</th>\n",
       "      <th>loan_amnt</th>\n",
       "      <th>funded_amnt</th>\n",
       "      <th>funded_amnt_inv</th>\n",
       "      <th>term_in_mnths</th>\n",
       "      <th>int_rate</th>\n",
       "      <th>installment</th>\n",
       "      <th>annual_inc</th>\n",
       "      <th>dti</th>\n",
       "      <th>...</th>\n",
       "      <th>out_prncp_inv</th>\n",
       "      <th>total_pymnt</th>\n",
       "      <th>total_pymnt_inv</th>\n",
       "      <th>total_rec_prncp</th>\n",
       "      <th>total_rec_int</th>\n",
       "      <th>total_rec_late_fee</th>\n",
       "      <th>recoveries</th>\n",
       "      <th>collection_recovery_fee</th>\n",
       "      <th>last_pymnt_amnt</th>\n",
       "      <th>pub_rec_bankruptcies</th>\n",
       "    </tr>\n",
       "  </thead>\n",
       "  <tbody>\n",
       "    <tr>\n",
       "      <th>1</th>\n",
       "      <td>1077430</td>\n",
       "      <td>1314167</td>\n",
       "      <td>2500</td>\n",
       "      <td>2500</td>\n",
       "      <td>2500.0</td>\n",
       "      <td>60</td>\n",
       "      <td>15.27</td>\n",
       "      <td>59.83</td>\n",
       "      <td>30000.0</td>\n",
       "      <td>1.00</td>\n",
       "      <td>...</td>\n",
       "      <td>0.0</td>\n",
       "      <td>1008.710000</td>\n",
       "      <td>1008.71</td>\n",
       "      <td>456.46</td>\n",
       "      <td>435.17</td>\n",
       "      <td>0.00</td>\n",
       "      <td>117.08</td>\n",
       "      <td>1.11</td>\n",
       "      <td>119.66</td>\n",
       "      <td>0.0</td>\n",
       "    </tr>\n",
       "    <tr>\n",
       "      <th>3</th>\n",
       "      <td>1076863</td>\n",
       "      <td>1277178</td>\n",
       "      <td>10000</td>\n",
       "      <td>10000</td>\n",
       "      <td>10000.0</td>\n",
       "      <td>36</td>\n",
       "      <td>13.49</td>\n",
       "      <td>339.31</td>\n",
       "      <td>49200.0</td>\n",
       "      <td>20.00</td>\n",
       "      <td>...</td>\n",
       "      <td>0.0</td>\n",
       "      <td>12231.890000</td>\n",
       "      <td>12231.89</td>\n",
       "      <td>10000.00</td>\n",
       "      <td>2214.92</td>\n",
       "      <td>16.97</td>\n",
       "      <td>0.00</td>\n",
       "      <td>0.00</td>\n",
       "      <td>357.48</td>\n",
       "      <td>0.0</td>\n",
       "    </tr>\n",
       "    <tr>\n",
       "      <th>5</th>\n",
       "      <td>1075269</td>\n",
       "      <td>1311441</td>\n",
       "      <td>5000</td>\n",
       "      <td>5000</td>\n",
       "      <td>5000.0</td>\n",
       "      <td>36</td>\n",
       "      <td>7.90</td>\n",
       "      <td>156.46</td>\n",
       "      <td>36000.0</td>\n",
       "      <td>11.20</td>\n",
       "      <td>...</td>\n",
       "      <td>0.0</td>\n",
       "      <td>5632.210000</td>\n",
       "      <td>5632.21</td>\n",
       "      <td>5000.00</td>\n",
       "      <td>632.21</td>\n",
       "      <td>0.00</td>\n",
       "      <td>0.00</td>\n",
       "      <td>0.00</td>\n",
       "      <td>161.03</td>\n",
       "      <td>0.0</td>\n",
       "    </tr>\n",
       "    <tr>\n",
       "      <th>6</th>\n",
       "      <td>1069639</td>\n",
       "      <td>1304742</td>\n",
       "      <td>7000</td>\n",
       "      <td>7000</td>\n",
       "      <td>7000.0</td>\n",
       "      <td>60</td>\n",
       "      <td>15.96</td>\n",
       "      <td>170.08</td>\n",
       "      <td>47004.0</td>\n",
       "      <td>23.51</td>\n",
       "      <td>...</td>\n",
       "      <td>0.0</td>\n",
       "      <td>10110.840000</td>\n",
       "      <td>10110.84</td>\n",
       "      <td>6985.61</td>\n",
       "      <td>3125.23</td>\n",
       "      <td>0.00</td>\n",
       "      <td>0.00</td>\n",
       "      <td>0.00</td>\n",
       "      <td>1313.76</td>\n",
       "      <td>0.0</td>\n",
       "    </tr>\n",
       "    <tr>\n",
       "      <th>7</th>\n",
       "      <td>1072053</td>\n",
       "      <td>1288686</td>\n",
       "      <td>3000</td>\n",
       "      <td>3000</td>\n",
       "      <td>3000.0</td>\n",
       "      <td>36</td>\n",
       "      <td>18.64</td>\n",
       "      <td>109.43</td>\n",
       "      <td>48000.0</td>\n",
       "      <td>5.35</td>\n",
       "      <td>...</td>\n",
       "      <td>0.0</td>\n",
       "      <td>3939.135294</td>\n",
       "      <td>3939.14</td>\n",
       "      <td>3000.00</td>\n",
       "      <td>939.14</td>\n",
       "      <td>0.00</td>\n",
       "      <td>0.00</td>\n",
       "      <td>0.00</td>\n",
       "      <td>111.34</td>\n",
       "      <td>0.0</td>\n",
       "    </tr>\n",
       "    <tr>\n",
       "      <th>...</th>\n",
       "      <td>...</td>\n",
       "      <td>...</td>\n",
       "      <td>...</td>\n",
       "      <td>...</td>\n",
       "      <td>...</td>\n",
       "      <td>...</td>\n",
       "      <td>...</td>\n",
       "      <td>...</td>\n",
       "      <td>...</td>\n",
       "      <td>...</td>\n",
       "      <td>...</td>\n",
       "      <td>...</td>\n",
       "      <td>...</td>\n",
       "      <td>...</td>\n",
       "      <td>...</td>\n",
       "      <td>...</td>\n",
       "      <td>...</td>\n",
       "      <td>...</td>\n",
       "      <td>...</td>\n",
       "      <td>...</td>\n",
       "      <td>...</td>\n",
       "    </tr>\n",
       "    <tr>\n",
       "      <th>39551</th>\n",
       "      <td>158706</td>\n",
       "      <td>158450</td>\n",
       "      <td>12375</td>\n",
       "      <td>12375</td>\n",
       "      <td>1000.0</td>\n",
       "      <td>36</td>\n",
       "      <td>10.91</td>\n",
       "      <td>404.62</td>\n",
       "      <td>80000.0</td>\n",
       "      <td>9.23</td>\n",
       "      <td>...</td>\n",
       "      <td>0.0</td>\n",
       "      <td>14370.922250</td>\n",
       "      <td>1161.29</td>\n",
       "      <td>12375.00</td>\n",
       "      <td>1995.92</td>\n",
       "      <td>0.00</td>\n",
       "      <td>0.00</td>\n",
       "      <td>0.00</td>\n",
       "      <td>4259.11</td>\n",
       "      <td>1.0</td>\n",
       "    </tr>\n",
       "    <tr>\n",
       "      <th>39562</th>\n",
       "      <td>154154</td>\n",
       "      <td>151536</td>\n",
       "      <td>4800</td>\n",
       "      <td>4800</td>\n",
       "      <td>1100.0</td>\n",
       "      <td>36</td>\n",
       "      <td>10.28</td>\n",
       "      <td>155.52</td>\n",
       "      <td>35000.0</td>\n",
       "      <td>7.51</td>\n",
       "      <td>...</td>\n",
       "      <td>0.0</td>\n",
       "      <td>5134.085288</td>\n",
       "      <td>1176.56</td>\n",
       "      <td>4800.00</td>\n",
       "      <td>334.09</td>\n",
       "      <td>0.00</td>\n",
       "      <td>0.00</td>\n",
       "      <td>0.00</td>\n",
       "      <td>3891.08</td>\n",
       "      <td>1.0</td>\n",
       "    </tr>\n",
       "    <tr>\n",
       "      <th>39623</th>\n",
       "      <td>132892</td>\n",
       "      <td>132889</td>\n",
       "      <td>9000</td>\n",
       "      <td>9000</td>\n",
       "      <td>700.0</td>\n",
       "      <td>36</td>\n",
       "      <td>12.49</td>\n",
       "      <td>301.04</td>\n",
       "      <td>39000.0</td>\n",
       "      <td>5.08</td>\n",
       "      <td>...</td>\n",
       "      <td>0.0</td>\n",
       "      <td>4015.960000</td>\n",
       "      <td>311.64</td>\n",
       "      <td>1496.83</td>\n",
       "      <td>609.26</td>\n",
       "      <td>0.00</td>\n",
       "      <td>1909.87</td>\n",
       "      <td>668.36</td>\n",
       "      <td>301.05</td>\n",
       "      <td>1.0</td>\n",
       "    </tr>\n",
       "    <tr>\n",
       "      <th>39666</th>\n",
       "      <td>119043</td>\n",
       "      <td>119040</td>\n",
       "      <td>15450</td>\n",
       "      <td>15450</td>\n",
       "      <td>600.0</td>\n",
       "      <td>36</td>\n",
       "      <td>11.22</td>\n",
       "      <td>507.46</td>\n",
       "      <td>40000.0</td>\n",
       "      <td>13.50</td>\n",
       "      <td>...</td>\n",
       "      <td>0.0</td>\n",
       "      <td>11652.750000</td>\n",
       "      <td>451.73</td>\n",
       "      <td>8688.59</td>\n",
       "      <td>2659.96</td>\n",
       "      <td>0.00</td>\n",
       "      <td>304.20</td>\n",
       "      <td>3.09</td>\n",
       "      <td>1016.15</td>\n",
       "      <td>1.0</td>\n",
       "    </tr>\n",
       "    <tr>\n",
       "      <th>39680</th>\n",
       "      <td>112496</td>\n",
       "      <td>112493</td>\n",
       "      <td>3000</td>\n",
       "      <td>3000</td>\n",
       "      <td>525.0</td>\n",
       "      <td>36</td>\n",
       "      <td>11.86</td>\n",
       "      <td>99.44</td>\n",
       "      <td>36153.0</td>\n",
       "      <td>7.47</td>\n",
       "      <td>...</td>\n",
       "      <td>0.0</td>\n",
       "      <td>3579.662273</td>\n",
       "      <td>626.44</td>\n",
       "      <td>3000.00</td>\n",
       "      <td>579.66</td>\n",
       "      <td>0.00</td>\n",
       "      <td>0.00</td>\n",
       "      <td>0.00</td>\n",
       "      <td>101.51</td>\n",
       "      <td>1.0</td>\n",
       "    </tr>\n",
       "  </tbody>\n",
       "</table>\n",
       "<p>35367 rows × 28 columns</p>\n",
       "</div>"
      ],
      "text/plain": [
       "            id  member_id  loan_amnt  funded_amnt  funded_amnt_inv  \\\n",
       "1      1077430    1314167       2500         2500           2500.0   \n",
       "3      1076863    1277178      10000        10000          10000.0   \n",
       "5      1075269    1311441       5000         5000           5000.0   \n",
       "6      1069639    1304742       7000         7000           7000.0   \n",
       "7      1072053    1288686       3000         3000           3000.0   \n",
       "...        ...        ...        ...          ...              ...   \n",
       "39551   158706     158450      12375        12375           1000.0   \n",
       "39562   154154     151536       4800         4800           1100.0   \n",
       "39623   132892     132889       9000         9000            700.0   \n",
       "39666   119043     119040      15450        15450            600.0   \n",
       "39680   112496     112493       3000         3000            525.0   \n",
       "\n",
       "       term_in_mnths  int_rate  installment  annual_inc    dti  ...  \\\n",
       "1                 60     15.27        59.83     30000.0   1.00  ...   \n",
       "3                 36     13.49       339.31     49200.0  20.00  ...   \n",
       "5                 36      7.90       156.46     36000.0  11.20  ...   \n",
       "6                 60     15.96       170.08     47004.0  23.51  ...   \n",
       "7                 36     18.64       109.43     48000.0   5.35  ...   \n",
       "...              ...       ...          ...         ...    ...  ...   \n",
       "39551             36     10.91       404.62     80000.0   9.23  ...   \n",
       "39562             36     10.28       155.52     35000.0   7.51  ...   \n",
       "39623             36     12.49       301.04     39000.0   5.08  ...   \n",
       "39666             36     11.22       507.46     40000.0  13.50  ...   \n",
       "39680             36     11.86        99.44     36153.0   7.47  ...   \n",
       "\n",
       "       out_prncp_inv   total_pymnt  total_pymnt_inv  total_rec_prncp  \\\n",
       "1                0.0   1008.710000          1008.71           456.46   \n",
       "3                0.0  12231.890000         12231.89         10000.00   \n",
       "5                0.0   5632.210000          5632.21          5000.00   \n",
       "6                0.0  10110.840000         10110.84          6985.61   \n",
       "7                0.0   3939.135294          3939.14          3000.00   \n",
       "...              ...           ...              ...              ...   \n",
       "39551            0.0  14370.922250          1161.29         12375.00   \n",
       "39562            0.0   5134.085288          1176.56          4800.00   \n",
       "39623            0.0   4015.960000           311.64          1496.83   \n",
       "39666            0.0  11652.750000           451.73          8688.59   \n",
       "39680            0.0   3579.662273           626.44          3000.00   \n",
       "\n",
       "       total_rec_int  total_rec_late_fee  recoveries  collection_recovery_fee  \\\n",
       "1             435.17                0.00      117.08                     1.11   \n",
       "3            2214.92               16.97        0.00                     0.00   \n",
       "5             632.21                0.00        0.00                     0.00   \n",
       "6            3125.23                0.00        0.00                     0.00   \n",
       "7             939.14                0.00        0.00                     0.00   \n",
       "...              ...                 ...         ...                      ...   \n",
       "39551        1995.92                0.00        0.00                     0.00   \n",
       "39562         334.09                0.00        0.00                     0.00   \n",
       "39623         609.26                0.00     1909.87                   668.36   \n",
       "39666        2659.96                0.00      304.20                     3.09   \n",
       "39680         579.66                0.00        0.00                     0.00   \n",
       "\n",
       "       last_pymnt_amnt  pub_rec_bankruptcies  \n",
       "1               119.66                   0.0  \n",
       "3               357.48                   0.0  \n",
       "5               161.03                   0.0  \n",
       "6              1313.76                   0.0  \n",
       "7               111.34                   0.0  \n",
       "...                ...                   ...  \n",
       "39551          4259.11                   1.0  \n",
       "39562          3891.08                   1.0  \n",
       "39623           301.05                   1.0  \n",
       "39666          1016.15                   1.0  \n",
       "39680           101.51                   1.0  \n",
       "\n",
       "[35367 rows x 28 columns]"
      ]
     },
     "execution_count": 65,
     "metadata": {},
     "output_type": "execute_result"
    }
   ],
   "source": [
    "df_numeric = df.select_dtypes(include=['float64', 'int'])\n",
    "df_numeric"
   ]
  },
  {
   "cell_type": "code",
   "execution_count": 75,
   "id": "671ade99-7195-44f2-a629-99816fc64060",
   "metadata": {},
   "outputs": [
    {
     "data": {
      "image/png": "[encoded data removed]",
      "text/plain": [
       "<Figure size 800x600 with 1 Axes>"
      ]
     },
     "metadata": {},
     "output_type": "display_data"
    }
   ],
   "source": [
    "plt.figure(figsize=(8, 6))\n",
    "sns.boxplot(data=df_numeric)\n",
    "plt.xticks(rotation=90)\n",
    "plt.title('Box plot of all numeric columns')\n",
    "plt.show()"
   ]
  },
  {
   "cell_type": "code",
   "execution_count": 77,
   "id": "cceca94d-a2cf-41d7-b62e-b40df992b59a",
   "metadata": {},
   "outputs": [
    {
     "data": {
      "text/plain": [
       "count              35,367.00\n",
       "mean               69,095.99\n",
       "std                63,967.05\n",
       "min                 4,000.00\n",
       "25%                41,500.00\n",
       "50%                60,000.00\n",
       "75%                82,500.00\n",
       "max             6,000,000.00\n",
       "Name: annual_inc, dtype: float64"
      ]
     },
     "execution_count": 77,
     "metadata": {},
     "output_type": "execute_result"
    }
   ],
   "source": [
    "## Annual income seems to have a lot of outliers\n",
    "pd.options.display.float_format = '{:20,.2f}'.format\n",
    "df[\"annual_inc\"].describe()"
   ]
  },
  {
   "cell_type": "code",
   "execution_count": 97,
   "id": "7c20fd8d-fffb-440b-ac80-c8a181495457",
   "metadata": {},
   "outputs": [
    {
     "data": {
      "text/plain": [
       "count              35,367.00\n",
       "mean               69,095.99\n",
       "std                63,967.05\n",
       "min                 4,000.00\n",
       "5%                 24,960.00\n",
       "25%                41,500.00\n",
       "50%                60,000.00\n",
       "75%                82,500.00\n",
       "95%               140,000.00\n",
       "98%               182,498.72\n",
       "max             6,000,000.00\n",
       "Name: annual_inc, dtype: float64"
      ]
     },
     "execution_count": 97,
     "metadata": {},
     "output_type": "execute_result"
    }
   ],
   "source": [
    "# This will include the 95th percentile in the summary statistics\n",
    "df['annual_inc'].describe(percentiles=[.05, .25, .5, .75, .95, .98])\n"
   ]
  },
  {
   "cell_type": "code",
   "execution_count": 105,
   "id": "91e60746-bda3-441f-bd3c-73803aa5fa30",
   "metadata": {},
   "outputs": [
    {
     "data": {
      "text/html": [
       "<div>\n",
       "<style scoped>\n",
       "    .dataframe tbody tr th:only-of-type {\n",
       "        vertical-align: middle;\n",
       "    }\n",
       "\n",
       "    .dataframe tbody tr th {\n",
       "        vertical-align: top;\n",
       "    }\n",
       "\n",
       "    .dataframe thead th {\n",
       "        text-align: right;\n",
       "    }\n",
       "</style>\n",
       "<table border=\"1\" class=\"dataframe\">\n",
       "  <thead>\n",
       "    <tr style=\"text-align: right;\">\n",
       "      <th></th>\n",
       "      <th>id</th>\n",
       "      <th>member_id</th>\n",
       "      <th>loan_amnt</th>\n",
       "      <th>funded_amnt</th>\n",
       "      <th>funded_amnt_inv</th>\n",
       "      <th>term_in_mnths</th>\n",
       "      <th>int_rate</th>\n",
       "      <th>installment</th>\n",
       "      <th>grade</th>\n",
       "      <th>sub_grade</th>\n",
       "      <th>...</th>\n",
       "      <th>total_pymnt_inv</th>\n",
       "      <th>total_rec_prncp</th>\n",
       "      <th>total_rec_int</th>\n",
       "      <th>total_rec_late_fee</th>\n",
       "      <th>recoveries</th>\n",
       "      <th>collection_recovery_fee</th>\n",
       "      <th>last_pymnt_d</th>\n",
       "      <th>last_pymnt_amnt</th>\n",
       "      <th>last_credit_pull_d</th>\n",
       "      <th>pub_rec_bankruptcies</th>\n",
       "    </tr>\n",
       "  </thead>\n",
       "  <tbody>\n",
       "    <tr>\n",
       "      <th>170</th>\n",
       "      <td>1067434</td>\n",
       "      <td>1301822</td>\n",
       "      <td>25000</td>\n",
       "      <td>25000</td>\n",
       "      <td>25,000.00</td>\n",
       "      <td>36</td>\n",
       "      <td>12.42</td>\n",
       "      <td>835.39</td>\n",
       "      <td>B</td>\n",
       "      <td>B4</td>\n",
       "      <td>...</td>\n",
       "      <td>30,073.68</td>\n",
       "      <td>25,000.00</td>\n",
       "      <td>5,073.68</td>\n",
       "      <td>0.00</td>\n",
       "      <td>0.00</td>\n",
       "      <td>0.00</td>\n",
       "      <td>2015-01-01</td>\n",
       "      <td>842.08</td>\n",
       "      <td>2014-12-01</td>\n",
       "      <td>0.00</td>\n",
       "    </tr>\n",
       "    <tr>\n",
       "      <th>336</th>\n",
       "      <td>1065110</td>\n",
       "      <td>1299187</td>\n",
       "      <td>35000</td>\n",
       "      <td>23150</td>\n",
       "      <td>21,739.75</td>\n",
       "      <td>60</td>\n",
       "      <td>17.27</td>\n",
       "      <td>578.71</td>\n",
       "      <td>D</td>\n",
       "      <td>D3</td>\n",
       "      <td>...</td>\n",
       "      <td>23,136.20</td>\n",
       "      <td>23,150.00</td>\n",
       "      <td>2,866.92</td>\n",
       "      <td>0.00</td>\n",
       "      <td>0.00</td>\n",
       "      <td>0.00</td>\n",
       "      <td>2012-10-01</td>\n",
       "      <td>21,393.19</td>\n",
       "      <td>2016-05-01</td>\n",
       "      <td>0.00</td>\n",
       "    </tr>\n",
       "    <tr>\n",
       "      <th>392</th>\n",
       "      <td>1064548</td>\n",
       "      <td>1298574</td>\n",
       "      <td>5000</td>\n",
       "      <td>5000</td>\n",
       "      <td>5,000.00</td>\n",
       "      <td>36</td>\n",
       "      <td>6.62</td>\n",
       "      <td>153.52</td>\n",
       "      <td>A</td>\n",
       "      <td>A2</td>\n",
       "      <td>...</td>\n",
       "      <td>5,526.66</td>\n",
       "      <td>5,000.00</td>\n",
       "      <td>526.66</td>\n",
       "      <td>0.00</td>\n",
       "      <td>0.00</td>\n",
       "      <td>0.00</td>\n",
       "      <td>2015-01-01</td>\n",
       "      <td>166.04</td>\n",
       "      <td>2014-12-01</td>\n",
       "      <td>0.00</td>\n",
       "    </tr>\n",
       "    <tr>\n",
       "      <th>567</th>\n",
       "      <td>1062510</td>\n",
       "      <td>1294575</td>\n",
       "      <td>2000</td>\n",
       "      <td>2000</td>\n",
       "      <td>2,000.00</td>\n",
       "      <td>36</td>\n",
       "      <td>9.91</td>\n",
       "      <td>64.45</td>\n",
       "      <td>B</td>\n",
       "      <td>B1</td>\n",
       "      <td>...</td>\n",
       "      <td>2,320.20</td>\n",
       "      <td>2,000.00</td>\n",
       "      <td>320.20</td>\n",
       "      <td>0.00</td>\n",
       "      <td>0.00</td>\n",
       "      <td>0.00</td>\n",
       "      <td>2014-12-01</td>\n",
       "      <td>67.24</td>\n",
       "      <td>2016-05-01</td>\n",
       "      <td>0.00</td>\n",
       "    </tr>\n",
       "    <tr>\n",
       "      <th>717</th>\n",
       "      <td>1060831</td>\n",
       "      <td>1292796</td>\n",
       "      <td>28000</td>\n",
       "      <td>28000</td>\n",
       "      <td>28,000.00</td>\n",
       "      <td>36</td>\n",
       "      <td>15.96</td>\n",
       "      <td>983.85</td>\n",
       "      <td>C</td>\n",
       "      <td>C5</td>\n",
       "      <td>...</td>\n",
       "      <td>34,735.37</td>\n",
       "      <td>28,000.00</td>\n",
       "      <td>6,735.37</td>\n",
       "      <td>0.00</td>\n",
       "      <td>0.00</td>\n",
       "      <td>0.00</td>\n",
       "      <td>2014-02-01</td>\n",
       "      <td>10,164.77</td>\n",
       "      <td>2014-03-01</td>\n",
       "      <td>0.00</td>\n",
       "    </tr>\n",
       "    <tr>\n",
       "      <th>...</th>\n",
       "      <td>...</td>\n",
       "      <td>...</td>\n",
       "      <td>...</td>\n",
       "      <td>...</td>\n",
       "      <td>...</td>\n",
       "      <td>...</td>\n",
       "      <td>...</td>\n",
       "      <td>...</td>\n",
       "      <td>...</td>\n",
       "      <td>...</td>\n",
       "      <td>...</td>\n",
       "      <td>...</td>\n",
       "      <td>...</td>\n",
       "      <td>...</td>\n",
       "      <td>...</td>\n",
       "      <td>...</td>\n",
       "      <td>...</td>\n",
       "      <td>...</td>\n",
       "      <td>...</td>\n",
       "      <td>...</td>\n",
       "      <td>...</td>\n",
       "    </tr>\n",
       "    <tr>\n",
       "      <th>38779</th>\n",
       "      <td>330773</td>\n",
       "      <td>330728</td>\n",
       "      <td>10000</td>\n",
       "      <td>5000</td>\n",
       "      <td>1,525.01</td>\n",
       "      <td>36</td>\n",
       "      <td>10.71</td>\n",
       "      <td>163.01</td>\n",
       "      <td>B</td>\n",
       "      <td>B5</td>\n",
       "      <td>...</td>\n",
       "      <td>646.23</td>\n",
       "      <td>1,623.98</td>\n",
       "      <td>494.89</td>\n",
       "      <td>0.00</td>\n",
       "      <td>0.00</td>\n",
       "      <td>0.00</td>\n",
       "      <td>2009-05-01</td>\n",
       "      <td>163.01</td>\n",
       "      <td>2016-05-01</td>\n",
       "      <td>0.00</td>\n",
       "    </tr>\n",
       "    <tr>\n",
       "      <th>38810</th>\n",
       "      <td>300328</td>\n",
       "      <td>300324</td>\n",
       "      <td>5000</td>\n",
       "      <td>5000</td>\n",
       "      <td>5,000.00</td>\n",
       "      <td>36</td>\n",
       "      <td>7.68</td>\n",
       "      <td>155.95</td>\n",
       "      <td>A</td>\n",
       "      <td>A2</td>\n",
       "      <td>...</td>\n",
       "      <td>5,032.00</td>\n",
       "      <td>5,000.00</td>\n",
       "      <td>32.00</td>\n",
       "      <td>0.00</td>\n",
       "      <td>0.00</td>\n",
       "      <td>0.00</td>\n",
       "      <td>2008-05-01</td>\n",
       "      <td>5,032.00</td>\n",
       "      <td>2008-03-01</td>\n",
       "      <td>0.00</td>\n",
       "    </tr>\n",
       "    <tr>\n",
       "      <th>38883</th>\n",
       "      <td>309059</td>\n",
       "      <td>306632</td>\n",
       "      <td>25000</td>\n",
       "      <td>7850</td>\n",
       "      <td>3,800.00</td>\n",
       "      <td>36</td>\n",
       "      <td>13.24</td>\n",
       "      <td>265.41</td>\n",
       "      <td>D</td>\n",
       "      <td>D3</td>\n",
       "      <td>...</td>\n",
       "      <td>1,330.81</td>\n",
       "      <td>1,877.01</td>\n",
       "      <td>861.52</td>\n",
       "      <td>14.90</td>\n",
       "      <td>0.00</td>\n",
       "      <td>0.00</td>\n",
       "      <td>2009-07-01</td>\n",
       "      <td>103.40</td>\n",
       "      <td>2016-05-01</td>\n",
       "      <td>0.00</td>\n",
       "    </tr>\n",
       "    <tr>\n",
       "      <th>38886</th>\n",
       "      <td>308498</td>\n",
       "      <td>308484</td>\n",
       "      <td>25000</td>\n",
       "      <td>18175</td>\n",
       "      <td>14,903.25</td>\n",
       "      <td>36</td>\n",
       "      <td>10.08</td>\n",
       "      <td>587.14</td>\n",
       "      <td>B</td>\n",
       "      <td>B3</td>\n",
       "      <td>...</td>\n",
       "      <td>17,231.66</td>\n",
       "      <td>18,175.00</td>\n",
       "      <td>2,962.04</td>\n",
       "      <td>0.00</td>\n",
       "      <td>0.00</td>\n",
       "      <td>0.00</td>\n",
       "      <td>2011-04-01</td>\n",
       "      <td>621.31</td>\n",
       "      <td>2011-03-01</td>\n",
       "      <td>0.00</td>\n",
       "    </tr>\n",
       "    <tr>\n",
       "      <th>38950</th>\n",
       "      <td>294684</td>\n",
       "      <td>294681</td>\n",
       "      <td>18000</td>\n",
       "      <td>18000</td>\n",
       "      <td>6,975.00</td>\n",
       "      <td>36</td>\n",
       "      <td>10.39</td>\n",
       "      <td>584.12</td>\n",
       "      <td>B</td>\n",
       "      <td>B4</td>\n",
       "      <td>...</td>\n",
       "      <td>7,139.60</td>\n",
       "      <td>18,000.00</td>\n",
       "      <td>424.66</td>\n",
       "      <td>0.00</td>\n",
       "      <td>0.00</td>\n",
       "      <td>0.00</td>\n",
       "      <td>2009-03-01</td>\n",
       "      <td>586.87</td>\n",
       "      <td>2009-02-01</td>\n",
       "      <td>0.00</td>\n",
       "    </tr>\n",
       "  </tbody>\n",
       "</table>\n",
       "<p>708 rows × 44 columns</p>\n",
       "</div>"
      ],
      "text/plain": [
       "            id  member_id  loan_amnt  funded_amnt      funded_amnt_inv  \\\n",
       "170    1067434    1301822      25000        25000            25,000.00   \n",
       "336    1065110    1299187      35000        23150            21,739.75   \n",
       "392    1064548    1298574       5000         5000             5,000.00   \n",
       "567    1062510    1294575       2000         2000             2,000.00   \n",
       "717    1060831    1292796      28000        28000            28,000.00   \n",
       "...        ...        ...        ...          ...                  ...   \n",
       "38779   330773     330728      10000         5000             1,525.01   \n",
       "38810   300328     300324       5000         5000             5,000.00   \n",
       "38883   309059     306632      25000         7850             3,800.00   \n",
       "38886   308498     308484      25000        18175            14,903.25   \n",
       "38950   294684     294681      18000        18000             6,975.00   \n",
       "\n",
       "       term_in_mnths             int_rate          installment grade  \\\n",
       "170               36                12.42               835.39     B   \n",
       "336               60                17.27               578.71     D   \n",
       "392               36                 6.62               153.52     A   \n",
       "567               36                 9.91                64.45     B   \n",
       "717               36                15.96               983.85     C   \n",
       "...              ...                  ...                  ...   ...   \n",
       "38779             36                10.71               163.01     B   \n",
       "38810             36                 7.68               155.95     A   \n",
       "38883             36                13.24               265.41     D   \n",
       "38886             36                10.08               587.14     B   \n",
       "38950             36                10.39               584.12     B   \n",
       "\n",
       "      sub_grade  ...      total_pymnt_inv      total_rec_prncp  \\\n",
       "170          B4  ...            30,073.68            25,000.00   \n",
       "336          D3  ...            23,136.20            23,150.00   \n",
       "392          A2  ...             5,526.66             5,000.00   \n",
       "567          B1  ...             2,320.20             2,000.00   \n",
       "717          C5  ...            34,735.37            28,000.00   \n",
       "...         ...  ...                  ...                  ...   \n",
       "38779        B5  ...               646.23             1,623.98   \n",
       "38810        A2  ...             5,032.00             5,000.00   \n",
       "38883        D3  ...             1,330.81             1,877.01   \n",
       "38886        B3  ...            17,231.66            18,175.00   \n",
       "38950        B4  ...             7,139.60            18,000.00   \n",
       "\n",
       "             total_rec_int   total_rec_late_fee           recoveries  \\\n",
       "170               5,073.68                 0.00                 0.00   \n",
       "336               2,866.92                 0.00                 0.00   \n",
       "392                 526.66                 0.00                 0.00   \n",
       "567                 320.20                 0.00                 0.00   \n",
       "717               6,735.37                 0.00                 0.00   \n",
       "...                    ...                  ...                  ...   \n",
       "38779               494.89                 0.00                 0.00   \n",
       "38810                32.00                 0.00                 0.00   \n",
       "38883               861.52                14.90                 0.00   \n",
       "38886             2,962.04                 0.00                 0.00   \n",
       "38950               424.66                 0.00                 0.00   \n",
       "\n",
       "      collection_recovery_fee last_pymnt_d      last_pymnt_amnt  \\\n",
       "170                      0.00   2015-01-01               842.08   \n",
       "336                      0.00   2012-10-01            21,393.19   \n",
       "392                      0.00   2015-01-01               166.04   \n",
       "567                      0.00   2014-12-01                67.24   \n",
       "717                      0.00   2014-02-01            10,164.77   \n",
       "...                       ...          ...                  ...   \n",
       "38779                    0.00   2009-05-01               163.01   \n",
       "38810                    0.00   2008-05-01             5,032.00   \n",
       "38883                    0.00   2009-07-01               103.40   \n",
       "38886                    0.00   2011-04-01               621.31   \n",
       "38950                    0.00   2009-03-01               586.87   \n",
       "\n",
       "      last_credit_pull_d pub_rec_bankruptcies  \n",
       "170           2014-12-01                 0.00  \n",
       "336           2016-05-01                 0.00  \n",
       "392           2014-12-01                 0.00  \n",
       "567           2016-05-01                 0.00  \n",
       "717           2014-03-01                 0.00  \n",
       "...                  ...                  ...  \n",
       "38779         2016-05-01                 0.00  \n",
       "38810         2008-03-01                 0.00  \n",
       "38883         2016-05-01                 0.00  \n",
       "38886         2011-03-01                 0.00  \n",
       "38950         2009-02-01                 0.00  \n",
       "\n",
       "[708 rows x 44 columns]"
      ]
     },
     "execution_count": 105,
     "metadata": {},
     "output_type": "execute_result"
    }
   ],
   "source": [
    "df[(df['annual_inc'] > 182499)]"
   ]
  },
  {
   "cell_type": "code",
   "execution_count": 104,
   "id": "065c9a9d-227c-4cbe-ad79-4342c68ddca6",
   "metadata": {},
   "outputs": [
    {
     "name": "stderr",
     "output_type": "stream",
     "text": [
      "C:\\Users\\madevada\\AppData\\Local\\Temp\\ipykernel_26836\\2401560446.py:1: UserWarning: \n",
      "\n",
      "`distplot` is a deprecated function and will be removed in seaborn v0.14.0.\n",
      "\n",
      "Please adapt your code to use either `displot` (a figure-level function with\n",
      "similar flexibility) or `histplot` (an axes-level function for histograms).\n",
      "\n",
      "For a guide to updating your code to use the new functions, please see\n",
      "https://gist.github.com/mwaskom/de44147ed2974457ad6372750bbe5751\n",
      "\n",
      "  sns.distplot(df.annual_inc)\n"
     ]
    },
    {
     "data": {
      "image/png": "[encoded data removed]",
      "text/plain": [
       "<Figure size 640x480 with 1 Axes>"
      ]
     },
     "metadata": {},
     "output_type": "display_data"
    }
   ],
   "source": [
    "sns.distplot(df.annual_inc)\n",
    "plt.show()"
   ]
  },
  {
   "cell_type": "code",
   "execution_count": 106,
   "id": "82528ee8-d94f-46ad-b2ec-2549103eb20e",
   "metadata": {},
   "outputs": [],
   "source": [
    "df = df[(df['annual_inc'] < 182499)]"
   ]
  },
  {
   "cell_type": "code",
   "execution_count": 107,
   "id": "697a3d11-5882-4b9b-b532-395c9e1d0c20",
   "metadata": {},
   "outputs": [
    {
     "data": {
      "text/plain": [
       "(34659, 44)"
      ]
     },
     "execution_count": 107,
     "metadata": {},
     "output_type": "execute_result"
    }
   ],
   "source": [
    "df.shape"
   ]
  },
  {
   "cell_type": "code",
   "execution_count": 108,
   "id": "a69a37b4-6b6d-4a9c-8293-246e3f831115",
   "metadata": {},
   "outputs": [
    {
     "name": "stderr",
     "output_type": "stream",
     "text": [
      "C:\\Users\\madevada\\AppData\\Local\\Temp\\ipykernel_26836\\2401560446.py:1: UserWarning: \n",
      "\n",
      "`distplot` is a deprecated function and will be removed in seaborn v0.14.0.\n",
      "\n",
      "Please adapt your code to use either `displot` (a figure-level function with\n",
      "similar flexibility) or `histplot` (an axes-level function for histograms).\n",
      "\n",
      "For a guide to updating your code to use the new functions, please see\n",
      "https://gist.github.com/mwaskom/de44147ed2974457ad6372750bbe5751\n",
      "\n",
      "  sns.distplot(df.annual_inc)\n"
     ]
    },
    {
     "data": {
      "image/png": "[encoded data removed]",
      "text/plain": [
       "<Figure size 640x480 with 1 Axes>"
      ]
     },
     "metadata": {},
     "output_type": "display_data"
    }
   ],
   "source": [
    "sns.distplot(df.annual_inc)\n",
    "plt.show()"
   ]
  },
  {
   "cell_type": "code",
   "execution_count": 109,
   "id": "d01bf5f7-9b7f-4c72-b10b-2adbe4377457",
   "metadata": {},
   "outputs": [],
   "source": [
    "#Delete 95% lets remove as outliers , since the datapoints looks skewed towards left. \n",
    "df = df[(df['annual_inc'] < 140000)]\n"
   ]
  },
  {
   "cell_type": "code",
   "execution_count": 110,
   "id": "20b206d2-5947-4a7f-9c0a-97f69d0d2dec",
   "metadata": {},
   "outputs": [
    {
     "name": "stderr",
     "output_type": "stream",
     "text": [
      "C:\\Users\\madevada\\AppData\\Local\\Temp\\ipykernel_26836\\2401560446.py:1: UserWarning: \n",
      "\n",
      "`distplot` is a deprecated function and will be removed in seaborn v0.14.0.\n",
      "\n",
      "Please adapt your code to use either `displot` (a figure-level function with\n",
      "similar flexibility) or `histplot` (an axes-level function for histograms).\n",
      "\n",
      "For a guide to updating your code to use the new functions, please see\n",
      "https://gist.github.com/mwaskom/de44147ed2974457ad6372750bbe5751\n",
      "\n",
      "  sns.distplot(df.annual_inc)\n"
     ]
    },
    {
     "data": {
      "image/png": "[encoded data removed]",
      "text/plain": [
       "<Figure size 640x480 with 1 Axes>"
      ]
     },
     "metadata": {},
     "output_type": "display_data"
    }
   ],
   "source": [
    "sns.distplot(df.annual_inc)\n",
    "plt.show()"
   ]
  },
  {
   "cell_type": "code",
   "execution_count": 112,
   "id": "96a9cd4b-5435-4fa9-a8d2-b39163ad46ea",
   "metadata": {},
   "outputs": [
    {
     "data": {
      "text/plain": [
       "count              33,504.00\n",
       "mean               12,356.96\n",
       "std                13,549.61\n",
       "min                     0.00\n",
       "25%                 3,660.75\n",
       "50%                 8,654.00\n",
       "75%                16,231.00\n",
       "max               149,000.00\n",
       "Name: revol_bal, dtype: float64"
      ]
     },
     "execution_count": 112,
     "metadata": {},
     "output_type": "execute_result"
    }
   ],
   "source": [
    "#Checking revol_bal\n",
    "df[\"revol_bal\"].describe()"
   ]
  },
  {
   "cell_type": "code",
   "execution_count": 115,
   "id": "3959068c-b7e4-4d50-9537-602840e8ef92",
   "metadata": {},
   "outputs": [
    {
     "data": {
      "text/plain": [
       "loan_status\n",
       "Fully Paid     7087\n",
       "Charged Off    1287\n",
       "Name: count, dtype: int64"
      ]
     },
     "execution_count": 115,
     "metadata": {},
     "output_type": "execute_result"
    }
   ],
   "source": [
    "df[df['revol_bal'] > 16231].loan_status.value_counts()"
   ]
  },
  {
   "cell_type": "code",
   "execution_count": null,
   "id": "14c0482c-d590-4c20-92c9-e11d99203efe",
   "metadata": {},
   "outputs": [],
   "source": [
    "# impute the revol_bal with median  -- but its zero will it affect the analysis?\n",
    "#"
   ]
  },
  {
   "cell_type": "code",
   "execution_count": null,
   "id": "104674a9-a978-45da-a946-a29310ce32f5",
   "metadata": {},
   "outputs": [],
   "source": [
    "#create issue year column. \n",
    "#create last payment year."
   ]
  },
  {
   "cell_type": "code",
   "execution_count": null,
   "id": "e683ca75-d435-4296-bb8f-68e7cddb2610",
   "metadata": {},
   "outputs": [],
   "source": []
  }
 ],
 "metadata": {
  "kernelspec": {
   "display_name": "Python 3 (ipykernel)",
   "language": "python",
   "name": "python3"
  },
  "language_info": {
   "codemirror_mode": {
    "name": "ipython",
    "version": 3
   },
   "file_extension": ".py",
   "mimetype": "text/x-python",
   "name": "python",
   "nbconvert_exporter": "python",
   "pygments_lexer": "ipython3",
   "version": "3.11.7"
  }
 },
 "nbformat": 4,
 "nbformat_minor": 5
}
